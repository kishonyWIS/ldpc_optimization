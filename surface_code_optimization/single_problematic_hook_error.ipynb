{
 "cells": [
  {
   "cell_type": "code",
   "execution_count": 2,
   "id": "ac8b8c07",
   "metadata": {},
   "outputs": [],
   "source": [
    "from src.interactive_cx_list_optimizer import InteractiveCxListOptimizer\n",
    "from src.cx_list_from_stabilizers_in_sequence import RotatedSurfaceCode\n",
    "from src.circuit_from_cx_list import memory_experiment_circuit_from_cx_list"
   ]
  },
  {
   "cell_type": "code",
   "execution_count": 3,
   "id": "45c7c056",
   "metadata": {},
   "outputs": [],
   "source": [
    "def get_distance(code, cx_list):\n",
    "    ancilla_type, data_mapping, ancilla_mapping, flag_mapping= code.build_mappings()\n",
    "\n",
    "    circ = memory_experiment_circuit_from_cx_list(\n",
    "                    cx_list=cx_list,\n",
    "                    ancilla_type=ancilla_type,\n",
    "                    data_mapping=data_mapping,\n",
    "                    ancilla_mapping=ancilla_mapping,\n",
    "                    flag_mapping=dict(),  # No flag mapping used here\n",
    "                    logicals=code.lz,\n",
    "                    logical_type='Z',\n",
    "                    p_cx=0.01,\n",
    "                    p_idle=0,\n",
    "                    number_of_cycles=5,\n",
    "                    flag=False\n",
    "                    \n",
    "                )\n",
    "    return(len(circ.shortest_graphlike_error()))"
   ]
  },
  {
   "cell_type": "code",
   "execution_count": 4,
   "id": "e8903726",
   "metadata": {},
   "outputs": [
    {
     "name": "stdout",
     "output_type": "stream",
     "text": [
      "5\n"
     ]
    }
   ],
   "source": [
    "code_distance = 5\n",
    "optimal_ordered_code = RotatedSurfaceCode(L=code_distance, ordering='optimal')\n",
    "print(get_distance(optimal_ordered_code, optimal_ordered_code.generate_cx_list()))\n",
    "\n"
   ]
  },
  {
   "cell_type": "code",
   "execution_count": 5,
   "id": "d5946834",
   "metadata": {},
   "outputs": [
    {
     "name": "stdout",
     "output_type": "stream",
     "text": [
      "4\n",
      "[(5, 'X0'), (6, 'X0'), (0, 'X0'), (1, 'X0'), (7, 'X1'), (2, 'X1'), (8, 'X1'), (3, 'X1'), (11, 'X2'), (6, 'X2'), (12, 'X2'), (7, 'X2'), (13, 'X3'), (8, 'X3'), (14, 'X3'), (9, 'X3'), (15, 'X4'), (10, 'X4'), (16, 'X4'), (11, 'X4'), (17, 'X5'), (12, 'X5'), (18, 'X5'), (13, 'X5'), (21, 'X6'), (16, 'X6'), (22, 'X6'), (17, 'X6'), (23, 'X7'), (18, 'X7'), (24, 'X7'), (19, 'X7'), (10, 'X8'), (5, 'X8'), (20, 'X9'), (15, 'X9'), (4, 'X10'), (9, 'X10'), (14, 'X11'), (19, 'X11'), (2, 'Z0'), (1, 'Z0'), (7, 'Z0'), (6, 'Z0'), (4, 'Z1'), (3, 'Z1'), (9, 'Z1'), (8, 'Z1'), (6, 'Z2'), (5, 'Z2'), (11, 'Z2'), (10, 'Z2'), (8, 'Z3'), (7, 'Z3'), (13, 'Z3'), (12, 'Z3'), (12, 'Z4'), (11, 'Z4'), (17, 'Z4'), (16, 'Z4'), (14, 'Z5'), (13, 'Z5'), (19, 'Z5'), (18, 'Z5'), (16, 'Z6'), (15, 'Z6'), (21, 'Z6'), (20, 'Z6'), (18, 'Z7'), (17, 'Z7'), (23, 'Z7'), (22, 'Z7'), (1, 'Z8'), (0, 'Z8'), (3, 'Z9'), (2, 'Z9'), (24, 'Z10'), (23, 'Z10'), (22, 'Z11'), (21, 'Z11')]\n"
     ]
    }
   ],
   "source": [
    "optimal_cx_list = optimal_ordered_code.generate_cx_list()\n",
    "\n",
    "#modify the cx list by swapping two CX gates on the first X stabilizers. This reduces the distance from 5 to 4.\n",
    "modified_cx_list = optimal_cx_list.copy()\n",
    "modified_cx_list[1], modified_cx_list[2] = modified_cx_list[2], modified_cx_list[1]\n",
    "print(get_distance(optimal_ordered_code, modified_cx_list))\n",
    "\n",
    "# modify the x_stabilizers such that generate_cx_list returns the modified cx list\n",
    "optimal_ordered_code.x_stabilizers[0][1], optimal_ordered_code.x_stabilizers[0][2] = optimal_ordered_code.x_stabilizers[0][2], optimal_ordered_code.x_stabilizers[0][1]\n",
    "print(optimal_ordered_code.generate_cx_list())\n"
   ]
  },
  {
   "cell_type": "code",
   "execution_count": 6,
   "id": "c1674890",
   "metadata": {},
   "outputs": [],
   "source": [
    "\n",
    "optimizer_settings = {\n",
    "    \n",
    "    \"code\" : optimal_ordered_code,\n",
    "    \"cycles_with_noise\": 5,\n",
    "    \"p_cx\": 0.01,\n",
    "    \"p_idle\": 0,\n",
    "    \"experiment_type\": \"both\",\n",
    "    \"decoder\": \"pymatching\",\n",
    "}\n",
    "\n",
    "run_optimazation_settings = {\n",
    "    \"max_bp_iterations\": 10,\n",
    "    \"osd_order\": 5,\n",
    "    \"iterations\": 1,\n",
    "    \"max_num_shots\": 10_000,\n",
    "    \"max_num_errors\": 1000,\n",
    "\n",
    "}"
   ]
  },
  {
   "cell_type": "code",
   "execution_count": 7,
   "id": "9847a702",
   "metadata": {},
   "outputs": [],
   "source": [
    "flag_optimizer = InteractiveCxListOptimizer(\n",
    "    **optimizer_settings\n",
    ")"
   ]
  },
  {
   "cell_type": "code",
   "execution_count": 20,
   "id": "cf8de24a",
   "metadata": {},
   "outputs": [
    {
     "name": "stdout",
     "output_type": "stream",
     "text": [
      "iteration 0\n",
      "Changed: (5, 'X0') -> (1, 'X0')\n",
      "Changed: (6, 'X0') -> (0, 'X0')\n",
      "Changed: (0, 'X0') -> (5, 'X0')\n",
      "Changed: (1, 'X0') -> (6, 'X0')\n",
      "n_times_flagged: [13, 16, 0, 0, 17, 15, 15, 18, 15, 21, 0, 0, 16, 11, 0, 0, 16, 21, 25, 24, 6, 23, 0, 0]\n",
      "n_times_flagged: [61, 26, 0, 0, 26, 22, 28, 31, 24, 16, 0, 0, 19, 28, 0, 0, 10, 23, 31, 21, 12, 22, 0, 0]\n",
      "Iteration 0: improved objective to 0.053443257417358\n"
     ]
    }
   ],
   "source": [
    "# The first iteration reoders X0 CNOTs\n",
    "flag_optimizer.run_optimization(**run_optimazation_settings,\n",
    "                            flags=True,\n",
    "                            step_type='single_stabilizer')"
   ]
  },
  {
   "cell_type": "code",
   "execution_count": null,
   "id": "38734b64",
   "metadata": {},
   "outputs": [],
   "source": []
  }
 ],
 "metadata": {
  "kernelspec": {
   "display_name": ".venv",
   "language": "python",
   "name": "python3"
  },
  "language_info": {
   "codemirror_mode": {
    "name": "ipython",
    "version": 3
   },
   "file_extension": ".py",
   "mimetype": "text/x-python",
   "name": "python",
   "nbconvert_exporter": "python",
   "pygments_lexer": "ipython3",
   "version": "3.11.5"
  }
 },
 "nbformat": 4,
 "nbformat_minor": 5
}
