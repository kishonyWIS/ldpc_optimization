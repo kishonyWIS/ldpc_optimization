{
 "cells": [
  {
   "cell_type": "code",
   "execution_count": 1,
   "id": "2b30934c",
   "metadata": {
    "ExecuteTime": {
     "end_time": "2025-04-17T11:47:07.465360Z",
     "start_time": "2025-04-17T11:47:05.315002Z"
    }
   },
   "outputs": [],
   "source": [
    "from src.interactive_cx_list_optimizer import InteractiveCxListOptimizer\n",
    "from src.cx_list_from_stabilizers_in_sequence import RotatedSurfaceCode\n",
    "from src.circuit_from_cx_list import memory_experiment_circuit_from_cx_list\n"
   ]
  },
  {
   "cell_type": "code",
   "execution_count": 2,
   "id": "6b9690ec",
   "metadata": {},
   "outputs": [],
   "source": [
    "def get_distance(code):\n",
    "    cx_list = code.generate_cx_list()\n",
    "    ancilla_type, data_mapping, ancilla_mapping, flag_mapping= code.build_mappings()\n",
    "\n",
    "    circ = memory_experiment_circuit_from_cx_list(\n",
    "                    cx_list=cx_list,\n",
    "                    ancilla_type=ancilla_type,\n",
    "                    data_mapping=data_mapping,\n",
    "                    ancilla_mapping=ancilla_mapping,\n",
    "                    flag_mapping=dict(),  # No flag mapping used here\n",
    "                    logicals=code.lz,\n",
    "                    logical_type='Z',\n",
    "                    p_cx=0.01,\n",
    "                    p_idle=0,\n",
    "                    number_of_cycles=5,\n",
    "                    flag=False\n",
    "                    \n",
    "                )\n",
    "    return(len(circ.shortest_graphlike_error()))\n"
   ]
  },
  {
   "cell_type": "code",
   "execution_count": 3,
   "id": "1a324fa7",
   "metadata": {},
   "outputs": [
    {
     "name": "stdout",
     "output_type": "stream",
     "text": [
      "Distance of the code is:  3\n",
      "Distance of the code is:  5\n"
     ]
    }
   ],
   "source": [
    "import numpy as np\n",
    "\n",
    "np.random.seed(42)\n",
    "random_ordered_code = RotatedSurfaceCode(L=5, ordering=\"random\")\n",
    "print(\"Distance of the code is: \", get_distance(random_ordered_code))\n",
    "\n",
    "optimal_ordered_code = RotatedSurfaceCode(L=5, ordering='optimal')\n",
    "print(\"Distance of the code is: \", get_distance(optimal_ordered_code))\n",
    "\n",
    "optimizer_settings = {\n",
    "    \"code\" : random_ordered_code,\n",
    "    \"cycles_with_noise\": 5,\n",
    "    \"p_cx\": 0.01,\n",
    "    \"p_idle\": 0,\n",
    "    \"experiment_type\": \"both\",\n",
    "    \"decoder\": \"pymatching\",\n",
    "}\n",
    "\n",
    "run_optimazation_settings = {\n",
    "    \"max_bp_iterations\": 10,\n",
    "    \"osd_order\": 5,\n",
    "    \"iterations\": 10,\n",
    "    \"max_num_shots\": 10_000,\n",
    "    \"max_num_errors\": 1_000,\n",
    "\n",
    "}"
   ]
  },
  {
   "cell_type": "code",
   "execution_count": 4,
   "id": "57234a3b",
   "metadata": {},
   "outputs": [],
   "source": [
    "\n",
    "flag_optimizer = InteractiveCxListOptimizer(\n",
    "    **optimizer_settings\n",
    ")"
   ]
  },
  {
   "cell_type": "code",
   "execution_count": 5,
   "id": "b8b5fc40",
   "metadata": {},
   "outputs": [
    {
     "name": "stdout",
     "output_type": "stream",
     "text": [
      "n_times_flagged: [30, 29, 0, 0, 21, 20, 22, 41, 40, 21, 0, 0, 35, 28, 0, 0, 47, 75, 105, 35, 36, 98, 0, 0]\n",
      "n_times_flagged: [49, 26, 0, 0, 16, 50, 60, 39, 33, 51, 0, 0, 12, 21, 0, 0, 24, 25, 22, 11, 23, 16, 0, 0]\n",
      "iteration 0\n",
      "Changed: (11, 'X4') -> (15, 'X4')\n",
      "Changed: (10, 'X4') -> (11, 'X4')\n",
      "Changed: (15, 'X4') -> (10, 'X4')\n",
      "n_times_flagged: [26, 31, 0, 0, 28, 26, 31, 37, 34, 30, 0, 0, 32, 35, 0, 0, 56, 97, 117, 47, 34, 101, 0, 0]\n",
      "n_times_flagged: [56, 51, 0, 0, 28, 56, 41, 49, 52, 58, 0, 0, 21, 26, 0, 0, 23, 17, 21, 29, 21, 19, 0, 0]\n",
      "Iteration 0: improved objective to 0.09270793677082634\n",
      "iteration 1\n",
      "Changed: (24, 'X7') -> (19, 'X7')\n",
      "Changed: (23, 'X7') -> (24, 'X7')\n",
      "Changed: (19, 'X7') -> (23, 'X7')\n",
      "n_times_flagged: [25, 14, 0, 0, 24, 15, 11, 30, 30, 20, 0, 0, 33, 27, 0, 0, 43, 50, 86, 29, 29, 76, 0, 0]\n",
      "n_times_flagged: [102, 72, 0, 0, 62, 134, 63, 72, 54, 20, 0, 0, 33, 40, 0, 0, 36, 49, 37, 32, 34, 28, 0, 0]\n",
      "iteration 2\n",
      "Changed: (16, 'Z4') -> (12, 'Z4')\n",
      "Changed: (12, 'Z4') -> (16, 'Z4')\n",
      "n_times_flagged: [18, 26, 0, 0, 19, 20, 17, 19, 27, 23, 0, 0, 36, 25, 0, 0, 45, 70, 63, 41, 24, 80, 0, 0]\n",
      "n_times_flagged: [106, 76, 0, 0, 31, 115, 52, 78, 76, 96, 0, 0, 38, 30, 0, 0, 32, 41, 32, 26, 40, 32, 0, 0]\n",
      "iteration 3\n",
      "Changed: (9, 'X3') -> (14, 'X3')\n",
      "Changed: (8, 'X3') -> (9, 'X3')\n",
      "Changed: (14, 'X3') -> (13, 'X3')\n",
      "Changed: (13, 'X3') -> (8, 'X3')\n",
      "n_times_flagged: [30, 35, 0, 0, 23, 30, 29, 24, 37, 33, 0, 0, 30, 31, 0, 0, 70, 76, 116, 44, 37, 117, 0, 0]\n",
      "n_times_flagged: [66, 45, 0, 0, 36, 41, 38, 61, 61, 74, 0, 0, 22, 30, 0, 0, 30, 26, 22, 25, 22, 21, 0, 0]\n",
      "Iteration 3: improved objective to 0.08971396383494679\n",
      "iteration 4\n",
      "Changed: (18, 'X7') -> (19, 'X7')\n",
      "Changed: (19, 'X7') -> (18, 'X7')\n",
      "n_times_flagged: [19, 12, 0, 0, 24, 19, 20, 16, 16, 15, 0, 0, 22, 24, 0, 0, 28, 46, 64, 33, 17, 64, 0, 0]\n",
      "n_times_flagged: [120, 75, 0, 0, 45, 48, 60, 82, 85, 90, 0, 0, 33, 50, 0, 0, 50, 32, 42, 33, 35, 23, 0, 0]\n",
      "Iteration 4: improved objective to 0.08518635855385759\n",
      "iteration 5\n",
      "Changed: (16, 'Z4') -> (12, 'Z4')\n",
      "Changed: (12, 'Z4') -> (11, 'Z4')\n",
      "Changed: (11, 'Z4') -> (17, 'Z4')\n",
      "Changed: (17, 'Z4') -> (16, 'Z4')\n",
      "n_times_flagged: [13, 17, 0, 0, 11, 13, 11, 6, 15, 17, 0, 0, 16, 13, 0, 0, 20, 25, 17, 21, 18, 39, 0, 0]\n",
      "n_times_flagged: [70, 45, 0, 0, 38, 32, 38, 55, 51, 60, 0, 0, 27, 23, 0, 0, 26, 25, 35, 28, 24, 29, 0, 0]\n",
      "iteration 6\n",
      "Changed: (22, 'Z7') -> (18, 'Z7')\n",
      "Changed: (23, 'Z7') -> (22, 'Z7')\n",
      "Changed: (18, 'Z7') -> (23, 'Z7')\n",
      "n_times_flagged: [20, 26, 0, 0, 27, 32, 25, 23, 34, 22, 0, 0, 33, 28, 0, 0, 57, 78, 135, 51, 34, 28, 0, 0]\n",
      "n_times_flagged: [76, 45, 0, 0, 25, 28, 42, 45, 53, 49, 0, 0, 16, 15, 0, 0, 20, 30, 23, 20, 20, 25, 0, 0]\n",
      "Iteration 6: improved objective to 0.07647623409272508\n",
      "iteration 7\n",
      "Changed: (0, 'X0') -> (6, 'X0')\n",
      "Changed: (1, 'X0') -> (0, 'X0')\n",
      "Changed: (6, 'X0') -> (1, 'X0')\n",
      "n_times_flagged: [21, 30, 0, 0, 25, 24, 34, 27, 33, 27, 0, 0, 41, 31, 0, 0, 52, 81, 133, 43, 31, 34, 0, 0]\n",
      "n_times_flagged: [28, 63, 0, 0, 45, 43, 49, 75, 64, 84, 0, 0, 30, 34, 0, 0, 42, 33, 31, 40, 31, 25, 0, 0]\n",
      "iteration 8\n",
      "Changed: (24, 'X7') -> (19, 'X7')\n",
      "Changed: (23, 'X7') -> (18, 'X7')\n",
      "Changed: (19, 'X7') -> (23, 'X7')\n",
      "Changed: (18, 'X7') -> (24, 'X7')\n",
      "n_times_flagged: [24, 27, 0, 0, 22, 16, 16, 24, 30, 20, 0, 0, 23, 19, 0, 0, 38, 62, 103, 44, 20, 28, 0, 0]\n",
      "n_times_flagged: [89, 63, 0, 0, 33, 37, 56, 69, 69, 98, 0, 0, 28, 27, 0, 0, 27, 28, 23, 39, 27, 31, 0, 0]\n",
      "iteration 9\n",
      "Changed: (24, 'X7') -> (23, 'X7')\n",
      "Changed: (23, 'X7') -> (19, 'X7')\n",
      "Changed: (19, 'X7') -> (24, 'X7')\n",
      "n_times_flagged: [25, 28, 0, 0, 22, 17, 17, 22, 18, 29, 0, 0, 35, 22, 0, 0, 46, 66, 102, 52, 19, 33, 0, 0]\n",
      "n_times_flagged: [66, 54, 0, 0, 28, 29, 56, 57, 66, 36, 0, 0, 19, 24, 0, 0, 25, 21, 16, 21, 19, 28, 0, 0]\n",
      "Iteration 9: improved objective to 0.07592029267158484\n"
     ]
    }
   ],
   "source": [
    "flag_optimizer.run_optimization(**run_optimazation_settings,\n",
    "                            flags=True,\n",
    "                            step_type='single_stabilizer')\n",
    "\n"
   ]
  },
  {
   "cell_type": "code",
   "execution_count": 17,
   "id": "3dd77e8f",
   "metadata": {},
   "outputs": [],
   "source": [
    "def run_random_optimizer(n_optimizers):\n",
    "    \"\"\"\n",
    "    Run the random optimizer\n",
    "    \"\"\"\n",
    "    random_optimizers = []\n",
    "    for i in range(n_optimizers):\n",
    "        random_ordered_code = RotatedSurfaceCode(L=5, ordering=\"random\")\n",
    "        optimizer_settings[\"code\"] = random_ordered_code\n",
    "        random_optimizer = InteractiveCxListOptimizer(\n",
    "            **optimizer_settings,\n",
    "        )\n",
    "        random_optimizer.run_optimization(**run_optimazation_settings,\n",
    "                            flags=False,\n",
    "                            step_type='single_stabilizer')\n",
    "        random_optimizers.append(random_optimizer)\n",
    "    return random_optimizers\n"
   ]
  },
  {
   "cell_type": "code",
   "execution_count": null,
   "id": "5f8b70f5",
   "metadata": {},
   "outputs": [
    {
     "ename": "SyntaxError",
     "evalue": "expected '(' (1160719252.py, line 1)",
     "output_type": "error",
     "traceback": [
      "  \u001b[36mCell\u001b[39m\u001b[36m \u001b[39m\u001b[32mIn[16]\u001b[39m\u001b[32m, line 1\u001b[39m\n\u001b[31m    \u001b[39m\u001b[31mdef random_optimizer = InteractiveCxListOptimizer(\u001b[39m\n                         ^\n\u001b[31mSyntaxError\u001b[39m\u001b[31m:\u001b[39m expected '('\n"
     ]
    }
   ],
   "source": [
    "random_optimizers = run_random_optimizer(3)\n"
   ]
  },
  {
   "cell_type": "code",
   "execution_count": 8,
   "id": "fd188127",
   "metadata": {},
   "outputs": [],
   "source": [
    "code = RotatedSurfaceCode(L=3, ordering='optimal')\n",
    "\n",
    "optimizer_settings['code'] = code\n",
    "optimizer_starting_at_optimal = InteractiveCxListOptimizer(\n",
    "    **optimizer_settings\n",
    ")\n",
    "\n",
    "\n",
    "optimization_settings_zero_iterations = run_optimazation_settings.copy()\n",
    "optimization_settings_zero_iterations['iterations'] = 0\n",
    "optimizer_starting_at_optimal.run_optimization(**optimization_settings_zero_iterations,\n",
    "                                                flags=False,\n",
    "                                                draw=False,\n",
    "                                                step_type='single_stabilizer',\n",
    "                                                )\n",
    "optimal_logical_error_rate = optimizer_starting_at_optimal.optimizer_history[-1]"
   ]
  },
  {
   "cell_type": "code",
   "execution_count": 13,
   "id": "455b73c8",
   "metadata": {},
   "outputs": [
    {
     "data": {
      "text/plain": [
       "<matplotlib.legend.Legend at 0x1691c7ad0>"
      ]
     },
     "execution_count": 13,
     "metadata": {},
     "output_type": "execute_result"
    },
    {
     "data": {
      "image/png": "[encoded data removed]",
      "text/plain": [
       "<Figure size 1000x600 with 1 Axes>"
      ]
     },
     "metadata": {},
     "output_type": "display_data"
    }
   ],
   "source": [
    "import matplotlib.pyplot as plt\n",
    "fig, ax = plt.subplots(figsize=(10, 6))\n",
    "random_optimizer.plot_history(ax, label='random')\n",
    "flag_optimizer.plot_history(ax, label='flag')\n",
    "ax.axhline(y=optimizer_starting_at_optimal.optimizer_history[-1].objective_value, color='r', linestyle='--', label='Optimal')\n",
    "ax.legend()#['optimal', 'random', 'flag'])"
   ]
  },
  {
   "cell_type": "code",
   "execution_count": 14,
   "id": "1288883b",
   "metadata": {},
   "outputs": [
    {
     "name": "stdout",
     "output_type": "stream",
     "text": [
      "[(0, 'X0'), (1, 'X0'), (5, 'X0'), (6, 'X0'), (7, 'X1'), (8, 'X1'), (3, 'X1'), (2, 'X1'), (12, 'X2'), (7, 'X2'), (6, 'X2'), (11, 'X2'), (14, 'X3'), (9, 'X3'), (13, 'X3'), (8, 'X3'), (15, 'X4'), (11, 'X4'), (16, 'X4'), (10, 'X4'), (12, 'X5'), (13, 'X5'), (17, 'X5'), (18, 'X5'), (16, 'X6'), (17, 'X6'), (22, 'X6'), (21, 'X6'), (23, 'X7'), (19, 'X7'), (24, 'X7'), (18, 'X7'), (5, 'X8'), (10, 'X8'), (15, 'X9'), (20, 'X9'), (9, 'X10'), (4, 'X10'), (14, 'X11'), (19, 'X11'), (6, 'Z0'), (2, 'Z0'), (1, 'Z0'), (7, 'Z0'), (3, 'Z1'), (4, 'Z1'), (9, 'Z1'), (8, 'Z1'), (10, 'Z2'), (5, 'Z2'), (11, 'Z2'), (6, 'Z2'), (12, 'Z3'), (7, 'Z3'), (8, 'Z3'), (13, 'Z3'), (16, 'Z4'), (12, 'Z4'), (11, 'Z4'), (17, 'Z4'), (14, 'Z5'), (19, 'Z5'), (13, 'Z5'), (18, 'Z5'), (15, 'Z6'), (21, 'Z6'), (16, 'Z6'), (20, 'Z6'), (17, 'Z7'), (18, 'Z7'), (22, 'Z7'), (23, 'Z7'), (1, 'Z8'), (0, 'Z8'), (2, 'Z9'), (3, 'Z9'), (23, 'Z10'), (24, 'Z10'), (22, 'Z11'), (21, 'Z11')]\n",
      "[(0, 'X0'), (1, 'X0'), (5, 'X0'), (6, 'X0'), (7, 'X1'), (8, 'X1'), (3, 'X1'), (2, 'X1'), (12, 'X2'), (7, 'X2'), (6, 'X2'), (11, 'X2'), (9, 'X3'), (8, 'X3'), (14, 'X3'), (13, 'X3'), (11, 'X4'), (10, 'X4'), (16, 'X4'), (15, 'X4'), (12, 'X5'), (13, 'X5'), (17, 'X5'), (18, 'X5'), (16, 'X6'), (17, 'X6'), (22, 'X6'), (21, 'X6'), (24, 'X7'), (23, 'X7'), (18, 'X7'), (19, 'X7'), (5, 'X8'), (10, 'X8'), (15, 'X9'), (20, 'X9'), (9, 'X10'), (4, 'X10'), (14, 'X11'), (19, 'X11'), (6, 'Z0'), (2, 'Z0'), (1, 'Z0'), (7, 'Z0'), (3, 'Z1'), (4, 'Z1'), (9, 'Z1'), (8, 'Z1'), (10, 'Z2'), (5, 'Z2'), (11, 'Z2'), (6, 'Z2'), (12, 'Z3'), (7, 'Z3'), (8, 'Z3'), (13, 'Z3'), (16, 'Z4'), (12, 'Z4'), (11, 'Z4'), (17, 'Z4'), (14, 'Z5'), (19, 'Z5'), (13, 'Z5'), (18, 'Z5'), (15, 'Z6'), (21, 'Z6'), (16, 'Z6'), (20, 'Z6'), (17, 'Z7'), (22, 'Z7'), (23, 'Z7'), (18, 'Z7'), (1, 'Z8'), (0, 'Z8'), (2, 'Z9'), (3, 'Z9'), (23, 'Z10'), (24, 'Z10'), (22, 'Z11'), (21, 'Z11')]\n"
     ]
    }
   ],
   "source": [
    "print(flag_optimizer.optimizer_history[-1].cx_list)\n",
    "print(flag_optimizer.optimizer_history[0].cx_list)"
   ]
  },
  {
   "cell_type": "code",
   "execution_count": 11,
   "id": "98831bd2",
   "metadata": {},
   "outputs": [],
   "source": [
    "#draw_ordered_tanner_graph.draw_cx_list(flag_optimizer.optimizer_history[0].cx_list, flag_optimizer.ancilla_type, data_coords=code.data_coords, ancilla_coords=code.ancilla_coords)\n",
    "cx_list1 = random_ordered_code.generate_cx_list()\n",
    "cx_list2 = random_optimizer.optimizer_history[0].cx_list\n",
    "\n",
    "for i, (a, b) in enumerate(zip(cx_list1, cx_list2)):\n",
    "    if a != b:\n",
    "        print(f\"Difference at index {i}: {a} != {b}\")\n",
    "\n",
    "assert cx_list1 == cx_list2"
   ]
  },
  {
   "cell_type": "code",
   "execution_count": 12,
   "id": "8c000de9",
   "metadata": {},
   "outputs": [
    {
     "name": "stdout",
     "output_type": "stream",
     "text": [
      "[(0, 'X0'), (1, 'X0'), (5, 'X0'), (6, 'X0'), (7, 'X1'), (8, 'X1'), (3, 'X1'), (2, 'X1'), (12, 'X2'), (7, 'X2'), (6, 'X2'), (11, 'X2'), (9, 'X3'), (8, 'X3'), (14, 'X3'), (13, 'X3'), (11, 'X4'), (10, 'X4'), (16, 'X4'), (15, 'X4'), (12, 'X5'), (13, 'X5'), (17, 'X5'), (18, 'X5'), (16, 'X6'), (17, 'X6'), (22, 'X6'), (21, 'X6'), (24, 'X7'), (23, 'X7'), (18, 'X7'), (19, 'X7'), (5, 'X8'), (10, 'X8'), (15, 'X9'), (20, 'X9'), (9, 'X10'), (4, 'X10'), (14, 'X11'), (19, 'X11'), (6, 'Z0'), (2, 'Z0'), (1, 'Z0'), (7, 'Z0'), (3, 'Z1'), (4, 'Z1'), (9, 'Z1'), (8, 'Z1'), (10, 'Z2'), (5, 'Z2'), (11, 'Z2'), (6, 'Z2'), (12, 'Z3'), (7, 'Z3'), (8, 'Z3'), (13, 'Z3'), (16, 'Z4'), (12, 'Z4'), (11, 'Z4'), (17, 'Z4'), (14, 'Z5'), (19, 'Z5'), (13, 'Z5'), (18, 'Z5'), (15, 'Z6'), (21, 'Z6'), (16, 'Z6'), (20, 'Z6'), (17, 'Z7'), (22, 'Z7'), (23, 'Z7'), (18, 'Z7'), (1, 'Z8'), (0, 'Z8'), (2, 'Z9'), (3, 'Z9'), (23, 'Z10'), (24, 'Z10'), (22, 'Z11'), (21, 'Z11')]\n",
      "[(0, 'X0'), (1, 'X0'), (5, 'X0'), (6, 'X0'), (7, 'X1'), (8, 'X1'), (3, 'X1'), (2, 'X1'), (12, 'X2'), (7, 'X2'), (6, 'X2'), (11, 'X2'), (9, 'X3'), (8, 'X3'), (14, 'X3'), (13, 'X3'), (11, 'X4'), (10, 'X4'), (16, 'X4'), (15, 'X4'), (12, 'X5'), (13, 'X5'), (17, 'X5'), (18, 'X5'), (16, 'X6'), (17, 'X6'), (22, 'X6'), (21, 'X6'), (24, 'X7'), (23, 'X7'), (18, 'X7'), (19, 'X7'), (5, 'X8'), (10, 'X8'), (15, 'X9'), (20, 'X9'), (9, 'X10'), (4, 'X10'), (14, 'X11'), (19, 'X11'), (6, 'Z0'), (2, 'Z0'), (1, 'Z0'), (7, 'Z0'), (3, 'Z1'), (4, 'Z1'), (9, 'Z1'), (8, 'Z1'), (10, 'Z2'), (5, 'Z2'), (11, 'Z2'), (6, 'Z2'), (12, 'Z3'), (7, 'Z3'), (8, 'Z3'), (13, 'Z3'), (16, 'Z4'), (12, 'Z4'), (11, 'Z4'), (17, 'Z4'), (14, 'Z5'), (19, 'Z5'), (13, 'Z5'), (18, 'Z5'), (15, 'Z6'), (21, 'Z6'), (16, 'Z6'), (20, 'Z6'), (17, 'Z7'), (22, 'Z7'), (23, 'Z7'), (18, 'Z7'), (1, 'Z8'), (0, 'Z8'), (2, 'Z9'), (3, 'Z9'), (23, 'Z10'), (24, 'Z10'), (22, 'Z11'), (21, 'Z11')]\n"
     ]
    }
   ],
   "source": [
    "print(random_ordered_code.generate_cx_list())\n",
    "print(random_optimizer.optimizer_history[0].cx_list)"
   ]
  },
  {
   "cell_type": "code",
   "execution_count": null,
   "id": "7f57af90",
   "metadata": {},
   "outputs": [],
   "source": []
  }
 ],
 "metadata": {
  "kernelspec": {
   "display_name": ".venv",
   "language": "python",
   "name": "python3"
  },
  "language_info": {
   "codemirror_mode": {
    "name": "ipython",
    "version": 3
   },
   "file_extension": ".py",
   "mimetype": "text/x-python",
   "name": "python",
   "nbconvert_exporter": "python",
   "pygments_lexer": "ipython3",
   "version": "3.11.5"
  }
 },
 "nbformat": 4,
 "nbformat_minor": 5
}
