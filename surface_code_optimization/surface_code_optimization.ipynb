{
 "cells": [
  {
   "cell_type": "code",
   "execution_count": 1,
   "id": "2b30934c",
   "metadata": {
    "ExecuteTime": {
     "end_time": "2025-04-17T11:47:07.465360Z",
     "start_time": "2025-04-17T11:47:05.315002Z"
    }
   },
   "outputs": [],
   "source": [
    "from src.interactive_cx_list_optimizer import InteractiveCxListOptimizer\n",
    "from src.cx_list_from_stabilizers_in_sequence import RotatedSurfaceCode\n",
    "from src.circuit_from_cx_list import memory_experiment_circuit_from_cx_list\n"
   ]
  },
  {
   "cell_type": "code",
   "execution_count": 2,
   "id": "6b9690ec",
   "metadata": {},
   "outputs": [],
   "source": [
    "def get_distance(code):\n",
    "    cx_list = code.generate_cx_list()\n",
    "    ancilla_type, data_mapping, ancilla_mapping, flag_mapping= code.build_mappings()\n",
    "\n",
    "    circ = memory_experiment_circuit_from_cx_list(\n",
    "                    cx_list=cx_list,\n",
    "                    ancilla_type=ancilla_type,\n",
    "                    data_mapping=data_mapping,\n",
    "                    ancilla_mapping=ancilla_mapping,\n",
    "                    flag_mapping=dict(),  # No flag mapping used here\n",
    "                    logicals=code.lz,\n",
    "                    logical_type='Z',\n",
    "                    p_cx=0.01,\n",
    "                    p_idle=0,\n",
    "                    number_of_cycles=5,\n",
    "                    flag=False\n",
    "                    \n",
    "                )\n",
    "    return(len(circ.shortest_graphlike_error()))\n"
   ]
  },
  {
   "cell_type": "code",
   "execution_count": 3,
   "id": "1a324fa7",
   "metadata": {},
   "outputs": [
    {
     "name": "stdout",
     "output_type": "stream",
     "text": [
      "Distance of the code is:  3\n",
      "Distance of the code is:  5\n"
     ]
    }
   ],
   "source": [
    "import numpy as np\n",
    "\n",
    "np.random.seed(42)\n",
    "code_distance = 5\n",
    "random_ordered_code = RotatedSurfaceCode(L=code_distance, ordering=\"random\")\n",
    "print(\"Distance of the code is: \", get_distance(random_ordered_code))\n",
    "\n",
    "optimal_ordered_code = RotatedSurfaceCode(L=code_distance, ordering='optimal')\n",
    "print(\"Distance of the code is: \", get_distance(optimal_ordered_code))\n",
    "\n",
    "optimizer_settings = {\n",
    "    \"code\" : random_ordered_code,\n",
    "    \"cycles_with_noise\": 5,\n",
    "    \"p_cx\": 0.01,\n",
    "    \"p_idle\": 0,\n",
    "    \"experiment_type\": \"both\",\n",
    "    \"decoder\": \"pymatching\",\n",
    "}\n",
    "\n",
    "run_optimazation_settings = {\n",
    "    \"max_bp_iterations\": 10,\n",
    "    \"osd_order\": 5,\n",
    "    \"iterations\": 10,\n",
    "    \"max_num_shots\": 10_000,\n",
    "    \"max_num_errors\": 1000,\n",
    "\n",
    "}"
   ]
  },
  {
   "cell_type": "code",
   "execution_count": 4,
   "id": "57234a3b",
   "metadata": {},
   "outputs": [],
   "source": [
    "flag_optimizer = InteractiveCxListOptimizer(\n",
    "    **optimizer_settings\n",
    ")"
   ]
  },
  {
   "cell_type": "code",
   "execution_count": 5,
   "id": "b8b5fc40",
   "metadata": {},
   "outputs": [
    {
     "name": "stdout",
     "output_type": "stream",
     "text": [
      "n_times_flagged: [34, 29, 0, 0, 38, 24, 28, 43, 35, 36, 0, 0, 108, 89, 0, 0, 24, 56, 90, 64, 47, 39, 0, 0]\n",
      "n_times_flagged: [136, 72, 0, 0, 93, 103, 50, 50, 51, 117, 0, 0, 20, 38, 0, 0, 43, 36, 44, 25, 45, 27, 0, 0]\n",
      "iteration 0\n",
      "Changed: (0, 'X0') -> (1, 'X0')\n",
      "Changed: (1, 'X0') -> (5, 'X0')\n",
      "Changed: (5, 'X0') -> (6, 'X0')\n",
      "Changed: (6, 'X0') -> (0, 'X0')\n",
      "n_times_flagged: [28, 36, 0, 0, 41, 34, 36, 38, 43, 44, 0, 0, 121, 92, 0, 0, 26, 70, 84, 71, 32, 37, 0, 0]\n",
      "n_times_flagged: [21, 47, 0, 0, 48, 57, 34, 24, 28, 62, 0, 0, 20, 23, 0, 0, 22, 20, 21, 11, 22, 22, 0, 0]\n",
      "Iteration 0: improved objective to 0.08531115417743318\n",
      "iteration 1\n",
      "Changed: (19, 'X7') -> (24, 'X7')\n",
      "Changed: (24, 'X7') -> (19, 'X7')\n",
      "n_times_flagged: [22, 28, 0, 0, 30, 25, 21, 23, 28, 23, 0, 0, 75, 72, 0, 0, 18, 50, 71, 59, 25, 32, 0, 0]\n",
      "n_times_flagged: [22, 57, 0, 0, 42, 56, 34, 21, 15, 14, 0, 0, 21, 23, 0, 0, 25, 17, 17, 19, 15, 13, 0, 0]\n",
      "Iteration 1: improved objective to 0.08016294568956828\n",
      "iteration 2\n",
      "Changed: (8, 'X1') -> (7, 'X1')\n",
      "Changed: (7, 'X1') -> (3, 'X1')\n",
      "Changed: (2, 'X1') -> (8, 'X1')\n",
      "Changed: (3, 'X1') -> (2, 'X1')\n",
      "n_times_flagged: [12, 20, 0, 0, 16, 20, 15, 14, 21, 21, 0, 0, 55, 46, 0, 0, 16, 25, 54, 43, 21, 26, 0, 0]\n",
      "n_times_flagged: [36, 23, 0, 0, 64, 77, 35, 28, 23, 31, 0, 0, 18, 21, 0, 0, 25, 25, 22, 24, 24, 29, 0, 0]\n",
      "iteration 3\n",
      "Changed: (1, 'Z0') -> (2, 'Z0')\n",
      "Changed: (2, 'Z0') -> (7, 'Z0')\n",
      "Changed: (7, 'Z0') -> (1, 'Z0')\n",
      "n_times_flagged: [27, 37, 0, 0, 34, 21, 24, 32, 20, 39, 0, 0, 34, 98, 0, 0, 22, 61, 99, 86, 35, 45, 0, 0]\n",
      "n_times_flagged: [40, 52, 0, 0, 73, 101, 34, 39, 22, 32, 0, 0, 22, 25, 0, 0, 23, 22, 30, 16, 34, 22, 0, 0]\n",
      "Iteration 3: improved objective to 0.07348729858268732\n",
      "iteration 4\n",
      "Changed: (14, 'X3') -> (8, 'X3')\n",
      "Changed: (8, 'X3') -> (14, 'X3')\n",
      "n_times_flagged: [33, 31, 0, 0, 32, 17, 34, 34, 31, 32, 0, 0, 38, 106, 0, 0, 24, 60, 97, 80, 30, 47, 0, 0]\n",
      "n_times_flagged: [26, 51, 0, 0, 83, 43, 26, 36, 34, 35, 0, 0, 36, 32, 0, 0, 21, 29, 24, 36, 33, 25, 0, 0]\n",
      "Iteration 4: improved objective to 0.07160261192798056\n",
      "iteration 5\n",
      "Changed: (8, 'Z1') -> (4, 'Z1')\n",
      "Changed: (9, 'Z1') -> (8, 'Z1')\n",
      "Changed: (4, 'Z1') -> (9, 'Z1')\n",
      "n_times_flagged: [20, 36, 0, 0, 33, 18, 23, 32, 27, 20, 0, 0, 31, 22, 0, 0, 22, 47, 64, 49, 17, 26, 0, 0]\n",
      "n_times_flagged: [25, 29, 0, 0, 38, 36, 24, 17, 8, 20, 0, 0, 24, 19, 0, 0, 22, 11, 21, 20, 12, 14, 0, 0]\n",
      "Iteration 5: improved objective to 0.0677972899428233\n",
      "iteration 6\n",
      "Changed: (7, 'X2') -> (12, 'X2')\n",
      "Changed: (11, 'X2') -> (6, 'X2')\n",
      "Changed: (6, 'X2') -> (11, 'X2')\n",
      "Changed: (12, 'X2') -> (7, 'X2')\n",
      "n_times_flagged: [19, 21, 0, 0, 25, 24, 25, 26, 34, 27, 0, 0, 28, 18, 0, 0, 10, 66, 64, 49, 28, 36, 0, 0]\n",
      "n_times_flagged: [37, 41, 0, 0, 64, 44, 27, 22, 21, 22, 0, 0, 24, 20, 0, 0, 27, 26, 20, 32, 15, 26, 0, 0]\n",
      "iteration 7\n",
      "Changed: (7, 'X2') -> (12, 'X2')\n",
      "Changed: (11, 'X2') -> (6, 'X2')\n",
      "Changed: (6, 'X2') -> (7, 'X2')\n",
      "Changed: (12, 'X2') -> (11, 'X2')\n",
      "n_times_flagged: [15, 29, 0, 0, 22, 20, 16, 21, 23, 19, 0, 0, 25, 15, 0, 0, 18, 51, 57, 33, 25, 19, 0, 0]\n",
      "n_times_flagged: [16, 37, 0, 0, 106, 28, 30, 25, 12, 19, 0, 0, 24, 23, 0, 0, 25, 24, 27, 13, 18, 21, 0, 0]\n",
      "Iteration 7: improved objective to 0.06738455580100866\n",
      "iteration 8\n",
      "Changed: (12, 'Z4') -> (11, 'Z4')\n",
      "Changed: (17, 'Z4') -> (12, 'Z4')\n",
      "Changed: (11, 'Z4') -> (17, 'Z4')\n",
      "n_times_flagged: [21, 22, 0, 0, 25, 15, 26, 28, 21, 29, 0, 0, 34, 19, 0, 0, 20, 55, 65, 48, 22, 30, 0, 0]\n",
      "n_times_flagged: [32, 55, 0, 0, 108, 41, 19, 27, 15, 26, 0, 0, 17, 17, 0, 0, 29, 27, 25, 28, 25, 22, 0, 0]\n",
      "iteration 9\n",
      "Changed: (16, 'Z4') -> (17, 'Z4')\n",
      "Changed: (12, 'Z4') -> (11, 'Z4')\n",
      "Changed: (17, 'Z4') -> (12, 'Z4')\n",
      "Changed: (11, 'Z4') -> (16, 'Z4')\n",
      "n_times_flagged: [15, 30, 0, 0, 17, 17, 15, 16, 18, 25, 0, 0, 19, 14, 0, 0, 12, 54, 93, 37, 24, 33, 0, 0]\n",
      "n_times_flagged: [24, 38, 0, 0, 68, 32, 20, 19, 14, 24, 0, 0, 20, 20, 0, 0, 17, 25, 17, 24, 15, 14, 0, 0]\n",
      "Iteration 9: improved objective to 0.06112482615025727\n"
     ]
    }
   ],
   "source": [
    "flag_optimizer.run_optimization(**run_optimazation_settings,\n",
    "                            flags=True,\n",
    "                            step_type='single_stabilizer')"
   ]
  },
  {
   "cell_type": "code",
   "execution_count": 6,
   "id": "5f8b70f5",
   "metadata": {},
   "outputs": [],
   "source": [
    "def run_random_optimizer(n_optimizers=3):\n",
    "    random_optimizers = []\n",
    "    for _ in range(n_optimizers):\n",
    "\n",
    "        random_optimizer = InteractiveCxListOptimizer(\n",
    "            **optimizer_settings,\n",
    "        )\n",
    "        random_optimizer.run_optimization(**run_optimazation_settings,\n",
    "                                    flags=False,\n",
    "                                    step_type='single_stabilizer')\n",
    "        random_optimizers.append(random_optimizer)        \n",
    "    return(random_optimizers)\n"
   ]
  },
  {
   "cell_type": "code",
   "execution_count": 7,
   "id": "c77bdfed",
   "metadata": {},
   "outputs": [
    {
     "name": "stdout",
     "output_type": "stream",
     "text": [
      "iteration 0\n",
      "Changed: (14, 'X11') -> (19, 'X11')\n",
      "Changed: (19, 'X11') -> (14, 'X11')\n",
      "Iteration 0: improved objective to 0.08845796000000006\n",
      "iteration 1\n",
      "Changed: (6, 'Z0') -> (2, 'Z0')\n",
      "Changed: (1, 'Z0') -> (7, 'Z0')\n",
      "Changed: (2, 'Z0') -> (1, 'Z0')\n",
      "Changed: (7, 'Z0') -> (6, 'Z0')\n",
      "iteration 2\n",
      "Changed: (6, 'Z2') -> (5, 'Z2')\n",
      "Changed: (5, 'Z2') -> (10, 'Z2')\n",
      "Changed: (10, 'Z2') -> (6, 'Z2')\n",
      "iteration 3\n",
      "Changed: (21, 'Z6') -> (15, 'Z6')\n",
      "Changed: (15, 'Z6') -> (21, 'Z6')\n",
      "Changed: (20, 'Z6') -> (16, 'Z6')\n",
      "Changed: (16, 'Z6') -> (20, 'Z6')\n",
      "iteration 4\n",
      "Changed: (23, 'Z10') -> (24, 'Z10')\n",
      "Changed: (24, 'Z10') -> (23, 'Z10')\n",
      "iteration 5\n",
      "Changed: (13, 'Z5') -> (18, 'Z5')\n",
      "Changed: (18, 'Z5') -> (14, 'Z5')\n",
      "Changed: (14, 'Z5') -> (19, 'Z5')\n",
      "Changed: (19, 'Z5') -> (13, 'Z5')\n",
      "iteration 6\n",
      "Changed: (7, 'X2') -> (6, 'X2')\n",
      "Changed: (11, 'X2') -> (7, 'X2')\n",
      "Changed: (6, 'X2') -> (12, 'X2')\n",
      "Changed: (12, 'X2') -> (11, 'X2')\n",
      "iteration 7\n",
      "Changed: (14, 'X3') -> (9, 'X3')\n",
      "Changed: (9, 'X3') -> (14, 'X3')\n",
      "iteration 8\n",
      "Changed: (2, 'Z9') -> (3, 'Z9')\n",
      "Changed: (3, 'Z9') -> (2, 'Z9')\n",
      "iteration 9\n",
      "Changed: (13, 'Z5') -> (14, 'Z5')\n",
      "Changed: (18, 'Z5') -> (13, 'Z5')\n",
      "Changed: (14, 'Z5') -> (18, 'Z5')\n",
      "Iteration 9: improved objective to 0.08800308999999995\n",
      "iteration 0\n",
      "Changed: (21, 'Z6') -> (20, 'Z6')\n",
      "Changed: (15, 'Z6') -> (21, 'Z6')\n",
      "Changed: (20, 'Z6') -> (16, 'Z6')\n",
      "Changed: (16, 'Z6') -> (15, 'Z6')\n",
      "Iteration 0: improved objective to 0.09304429999999997\n",
      "iteration 1\n",
      "Changed: (13, 'X5') -> (17, 'X5')\n",
      "Changed: (12, 'X5') -> (13, 'X5')\n",
      "Changed: (17, 'X5') -> (12, 'X5')\n",
      "iteration 2\n",
      "Changed: (21, 'Z11') -> (22, 'Z11')\n",
      "Changed: (22, 'Z11') -> (21, 'Z11')\n",
      "Iteration 2: improved objective to 0.09150970000000003\n",
      "iteration 3\n",
      "Changed: (0, 'Z8') -> (1, 'Z8')\n",
      "Changed: (1, 'Z8') -> (0, 'Z8')\n",
      "Iteration 3: improved objective to 0.09094066\n",
      "iteration 4\n",
      "Changed: (23, 'Z10') -> (24, 'Z10')\n",
      "Changed: (24, 'Z10') -> (23, 'Z10')\n",
      "iteration 5\n",
      "Changed: (22, 'Z11') -> (21, 'Z11')\n",
      "Changed: (21, 'Z11') -> (22, 'Z11')\n",
      "iteration 6\n",
      "Changed: (8, 'X1') -> (3, 'X1')\n",
      "Changed: (2, 'X1') -> (8, 'X1')\n",
      "Changed: (3, 'X1') -> (2, 'X1')\n",
      "iteration 7\n",
      "Changed: (5, 'X8') -> (10, 'X8')\n",
      "Changed: (10, 'X8') -> (5, 'X8')\n",
      "iteration 8\n",
      "Changed: (14, 'X11') -> (19, 'X11')\n",
      "Changed: (19, 'X11') -> (14, 'X11')\n",
      "Iteration 8: improved objective to 0.08809029999999995\n",
      "iteration 9\n",
      "Changed: (19, 'X11') -> (14, 'X11')\n",
      "Changed: (14, 'X11') -> (19, 'X11')\n",
      "iteration 0\n",
      "Changed: (8, 'X1') -> (3, 'X1')\n",
      "Changed: (2, 'X1') -> (8, 'X1')\n",
      "Changed: (3, 'X1') -> (2, 'X1')\n",
      "Iteration 0: improved objective to 0.08884422000000003\n",
      "iteration 1\n",
      "Changed: (21, 'Z6') -> (16, 'Z6')\n",
      "Changed: (15, 'Z6') -> (21, 'Z6')\n",
      "Changed: (16, 'Z6') -> (15, 'Z6')\n",
      "iteration 2\n",
      "Changed: (23, 'Z10') -> (24, 'Z10')\n",
      "Changed: (24, 'Z10') -> (23, 'Z10')\n",
      "iteration 3\n",
      "Changed: (7, 'Z3') -> (13, 'Z3')\n",
      "Changed: (13, 'Z3') -> (8, 'Z3')\n",
      "Changed: (8, 'Z3') -> (7, 'Z3')\n",
      "iteration 4\n",
      "Changed: (14, 'X11') -> (19, 'X11')\n",
      "Changed: (19, 'X11') -> (14, 'X11')\n",
      "Iteration 4: improved objective to 0.08597049999999995\n",
      "iteration 5\n",
      "Changed: (7, 'X2') -> (12, 'X2')\n",
      "Changed: (6, 'X2') -> (7, 'X2')\n",
      "Changed: (12, 'X2') -> (6, 'X2')\n",
      "iteration 6\n",
      "Changed: (0, 'Z8') -> (1, 'Z8')\n",
      "Changed: (1, 'Z8') -> (0, 'Z8')\n",
      "iteration 7\n",
      "Changed: (22, 'Z7') -> (18, 'Z7')\n",
      "Changed: (18, 'Z7') -> (17, 'Z7')\n",
      "Changed: (17, 'Z7') -> (22, 'Z7')\n",
      "iteration 8\n",
      "Changed: (8, 'Z1') -> (9, 'Z1')\n",
      "Changed: (9, 'Z1') -> (8, 'Z1')\n",
      "Iteration 8: improved objective to 0.08340549000000008\n",
      "iteration 9\n",
      "Changed: (13, 'Z5') -> (14, 'Z5')\n",
      "Changed: (14, 'Z5') -> (13, 'Z5')\n"
     ]
    }
   ],
   "source": [
    "random_optimizers = run_random_optimizer(n_optimizers=3)"
   ]
  },
  {
   "cell_type": "code",
   "execution_count": 8,
   "id": "fd188127",
   "metadata": {},
   "outputs": [],
   "source": [
    "code = RotatedSurfaceCode(L=code_distance, ordering='optimal')\n",
    "\n",
    "optimizer_settings['code'] = code\n",
    "optimizer_starting_at_optimal = InteractiveCxListOptimizer(\n",
    "    **optimizer_settings\n",
    ")\n",
    "\n",
    "\n",
    "optimization_settings_zero_iterations = run_optimazation_settings.copy()\n",
    "optimization_settings_zero_iterations['iterations'] = 0\n",
    "optimizer_starting_at_optimal.run_optimization(**optimization_settings_zero_iterations,\n",
    "                                                flags=False,\n",
    "                                                draw=False,\n",
    "                                                step_type='single_stabilizer',\n",
    "                                                )\n",
    "optimal_logical_error_rate = optimizer_starting_at_optimal.optimizer_history[-1]"
   ]
  },
  {
   "cell_type": "code",
   "execution_count": 9,
   "id": "455b73c8",
   "metadata": {},
   "outputs": [
    {
     "data": {
      "text/plain": [
       "<matplotlib.legend.Legend at 0x1339405d0>"
      ]
     },
     "execution_count": 9,
     "metadata": {},
     "output_type": "execute_result"
    },
    {
     "data": {
      "image/png": "[encoded data removed]",
      "text/plain": [
       "<Figure size 1000x600 with 1 Axes>"
      ]
     },
     "metadata": {},
     "output_type": "display_data"
    }
   ],
   "source": [
    "import matplotlib.pyplot as plt\n",
    "fig, ax = plt.subplots(figsize=(10, 6))\n",
    "for random_optimizer in random_optimizers:\n",
    "    random_optimizer.plot_history(ax, label='random')\n",
    "flag_optimizer.plot_history(ax, label='flag')\n",
    "ax.axhline(y=optimizer_starting_at_optimal.optimizer_history[-1].objective_value, color='r', linestyle='--', label='Optimal')\n",
    "ax.legend()#['optimal', 'random', 'flag'])"
   ]
  },
  {
   "cell_type": "code",
   "execution_count": 10,
   "id": "1288883b",
   "metadata": {},
   "outputs": [
    {
     "name": "stdout",
     "output_type": "stream",
     "text": [
      "[(1, 'X0'), (5, 'X0'), (6, 'X0'), (0, 'X0'), (8, 'X1'), (7, 'X1'), (2, 'X1'), (3, 'X1'), (12, 'X2'), (6, 'X2'), (7, 'X2'), (11, 'X2'), (13, 'X3'), (8, 'X3'), (9, 'X3'), (14, 'X3'), (11, 'X4'), (15, 'X4'), (16, 'X4'), (10, 'X4'), (13, 'X5'), (18, 'X5'), (12, 'X5'), (17, 'X5'), (21, 'X6'), (16, 'X6'), (22, 'X6'), (17, 'X6'), (24, 'X7'), (18, 'X7'), (23, 'X7'), (19, 'X7'), (5, 'X8'), (10, 'X8'), (20, 'X9'), (15, 'X9'), (4, 'X10'), (9, 'X10'), (14, 'X11'), (19, 'X11'), (6, 'Z0'), (2, 'Z0'), (7, 'Z0'), (1, 'Z0'), (4, 'Z1'), (3, 'Z1'), (8, 'Z1'), (9, 'Z1'), (6, 'Z2'), (5, 'Z2'), (11, 'Z2'), (10, 'Z2'), (7, 'Z3'), (12, 'Z3'), (13, 'Z3'), (8, 'Z3'), (17, 'Z4'), (11, 'Z4'), (12, 'Z4'), (16, 'Z4'), (13, 'Z5'), (18, 'Z5'), (14, 'Z5'), (19, 'Z5'), (21, 'Z6'), (15, 'Z6'), (20, 'Z6'), (16, 'Z6'), (22, 'Z7'), (23, 'Z7'), (18, 'Z7'), (17, 'Z7'), (0, 'Z8'), (1, 'Z8'), (2, 'Z9'), (3, 'Z9'), (23, 'Z10'), (24, 'Z10'), (21, 'Z11'), (22, 'Z11')]\n",
      "[(0, 'X0'), (1, 'X0'), (5, 'X0'), (6, 'X0'), (8, 'X1'), (7, 'X1'), (2, 'X1'), (3, 'X1'), (7, 'X2'), (11, 'X2'), (6, 'X2'), (12, 'X2'), (13, 'X3'), (14, 'X3'), (9, 'X3'), (8, 'X3'), (11, 'X4'), (15, 'X4'), (16, 'X4'), (10, 'X4'), (13, 'X5'), (18, 'X5'), (12, 'X5'), (17, 'X5'), (21, 'X6'), (16, 'X6'), (22, 'X6'), (17, 'X6'), (19, 'X7'), (18, 'X7'), (23, 'X7'), (24, 'X7'), (5, 'X8'), (10, 'X8'), (20, 'X9'), (15, 'X9'), (4, 'X10'), (9, 'X10'), (14, 'X11'), (19, 'X11'), (6, 'Z0'), (1, 'Z0'), (2, 'Z0'), (7, 'Z0'), (8, 'Z1'), (3, 'Z1'), (9, 'Z1'), (4, 'Z1'), (6, 'Z2'), (5, 'Z2'), (11, 'Z2'), (10, 'Z2'), (7, 'Z3'), (12, 'Z3'), (13, 'Z3'), (8, 'Z3'), (16, 'Z4'), (12, 'Z4'), (17, 'Z4'), (11, 'Z4'), (13, 'Z5'), (18, 'Z5'), (14, 'Z5'), (19, 'Z5'), (21, 'Z6'), (15, 'Z6'), (20, 'Z6'), (16, 'Z6'), (22, 'Z7'), (23, 'Z7'), (18, 'Z7'), (17, 'Z7'), (0, 'Z8'), (1, 'Z8'), (2, 'Z9'), (3, 'Z9'), (23, 'Z10'), (24, 'Z10'), (21, 'Z11'), (22, 'Z11')]\n"
     ]
    }
   ],
   "source": [
    "print(flag_optimizer.optimizer_history[-1].cx_list)\n",
    "print(flag_optimizer.optimizer_history[0].cx_list)"
   ]
  },
  {
   "cell_type": "code",
   "execution_count": 11,
   "id": "98831bd2",
   "metadata": {},
   "outputs": [],
   "source": [
    "#draw_ordered_tanner_graph.draw_cx_list(flag_optimizer.optimizer_history[0].cx_list, flag_optimizer.ancilla_type, data_coords=code.data_coords, ancilla_coords=code.ancilla_coords)\n",
    "cx_list1 = random_ordered_code.generate_cx_list()\n",
    "cx_list2 = random_optimizer.optimizer_history[0].cx_list\n",
    "\n",
    "for i, (a, b) in enumerate(zip(cx_list1, cx_list2)):\n",
    "    if a != b:\n",
    "        print(f\"Difference at index {i}: {a} != {b}\")\n",
    "\n",
    "assert cx_list1 == cx_list2"
   ]
  },
  {
   "cell_type": "code",
   "execution_count": 12,
   "id": "8c000de9",
   "metadata": {},
   "outputs": [
    {
     "name": "stdout",
     "output_type": "stream",
     "text": [
      "[(0, 'X0'), (1, 'X0'), (5, 'X0'), (6, 'X0'), (8, 'X1'), (7, 'X1'), (2, 'X1'), (3, 'X1'), (7, 'X2'), (11, 'X2'), (6, 'X2'), (12, 'X2'), (13, 'X3'), (14, 'X3'), (9, 'X3'), (8, 'X3'), (11, 'X4'), (15, 'X4'), (16, 'X4'), (10, 'X4'), (13, 'X5'), (18, 'X5'), (12, 'X5'), (17, 'X5'), (21, 'X6'), (16, 'X6'), (22, 'X6'), (17, 'X6'), (19, 'X7'), (18, 'X7'), (23, 'X7'), (24, 'X7'), (5, 'X8'), (10, 'X8'), (20, 'X9'), (15, 'X9'), (4, 'X10'), (9, 'X10'), (14, 'X11'), (19, 'X11'), (6, 'Z0'), (1, 'Z0'), (2, 'Z0'), (7, 'Z0'), (8, 'Z1'), (3, 'Z1'), (9, 'Z1'), (4, 'Z1'), (6, 'Z2'), (5, 'Z2'), (11, 'Z2'), (10, 'Z2'), (7, 'Z3'), (12, 'Z3'), (13, 'Z3'), (8, 'Z3'), (16, 'Z4'), (12, 'Z4'), (17, 'Z4'), (11, 'Z4'), (13, 'Z5'), (18, 'Z5'), (14, 'Z5'), (19, 'Z5'), (21, 'Z6'), (15, 'Z6'), (20, 'Z6'), (16, 'Z6'), (22, 'Z7'), (23, 'Z7'), (18, 'Z7'), (17, 'Z7'), (0, 'Z8'), (1, 'Z8'), (2, 'Z9'), (3, 'Z9'), (23, 'Z10'), (24, 'Z10'), (21, 'Z11'), (22, 'Z11')]\n",
      "[(0, 'X0'), (1, 'X0'), (5, 'X0'), (6, 'X0'), (8, 'X1'), (7, 'X1'), (2, 'X1'), (3, 'X1'), (7, 'X2'), (11, 'X2'), (6, 'X2'), (12, 'X2'), (13, 'X3'), (14, 'X3'), (9, 'X3'), (8, 'X3'), (11, 'X4'), (15, 'X4'), (16, 'X4'), (10, 'X4'), (13, 'X5'), (18, 'X5'), (12, 'X5'), (17, 'X5'), (21, 'X6'), (16, 'X6'), (22, 'X6'), (17, 'X6'), (19, 'X7'), (18, 'X7'), (23, 'X7'), (24, 'X7'), (5, 'X8'), (10, 'X8'), (20, 'X9'), (15, 'X9'), (4, 'X10'), (9, 'X10'), (14, 'X11'), (19, 'X11'), (6, 'Z0'), (1, 'Z0'), (2, 'Z0'), (7, 'Z0'), (8, 'Z1'), (3, 'Z1'), (9, 'Z1'), (4, 'Z1'), (6, 'Z2'), (5, 'Z2'), (11, 'Z2'), (10, 'Z2'), (7, 'Z3'), (12, 'Z3'), (13, 'Z3'), (8, 'Z3'), (16, 'Z4'), (12, 'Z4'), (17, 'Z4'), (11, 'Z4'), (13, 'Z5'), (18, 'Z5'), (14, 'Z5'), (19, 'Z5'), (21, 'Z6'), (15, 'Z6'), (20, 'Z6'), (16, 'Z6'), (22, 'Z7'), (23, 'Z7'), (18, 'Z7'), (17, 'Z7'), (0, 'Z8'), (1, 'Z8'), (2, 'Z9'), (3, 'Z9'), (23, 'Z10'), (24, 'Z10'), (21, 'Z11'), (22, 'Z11')]\n"
     ]
    }
   ],
   "source": [
    "print(random_ordered_code.generate_cx_list())\n",
    "print(random_optimizer.optimizer_history[0].cx_list)"
   ]
  },
  {
   "cell_type": "code",
   "execution_count": null,
   "id": "7f57af90",
   "metadata": {},
   "outputs": [],
   "source": []
  }
 ],
 "metadata": {
  "kernelspec": {
   "display_name": ".venv",
   "language": "python",
   "name": "python3"
  },
  "language_info": {
   "codemirror_mode": {
    "name": "ipython",
    "version": 3
   },
   "file_extension": ".py",
   "mimetype": "text/x-python",
   "name": "python",
   "nbconvert_exporter": "python",
   "pygments_lexer": "ipython3",
   "version": "3.11.5"
  }
 },
 "nbformat": 4,
 "nbformat_minor": 5
}
