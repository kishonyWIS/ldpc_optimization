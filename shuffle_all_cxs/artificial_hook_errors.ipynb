{
 "cells": [
  {
   "cell_type": "code",
   "id": "2b30934c",
   "metadata": {
    "ExecuteTime": {
     "end_time": "2025-05-13T05:53:35.024376Z",
     "start_time": "2025-05-13T05:53:34.420909Z"
    }
   },
   "source": [
    "import cx_list_from_stabilizers_in_sequence\n",
    "import draw_ordered_tanner_graph\n",
    "from circuit_from_cx_list import memory_experiment_circuit_from_cx_list\n",
    "%load_ext autoreload\n",
    "%autoreload 2"
   ],
   "outputs": [],
   "execution_count": 1
  },
  {
   "cell_type": "code",
   "id": "3cab8b17",
   "metadata": {
    "ExecuteTime": {
     "end_time": "2025-05-12T15:10:22.851175Z",
     "start_time": "2025-05-12T15:10:22.837658Z"
    }
   },
   "source": [
    "code = cx_list_from_stabilizers_in_sequence.RotatedSurfaceCode(L=5)\n",
    "\n",
    "cx_list = code.generate_cx_list()\n",
    "ancilla_type, data_mapping, ancilla_mapping = code.build_mappings()\n",
    "lz = code.lz\n",
    "lx = code.lx\n",
    "data_coords = code.data_coords\n",
    "ancilla_coords = code.ancilla_coords\n",
    "qubit_to_name = {v:k for k,v in data_mapping.items()}\n",
    "qubit_to_name.update({v:k for k,v in ancilla_mapping.items()})"
   ],
   "outputs": [],
   "execution_count": 2
  },
  {
   "metadata": {},
   "cell_type": "code",
   "source": [
    "from permute_within_each_stabilizer import random_permutation_within_each_stabilizer\n",
    "from permute_single_stabilizer import permute_single_stabilizer_inplace"
   ],
   "id": "cba469484d1ff39d",
   "outputs": [],
   "execution_count": null
  },
  {
   "metadata": {},
   "cell_type": "code",
   "source": "",
   "id": "3057d8331a1c7e84",
   "outputs": [],
   "execution_count": null
  },
  {
   "metadata": {},
   "cell_type": "code",
   "source": "random_permutation_within_each_stabilizer(cx_list)\n",
   "id": "11445b9332ed482a",
   "outputs": [],
   "execution_count": null
  },
  {
   "metadata": {},
   "cell_type": "code",
   "source": "hook_errors = {ancilla: [(1, 0.01)] for ancilla, type in ancilla_type.items() if type == 'X'}",
   "id": "cf906855bde38c42",
   "outputs": [],
   "execution_count": null
  },
  {
   "metadata": {},
   "cell_type": "code",
   "source": [
    "for _ in range(20):\n",
    "    _, circ, idle_time = memory_experiment_circuit_from_cx_list(\n",
    "                cx_list=cx_list,\n",
    "                ancilla_type=ancilla_type,\n",
    "                data_mapping=data_mapping,\n",
    "                ancilla_mapping=ancilla_mapping,\n",
    "                flag_mapping=dict(),  # No flag mapping used here\n",
    "                logicals=code.lz,\n",
    "                logical_type='Z',\n",
    "                p_cx=0.,\n",
    "                p_idle=0.,\n",
    "                p_measurement_error=0.01,\n",
    "                p_phenomenological_error=0.01,\n",
    "                hook_errors=hook_errors,\n",
    "                cycles_before_noise=1,\n",
    "                cycles_with_noise=1,\n",
    "                cycles_after_noise=1,\n",
    "                flag=False\n",
    "            )\n",
    "    errors = circ.search_for_undetectable_logical_errors(\n",
    "        dont_explore_edges_increasing_symptom_degree=False,\n",
    "        dont_explore_detection_event_sets_with_size_above=9999,\n",
    "        dont_explore_edges_with_degree_above=9999,\n",
    "        canonicalize_circuit_errors=True,\n",
    "    )\n",
    "    print(len(errors))\n",
    "    qubits_in_minimal_error = [error.circuit_error_locations[0].instruction_targets.targets_in_range[0].gate_target.value for error in errors]\n",
    "    hook_ancillas_in_minimal_error = [qubit_to_name[qubit] for qubit in qubits_in_minimal_error if qubit in ancilla_mapping.values()]\n",
    "    print(hook_ancillas_in_minimal_error)\n",
    "    for a in hook_ancillas_in_minimal_error:\n",
    "        permute_single_stabilizer_inplace(cx_list, a)"
   ],
   "id": "89844c7a87238a50",
   "outputs": [],
   "execution_count": null
  },
  {
   "metadata": {},
   "cell_type": "code",
   "source": "",
   "id": "b058c4b9cf555a68",
   "outputs": [],
   "execution_count": null
  },
  {
   "metadata": {},
   "cell_type": "code",
   "source": "",
   "id": "cc578e50ae36b145",
   "outputs": [],
   "execution_count": null
  }
 ],
 "metadata": {
  "kernelspec": {
   "display_name": ".venv",
   "language": "python",
   "name": "python3"
  },
  "language_info": {
   "codemirror_mode": {
    "name": "ipython",
    "version": 3
   },
   "file_extension": ".py",
   "mimetype": "text/x-python",
   "name": "python",
   "nbconvert_exporter": "python",
   "pygments_lexer": "ipython3",
   "version": "3.11.5"
  }
 },
 "nbformat": 4,
 "nbformat_minor": 5
}
