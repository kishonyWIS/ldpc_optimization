{
 "cells": [
  {
   "cell_type": "code",
   "id": "2b30934c",
   "metadata": {
    "ExecuteTime": {
     "end_time": "2025-04-10T14:15:19.702371Z",
     "start_time": "2025-04-10T14:15:19.699290Z"
    }
   },
   "source": [
    "from interactive_cx_list_optimizer import InteractiveCxListOptimizer\n",
    "from cx_list_from_stabilizers_in_sequence import RotatedSurfaceCode\n"
   ],
   "outputs": [],
   "execution_count": 4
  },
  {
   "cell_type": "code",
   "id": "3cab8b17",
   "metadata": {
    "ExecuteTime": {
     "end_time": "2025-04-10T14:15:20.354386Z",
     "start_time": "2025-04-10T14:15:20.247350Z"
    }
   },
   "source": [
    "code = RotatedSurfaceCode(L=5)\n",
    "\n",
    "cx_list = code.generate_cx_list()\n",
    "ancilla_type, data_mapping, ancilla_mapping = code.build_mappings()\n",
    "lz = code.lz\n",
    "data_coords = code.data_coords\n",
    "ancilla_coords = code.ancilla_coords"
   ],
   "outputs": [],
   "execution_count": 5
  },
  {
   "cell_type": "code",
   "id": "a480d78c",
   "metadata": {
    "ExecuteTime": {
     "end_time": "2025-04-10T14:15:21.213791Z",
     "start_time": "2025-04-10T14:15:21.195185Z"
    }
   },
   "source": [
    "optimizer = InteractiveCxListOptimizer(\n",
    "    initial_cx_list=cx_list,\n",
    "    ancilla_type=ancilla_type,\n",
    "    data_mapping=data_mapping,\n",
    "    ancilla_mapping=ancilla_mapping,\n",
    "    lz=lz,\n",
    "    p_cx=0.001,\n",
    "    p_idle=0.001,\n",
    "    cycles_with_noise=10,\n",
    ")"
   ],
   "outputs": [],
   "execution_count": 6
  },
  {
   "cell_type": "code",
   "id": "0242164c",
   "metadata": {
    "ExecuteTime": {
     "end_time": "2025-04-10T14:15:59.265671Z",
     "start_time": "2025-04-10T14:15:22.642814Z"
    }
   },
   "source": [
    "optimizer.run_optimization(max_bp_iterations=10,\n",
    "                           osd_order=5, \n",
    "                           iterations=100, \n",
    "                           max_num_shots=10_000, \n",
    "                           max_num_errors=10, \n",
    "                           draw=True)"
   ],
   "outputs": [
    {
     "name": "stdout",
     "output_type": "stream",
     "text": [
      "Total idling time: 1199\n",
      "Total idling time: 1216\n",
      "here\n",
      "Iteration 0: improved objective to 0.0036666666666666666\n",
      "Total idling time: 1578\n",
      "Total idling time: 1578\n",
      "Total idling time: 1215\n",
      "Total idling time: 1217\n",
      "Total idling time: 1443\n"
     ]
    },
    {
     "ename": "KeyboardInterrupt",
     "evalue": "",
     "output_type": "error",
     "traceback": [
      "\u001B[0;31m---------------------------------------------------------------------------\u001B[0m",
      "\u001B[0;31mKeyboardInterrupt\u001B[0m                         Traceback (most recent call last)",
      "Cell \u001B[0;32mIn[7], line 1\u001B[0m\n\u001B[0;32m----> 1\u001B[0m \u001B[43moptimizer\u001B[49m\u001B[38;5;241;43m.\u001B[39;49m\u001B[43mrun_optimization\u001B[49m\u001B[43m(\u001B[49m\u001B[43mmax_bp_iterations\u001B[49m\u001B[38;5;241;43m=\u001B[39;49m\u001B[38;5;241;43m10\u001B[39;49m\u001B[43m,\u001B[49m\n\u001B[1;32m      2\u001B[0m \u001B[43m                           \u001B[49m\u001B[43mosd_order\u001B[49m\u001B[38;5;241;43m=\u001B[39;49m\u001B[38;5;241;43m5\u001B[39;49m\u001B[43m,\u001B[49m\u001B[43m \u001B[49m\n\u001B[1;32m      3\u001B[0m \u001B[43m                           \u001B[49m\u001B[43miterations\u001B[49m\u001B[38;5;241;43m=\u001B[39;49m\u001B[38;5;241;43m100\u001B[39;49m\u001B[43m,\u001B[49m\u001B[43m \u001B[49m\n\u001B[1;32m      4\u001B[0m \u001B[43m                           \u001B[49m\u001B[43mmax_num_shots\u001B[49m\u001B[38;5;241;43m=\u001B[39;49m\u001B[38;5;241;43m10_000\u001B[39;49m\u001B[43m,\u001B[49m\u001B[43m \u001B[49m\n\u001B[1;32m      5\u001B[0m \u001B[43m                           \u001B[49m\u001B[43mmax_num_errors\u001B[49m\u001B[38;5;241;43m=\u001B[39;49m\u001B[38;5;241;43m10\u001B[39;49m\u001B[43m,\u001B[49m\u001B[43m \u001B[49m\n\u001B[1;32m      6\u001B[0m \u001B[43m                           \u001B[49m\u001B[43mdraw\u001B[49m\u001B[38;5;241;43m=\u001B[39;49m\u001B[38;5;28;43;01mTrue\u001B[39;49;00m\u001B[43m)\u001B[49m\n",
      "File \u001B[0;32m~/PycharmProjects/ldpc_optimization/shuffle_all_cxs/interactive_cx_list_optimizer.py:118\u001B[0m, in \u001B[0;36mInteractiveCxListOptimizer.run_optimization\u001B[0;34m(self, max_bp_iterations, osd_order, iterations, max_num_shots, max_num_errors, draw)\u001B[0m\n\u001B[1;32m    116\u001B[0m \u001B[38;5;28;01mif\u001B[39;00m \u001B[38;5;129;01mnot\u001B[39;00m changed:\n\u001B[1;32m    117\u001B[0m     \u001B[38;5;28;01mcontinue\u001B[39;00m\n\u001B[0;32m--> 118\u001B[0m \u001B[38;5;28mself\u001B[39m\u001B[38;5;241m.\u001B[39moptimizer_history\u001B[38;5;241m.\u001B[39mappend(\u001B[38;5;28;43mself\u001B[39;49m\u001B[38;5;241;43m.\u001B[39;49m\u001B[43mmeasure_logical_error_rate\u001B[49m\u001B[43m(\u001B[49m\n\u001B[1;32m    119\u001B[0m \u001B[43m    \u001B[49m\u001B[43mcandidate\u001B[49m\u001B[43m,\u001B[49m\u001B[43m \u001B[49m\u001B[43mmax_num_shots\u001B[49m\u001B[38;5;241;43m=\u001B[39;49m\u001B[43mmax_num_shots\u001B[49m\u001B[43m,\u001B[49m\u001B[43m \u001B[49m\u001B[43mmax_num_errors\u001B[49m\u001B[38;5;241;43m=\u001B[39;49m\u001B[43mmax_num_errors\u001B[49m\u001B[43m)\u001B[49m)\n\u001B[1;32m    120\u001B[0m \u001B[38;5;28;01mif\u001B[39;00m \u001B[38;5;28mself\u001B[39m\u001B[38;5;241m.\u001B[39moptimizer_history[\u001B[38;5;241m-\u001B[39m\u001B[38;5;241m1\u001B[39m]\u001B[38;5;241m.\u001B[39mobjective_value \u001B[38;5;241m<\u001B[39m\u001B[38;5;241m=\u001B[39m \u001B[38;5;28mself\u001B[39m\u001B[38;5;241m.\u001B[39mbest_obj:\n\u001B[1;32m    121\u001B[0m     \u001B[38;5;28mself\u001B[39m\u001B[38;5;241m.\u001B[39mbest_cx_list \u001B[38;5;241m=\u001B[39m candidate\n",
      "File \u001B[0;32m~/PycharmProjects/ldpc_optimization/shuffle_all_cxs/interactive_cx_list_optimizer.py:50\u001B[0m, in \u001B[0;36mInteractiveCxListOptimizer.measure_logical_error_rate\u001B[0;34m(self, cx_list, max_num_shots, max_num_errors)\u001B[0m\n\u001B[1;32m     44\u001B[0m \u001B[38;5;28;01mdef\u001B[39;00m\u001B[38;5;250m \u001B[39m\u001B[38;5;21mmeasure_logical_error_rate\u001B[39m(\u001B[38;5;28mself\u001B[39m, cx_list: List[CXGate],\n\u001B[1;32m     45\u001B[0m                                max_num_shots: \u001B[38;5;28mint\u001B[39m,\n\u001B[1;32m     46\u001B[0m                                max_num_errors: \u001B[38;5;28mint\u001B[39m):\n\u001B[1;32m     47\u001B[0m \u001B[38;5;250m    \u001B[39m\u001B[38;5;124;03m\"\"\"\u001B[39;00m\n\u001B[1;32m     48\u001B[0m \u001B[38;5;124;03m    Build a circuit from the given cx_list and return an objective value computed as the logical error rate.\u001B[39;00m\n\u001B[1;32m     49\u001B[0m \u001B[38;5;124;03m    \"\"\"\u001B[39;00m\n\u001B[0;32m---> 50\u001B[0m     _, circ \u001B[38;5;241m=\u001B[39m \u001B[43mmemory_experiment_circuit_from_cx_list\u001B[49m\u001B[43m(\u001B[49m\n\u001B[1;32m     51\u001B[0m \u001B[43m        \u001B[49m\u001B[43mcx_list\u001B[49m\u001B[38;5;241;43m=\u001B[39;49m\u001B[43mcx_list\u001B[49m\u001B[43m,\u001B[49m\n\u001B[1;32m     52\u001B[0m \u001B[43m        \u001B[49m\u001B[43mancilla_type\u001B[49m\u001B[38;5;241;43m=\u001B[39;49m\u001B[38;5;28;43mself\u001B[39;49m\u001B[38;5;241;43m.\u001B[39;49m\u001B[43mancilla_type\u001B[49m\u001B[43m,\u001B[49m\n\u001B[1;32m     53\u001B[0m \u001B[43m        \u001B[49m\u001B[43mdata_mapping\u001B[49m\u001B[38;5;241;43m=\u001B[39;49m\u001B[38;5;28;43mself\u001B[39;49m\u001B[38;5;241;43m.\u001B[39;49m\u001B[43mdata_mapping\u001B[49m\u001B[43m,\u001B[49m\n\u001B[1;32m     54\u001B[0m \u001B[43m        \u001B[49m\u001B[43mancilla_mapping\u001B[49m\u001B[38;5;241;43m=\u001B[39;49m\u001B[38;5;28;43mself\u001B[39;49m\u001B[38;5;241;43m.\u001B[39;49m\u001B[43mancilla_mapping\u001B[49m\u001B[43m,\u001B[49m\n\u001B[1;32m     55\u001B[0m \u001B[43m        \u001B[49m\u001B[43mflag_mapping\u001B[49m\u001B[38;5;241;43m=\u001B[39;49m\u001B[38;5;28;43mdict\u001B[39;49m\u001B[43m(\u001B[49m\u001B[43m)\u001B[49m\u001B[43m,\u001B[49m\n\u001B[1;32m     56\u001B[0m \u001B[43m        \u001B[49m\u001B[43mlz\u001B[49m\u001B[38;5;241;43m=\u001B[39;49m\u001B[38;5;28;43mself\u001B[39;49m\u001B[38;5;241;43m.\u001B[39;49m\u001B[43mlz\u001B[49m\u001B[43m,\u001B[49m\n\u001B[1;32m     57\u001B[0m \u001B[43m        \u001B[49m\u001B[43mp_cx\u001B[49m\u001B[38;5;241;43m=\u001B[39;49m\u001B[38;5;28;43mself\u001B[39;49m\u001B[38;5;241;43m.\u001B[39;49m\u001B[43mp_cx\u001B[49m\u001B[43m,\u001B[49m\n\u001B[1;32m     58\u001B[0m \u001B[43m        \u001B[49m\u001B[43mp_idle\u001B[49m\u001B[38;5;241;43m=\u001B[39;49m\u001B[38;5;28;43mself\u001B[39;49m\u001B[38;5;241;43m.\u001B[39;49m\u001B[43mp_idle\u001B[49m\u001B[43m,\u001B[49m\n\u001B[1;32m     59\u001B[0m \u001B[43m        \u001B[49m\u001B[43mx_detectors\u001B[49m\u001B[38;5;241;43m=\u001B[39;49m\u001B[38;5;28;43;01mFalse\u001B[39;49;00m\u001B[43m,\u001B[49m\n\u001B[1;32m     60\u001B[0m \u001B[43m        \u001B[49m\u001B[43mz_detectors\u001B[49m\u001B[38;5;241;43m=\u001B[39;49m\u001B[38;5;28;43;01mTrue\u001B[39;49;00m\u001B[43m,\u001B[49m\n\u001B[1;32m     61\u001B[0m \u001B[43m        \u001B[49m\u001B[43mcycles_before_noise\u001B[49m\u001B[38;5;241;43m=\u001B[39;49m\u001B[38;5;241;43m1\u001B[39;49m\u001B[43m,\u001B[49m\n\u001B[1;32m     62\u001B[0m \u001B[43m        \u001B[49m\u001B[43mcycles_with_noise\u001B[49m\u001B[38;5;241;43m=\u001B[39;49m\u001B[38;5;28;43mself\u001B[39;49m\u001B[38;5;241;43m.\u001B[39;49m\u001B[43mcycles_with_noise\u001B[49m\u001B[43m,\u001B[49m\n\u001B[1;32m     63\u001B[0m \u001B[43m        \u001B[49m\u001B[43mcycles_after_noise\u001B[49m\u001B[38;5;241;43m=\u001B[39;49m\u001B[38;5;241;43m1\u001B[39;49m\u001B[43m,\u001B[49m\n\u001B[1;32m     64\u001B[0m \u001B[43m        \u001B[49m\u001B[43mflag\u001B[49m\u001B[38;5;241;43m=\u001B[39;49m\u001B[38;5;28;43;01mFalse\u001B[39;49;00m\n\u001B[1;32m     65\u001B[0m \u001B[43m    \u001B[49m\u001B[43m)\u001B[49m\n\u001B[1;32m     67\u001B[0m     task \u001B[38;5;241m=\u001B[39m sinter\u001B[38;5;241m.\u001B[39mTask(\n\u001B[1;32m     68\u001B[0m         circuit\u001B[38;5;241m=\u001B[39mcirc,\n\u001B[1;32m     69\u001B[0m     )\n\u001B[1;32m     71\u001B[0m     stats \u001B[38;5;241m=\u001B[39m sinter\u001B[38;5;241m.\u001B[39mcollect(tasks\u001B[38;5;241m=\u001B[39m[task], num_workers\u001B[38;5;241m=\u001B[39m\u001B[38;5;241m10\u001B[39m,\n\u001B[1;32m     72\u001B[0m                            max_shots\u001B[38;5;241m=\u001B[39mmax_num_shots,\n\u001B[1;32m     73\u001B[0m                            max_errors\u001B[38;5;241m=\u001B[39mmax_num_errors,\n\u001B[1;32m     74\u001B[0m                            decoders\u001B[38;5;241m=\u001B[39m[\u001B[38;5;124m'\u001B[39m\u001B[38;5;124mbposd\u001B[39m\u001B[38;5;124m'\u001B[39m],\n\u001B[1;32m     75\u001B[0m                            custom_decoders\u001B[38;5;241m=\u001B[39m\u001B[38;5;28mself\u001B[39m\u001B[38;5;241m.\u001B[39mcustom_decoders,\n\u001B[1;32m     76\u001B[0m                            )\n",
      "File \u001B[0;32m~/PycharmProjects/ldpc_optimization/shuffle_all_cxs/circuit_from_cx_list.py:106\u001B[0m, in \u001B[0;36mmemory_experiment_circuit_from_cx_list\u001B[0;34m(cx_list, ancilla_type, data_mapping, ancilla_mapping, flag_mapping, lz, p_cx, p_idle, x_detectors, z_detectors, cycles_before_noise, cycles_with_noise, cycles_after_noise, flag)\u001B[0m\n\u001B[1;32m    104\u001B[0m \u001B[38;5;28;01mfor\u001B[39;00m cycle \u001B[38;5;129;01min\u001B[39;00m all_cycles[cycles_before_noise: cycles_before_noise\u001B[38;5;241m+\u001B[39mcycles_with_noise]:\n\u001B[1;32m    105\u001B[0m     noisy_part_of_circ \u001B[38;5;241m+\u001B[39m\u001B[38;5;241m=\u001B[39m cycle\n\u001B[0;32m--> 106\u001B[0m noisy_part_of_circ \u001B[38;5;241m=\u001B[39m \u001B[43madd_noise_to_circuit\u001B[49m\u001B[43m(\u001B[49m\u001B[43mnoisy_part_of_circ\u001B[49m\u001B[43m,\u001B[49m\u001B[43m \u001B[49m\u001B[43mnoisy_qubits\u001B[49m\u001B[38;5;241;43m=\u001B[39;49m\u001B[43mnoisy_qubits\u001B[49m\u001B[43m,\u001B[49m\u001B[43m \u001B[49m\u001B[43mp_idle\u001B[49m\u001B[38;5;241;43m=\u001B[39;49m\u001B[43mp_idle\u001B[49m\u001B[43m,\u001B[49m\u001B[43m \u001B[49m\u001B[43mp_cx\u001B[49m\u001B[38;5;241;43m=\u001B[39;49m\u001B[43mp_cx\u001B[49m\u001B[43m)\u001B[49m\n\u001B[1;32m    107\u001B[0m circ \u001B[38;5;241m+\u001B[39m\u001B[38;5;241m=\u001B[39m noisy_part_of_circ\n\u001B[1;32m    108\u001B[0m \u001B[38;5;66;03m# add last noiseless cycles\u001B[39;00m\n",
      "File \u001B[0;32m~/PycharmProjects/ldpc_optimization/shuffle_all_cxs/noisy_cx_circuit.py:71\u001B[0m, in \u001B[0;36madd_noise_to_circuit\u001B[0;34m(circ_in, noisy_qubits, p_idle, p_cx)\u001B[0m\n\u001B[1;32m     69\u001B[0m \u001B[38;5;28;01mif\u001B[39;00m q_c \u001B[38;5;129;01min\u001B[39;00m noisy_qubits \u001B[38;5;129;01mand\u001B[39;00m q_t \u001B[38;5;129;01min\u001B[39;00m noisy_qubits \u001B[38;5;129;01mand\u001B[39;00m p_cx \u001B[38;5;241m>\u001B[39m \u001B[38;5;241m0\u001B[39m:\n\u001B[1;32m     70\u001B[0m     new_circ\u001B[38;5;241m.\u001B[39mappend_operation(\u001B[38;5;124m\"\u001B[39m\u001B[38;5;124mDEPOLARIZE2\u001B[39m\u001B[38;5;124m\"\u001B[39m, [q_c, q_t], p_cx)\n\u001B[0;32m---> 71\u001B[0m \u001B[43mnew_circ\u001B[49m\u001B[38;5;241;43m.\u001B[39;49m\u001B[43mappend_operation\u001B[49m\u001B[43m(\u001B[49m\u001B[38;5;124;43m\"\u001B[39;49m\u001B[38;5;124;43mCX\u001B[39;49m\u001B[38;5;124;43m\"\u001B[39;49m\u001B[43m,\u001B[49m\u001B[43m \u001B[49m\u001B[43m[\u001B[49m\u001B[43mq_c\u001B[49m\u001B[43m,\u001B[49m\u001B[43m \u001B[49m\u001B[43mq_t\u001B[49m\u001B[43m]\u001B[49m\u001B[43m)\u001B[49m\n\u001B[1;32m     72\u001B[0m qubits_last_used[q_c] \u001B[38;5;241m=\u001B[39m t\n\u001B[1;32m     73\u001B[0m qubits_last_used[q_t] \u001B[38;5;241m=\u001B[39m t\n",
      "\u001B[0;31mKeyboardInterrupt\u001B[0m: "
     ]
    }
   ],
   "execution_count": 7
  },
  {
   "cell_type": "code",
   "execution_count": null,
   "id": "c3ca64eb",
   "metadata": {},
   "outputs": [],
   "source": []
  },
  {
   "cell_type": "code",
   "id": "6c3a7776",
   "metadata": {
    "ExecuteTime": {
     "end_time": "2025-04-10T14:16:02.433739Z",
     "start_time": "2025-04-10T14:16:02.300059Z"
    }
   },
   "source": [
    "optimizer.plot_history()"
   ],
   "outputs": [
    {
     "data": {
      "text/plain": [
       "<Figure size 640x480 with 1 Axes>"
      ],
      "image/png": "[encoded data removed]"
     },
     "metadata": {},
     "output_type": "display_data"
    }
   ],
   "execution_count": 8
  },
  {
   "cell_type": "code",
   "execution_count": null,
   "id": "d6ce4388",
   "metadata": {},
   "outputs": [],
   "source": []
  }
 ],
 "metadata": {
  "kernelspec": {
   "display_name": ".venv",
   "language": "python",
   "name": "python3"
  },
  "language_info": {
   "codemirror_mode": {
    "name": "ipython",
    "version": 3
   },
   "file_extension": ".py",
   "mimetype": "text/x-python",
   "name": "python",
   "nbconvert_exporter": "python",
   "pygments_lexer": "ipython3",
   "version": "3.11.5"
  }
 },
 "nbformat": 4,
 "nbformat_minor": 5
}
