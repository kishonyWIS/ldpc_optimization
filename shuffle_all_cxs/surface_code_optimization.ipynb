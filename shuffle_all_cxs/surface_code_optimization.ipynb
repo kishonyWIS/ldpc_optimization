{
 "cells": [
  {
   "cell_type": "code",
   "execution_count": 1,
   "id": "2b30934c",
   "metadata": {},
   "outputs": [],
   "source": [
    "from interactive_cx_list_optimizer import InteractiveCxListOptimizer\n",
    "from cx_list_from_stabilizers_in_sequence import RotatedSurfaceCode\n"
   ]
  },
  {
   "cell_type": "code",
   "execution_count": 2,
   "id": "3cab8b17",
   "metadata": {},
   "outputs": [],
   "source": [
    "code = RotatedSurfaceCode(L=5)\n",
    "\n",
    "cx_list = code.generate_cx_list()\n",
    "ancilla_type, data_mapping, ancilla_mapping = code.build_mappings()\n",
    "lz = code.lz\n",
    "data_coords = code.data_coords\n",
    "ancilla_coords = code.ancilla_coords"
   ]
  },
  {
   "cell_type": "code",
   "execution_count": 3,
   "id": "a480d78c",
   "metadata": {},
   "outputs": [],
   "source": [
    "optimizer = InteractiveCxListOptimizer(\n",
    "    initial_cx_list=cx_list,\n",
    "    ancilla_type=ancilla_type,\n",
    "    data_mapping=data_mapping,\n",
    "    ancilla_mapping=ancilla_mapping,\n",
    "    lz=lz,\n",
    "    p_cx=0.001,\n",
    "    p_idle=0.001,\n",
    "    cycles_with_noise=10,\n",
    ")"
   ]
  },
  {
   "cell_type": "code",
   "execution_count": 4,
   "id": "0242164c",
   "metadata": {},
   "outputs": [
    {
     "name": "stdout",
     "output_type": "stream",
     "text": [
      "here\n",
      "Iteration 4: improved objective to 0.002846900042176297\n",
      "here\n",
      "Iteration 21: improved objective to 0.0027829313543599257\n",
      "here\n",
      "Iteration 30: improved objective to 0.002780924915027294\n",
      "here\n",
      "Iteration 43: improved objective to 0.0023689360387269542\n",
      "here\n",
      "Iteration 60: improved objective to 0.0021233676611105215\n",
      "here\n",
      "Iteration 77: improved objective to 0.0019516426325490621\n"
     ]
    }
   ],
   "source": [
    "optimizer.run_optimization(max_bp_iterations=10,\n",
    "                           osd_order=5, \n",
    "                           iterations=100, \n",
    "                           max_num_shots=10_000, \n",
    "                           max_num_errors=10, \n",
    "                           draw=True)"
   ]
  },
  {
   "cell_type": "code",
   "execution_count": null,
   "id": "c3ca64eb",
   "metadata": {},
   "outputs": [],
   "source": []
  },
  {
   "cell_type": "code",
   "execution_count": 7,
   "id": "6c3a7776",
   "metadata": {},
   "outputs": [
    {
     "ename": "AttributeError",
     "evalue": "'InteractiveCxListOptimizer' object has no attribute 'objectives_list'",
     "output_type": "error",
     "traceback": [
      "\u001b[31m---------------------------------------------------------------------------\u001b[39m",
      "\u001b[31mAttributeError\u001b[39m                            Traceback (most recent call last)",
      "\u001b[36mCell\u001b[39m\u001b[36m \u001b[39m\u001b[32mIn[7]\u001b[39m\u001b[32m, line 1\u001b[39m\n\u001b[32m----> \u001b[39m\u001b[32m1\u001b[39m \u001b[43moptimizer\u001b[49m\u001b[43m.\u001b[49m\u001b[43mplot_history\u001b[49m\u001b[43m(\u001b[49m\u001b[43m)\u001b[49m\n",
      "\u001b[36mFile \u001b[39m\u001b[32m~/Documents/ldpc_optimization/ldpc_optimization/shuffle_all_cxs/interactive_cx_list_optimizer.py:139\u001b[39m, in \u001b[36mInteractiveCxListOptimizer.plot_history\u001b[39m\u001b[34m(self)\u001b[39m\n\u001b[32m    135\u001b[39m objective_list = [\n\u001b[32m    136\u001b[39m     point.objective_value \u001b[38;5;28;01mfor\u001b[39;00m point \u001b[38;5;129;01min\u001b[39;00m \u001b[38;5;28mself\u001b[39m.optimizer_history]\n\u001b[32m    137\u001b[39m objective_error = [\n\u001b[32m    138\u001b[39m     point.objective_error \u001b[38;5;28;01mfor\u001b[39;00m point \u001b[38;5;129;01min\u001b[39;00m \u001b[38;5;28mself\u001b[39m.optimizer_history]\n\u001b[32m--> \u001b[39m\u001b[32m139\u001b[39m plt.errorbar(\u001b[38;5;28mrange\u001b[39m(\u001b[38;5;28mlen\u001b[39m(\u001b[38;5;28;43mself\u001b[39;49m\u001b[43m.\u001b[49m\u001b[43mobjectives_list\u001b[49m)),\n\u001b[32m    140\u001b[39m              objective_list,\n\u001b[32m    141\u001b[39m              yerr=objective_error,\n\u001b[32m    142\u001b[39m              fmt=\u001b[33m'\u001b[39m\u001b[33mo\u001b[39m\u001b[33m'\u001b[39m,\n\u001b[32m    143\u001b[39m              label=\u001b[33m'\u001b[39m\u001b[33mObjective Value\u001b[39m\u001b[33m'\u001b[39m)\n\u001b[32m    145\u001b[39m plt.xlabel(\u001b[33m'\u001b[39m\u001b[33mIteration\u001b[39m\u001b[33m'\u001b[39m)\n\u001b[32m    146\u001b[39m plt.ylabel(\u001b[33m'\u001b[39m\u001b[33mObjective Value\u001b[39m\u001b[33m'\u001b[39m)\n",
      "\u001b[31mAttributeError\u001b[39m: 'InteractiveCxListOptimizer' object has no attribute 'objectives_list'"
     ]
    },
    {
     "data": {
      "text/plain": [
       "<Figure size 640x480 with 0 Axes>"
      ]
     },
     "metadata": {},
     "output_type": "display_data"
    }
   ],
   "source": [
    "optimizer.plot_history()"
   ]
  },
  {
   "cell_type": "code",
   "execution_count": null,
   "id": "d6ce4388",
   "metadata": {},
   "outputs": [],
   "source": []
  }
 ],
 "metadata": {
  "kernelspec": {
   "display_name": ".venv",
   "language": "python",
   "name": "python3"
  },
  "language_info": {
   "codemirror_mode": {
    "name": "ipython",
    "version": 3
   },
   "file_extension": ".py",
   "mimetype": "text/x-python",
   "name": "python",
   "nbconvert_exporter": "python",
   "pygments_lexer": "ipython3",
   "version": "3.11.5"
  }
 },
 "nbformat": 4,
 "nbformat_minor": 5
}
