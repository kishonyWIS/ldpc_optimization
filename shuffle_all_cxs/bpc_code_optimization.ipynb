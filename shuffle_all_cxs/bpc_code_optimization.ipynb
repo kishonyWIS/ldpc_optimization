{
 "cells": [
  {
   "cell_type": "code",
   "execution_count": 1,
   "id": "7361dc91",
   "metadata": {},
   "outputs": [],
   "source": [
    "import numpy as np\n",
    "import stim\n",
    "from tqdm import tqdm\n",
    "from cx_list_from_stabilizers_in_sequence import StabilizerCode\n",
    "from interactive_cx_list_optimizer import InteractiveCxListOptimizer\n",
    "import cProfile\n",
    "\n",
    "from quits.qldpc_code import *\n",
    "from quits.circuit import get_qldpc_mem_circuit\n",
    "from quits.decoder import sliding_window_bposd_circuit_mem\n",
    "from quits.simulation import get_stim_mem_result"
   ]
  },
  {
   "cell_type": "code",
   "execution_count": 2,
   "id": "db3e7385",
   "metadata": {},
   "outputs": [],
   "source": [
    "lift_size, factor = 15, 3   \n",
    "p1 = [0, 1, 5]    # e + x + x^5\n",
    "p2 = [0, 2, 7]    # e + x^2 + x^7"
   ]
  },
  {
   "cell_type": "code",
   "execution_count": 3,
   "id": "ef0e5b94",
   "metadata": {},
   "outputs": [
    {
     "name": "stdout",
     "output_type": "stream",
     "text": [
      "# data qubits:  90  # logical qubits:  8\n",
      "# z-check qubits:  45  # x-check qubits:  45\n",
      "# layers of entangling gates:  8\n"
     ]
    }
   ],
   "source": [
    "code = BpcCode(p1, p2, lift_size, factor)  # Define the BpcCode object\n",
    "code.build_graph(seed=1)                   # Build the Tanner graph and assign directions to its edges. \n",
    "\n",
    "num_zcheck, num_data = code.hz.shape\n",
    "num_xcheck, num_data = code.hx.shape\n",
    "num_logical = code.lz.shape[0]\n",
    "depth = sum(list(code.num_colors.values())) \n",
    "print('# data qubits: ', num_data, ' # logical qubits: ', num_logical)\n",
    "print('# z-check qubits: ', num_zcheck, ' # x-check qubits: ', num_xcheck)\n",
    "print('# layers of entangling gates: ', depth)"
   ]
  },
  {
   "cell_type": "code",
   "execution_count": 4,
   "id": "3324e9ae",
   "metadata": {},
   "outputs": [],
   "source": [
    "\n",
    "p = 2e-3           # physical error rate\n",
    "num_rounds = 15    # number of rounds (T-1)\n",
    "basis = 'Z'        # 'Z' or 'X'\n",
    "\n",
    "circuit = stim.Circuit(get_qldpc_mem_circuit(code, p, p, p, p, num_rounds, basis=basis))"
   ]
  },
  {
   "cell_type": "code",
   "execution_count": 5,
   "id": "3da7dd61",
   "metadata": {},
   "outputs": [
    {
     "name": "stderr",
     "output_type": "stream",
     "text": [
      "100%|██████████| 10/10 [00:01<00:00,  8.60it/s]"
     ]
    },
    {
     "name": "stdout",
     "output_type": "stream",
     "text": [
      "p: 0.0020000, LFR: 0.0069994\n"
     ]
    },
    {
     "name": "stderr",
     "output_type": "stream",
     "text": [
      "\n"
     ]
    }
   ],
   "source": [
    "num_trials = 10\n",
    "# Simulate the circuit using Stim. \n",
    "detection_events, observable_flips = get_stim_mem_result(circuit, num_trials, seed=1)   # simulate the circuit using Stim\n",
    "\n",
    "W, F = 5, 3                     # sliding window parameters\n",
    "max_iter, osd_order = 20, 10    # BP-OSD decoder parameters \n",
    "\n",
    "# Perform decoding of the detection_events generated from simulating the circuit. \n",
    "# Returns the logical observable flip predicted from decoding. \n",
    "logical_pred = sliding_window_bposd_circuit_mem(detection_events, circuit, code.hz, code.lz,\\\n",
    "                                                W, F, max_iter=max_iter, osd_order=osd_order, tqdm_on=True)\n",
    "\n",
    "# Logical error is recorded whenever logical_pred does not match observable_flips for any logical qubit at any round\n",
    "pL = np.sum((observable_flips- logical_pred).any(axis=1)) / num_trials\n",
    "lfr = 1 - (1-pL)**(1/num_rounds)\n",
    "print('p: %.7f, LFR: %.7f'%(p, lfr))"
   ]
  },
  {
   "cell_type": "code",
   "execution_count": 6,
   "id": "8b4db467",
   "metadata": {},
   "outputs": [
    {
     "name": "stdout",
     "output_type": "stream",
     "text": [
      "[[1 0 0 ... 0 0 0]\n",
      " [0 1 0 ... 0 0 0]\n",
      " [0 0 1 ... 0 0 0]\n",
      " ...\n",
      " [0 0 0 ... 1 0 1]\n",
      " [0 0 0 ... 0 1 0]\n",
      " [0 0 0 ... 0 0 1]]\n",
      "[[1 0 0 ... 0 0 0]\n",
      " [0 1 0 ... 0 0 0]\n",
      " [1 0 1 ... 0 0 0]\n",
      " ...\n",
      " [0 0 0 ... 1 0 0]\n",
      " [0 0 0 ... 0 1 0]\n",
      " [0 0 0 ... 0 0 1]]\n"
     ]
    }
   ],
   "source": [
    "print(code.hx)\n",
    "print(code.hz)"
   ]
  },
  {
   "cell_type": "code",
   "execution_count": 7,
   "id": "da3b2a64",
   "metadata": {},
   "outputs": [],
   "source": [
    "stabilizer_x = []\n",
    "for i in range(code.hx.shape[0]):\n",
    "    row = []\n",
    "    for j in range(code.hx.shape[1]):\n",
    "        if code.hx[i,j] == 1:\n",
    "            row.append(j)\n",
    "    stabilizer_x.append(row)\n",
    "    \n",
    "stabilizer_z = []\n",
    "for i in range(code.hz.shape[0]):\n",
    "    row = []\n",
    "    for j in range(code.hz.shape[1]):\n",
    "        if code.hz[i,j] == 1:\n",
    "            row.append(j)\n",
    "    stabilizer_z.append(row)\n",
    "\n",
    "bpc_code = StabilizerCode(stabilizer_x, stabilizer_z, code.lx, code.lz)\n",
    "cx_list = bpc_code.generate_cx_list()\n",
    "ancilla_type, data_mapping, ancilla_mapping = bpc_code.build_mappings()\n"
   ]
  },
  {
   "cell_type": "code",
   "execution_count": 8,
   "id": "b501d305",
   "metadata": {},
   "outputs": [],
   "source": [
    "optimizer = InteractiveCxListOptimizer(\n",
    "    initial_cx_list=cx_list,\n",
    "    ancilla_type=ancilla_type,\n",
    "    data_mapping=data_mapping,\n",
    "    ancilla_mapping=ancilla_mapping,\n",
    "    lz=code.lz,\n",
    "    p_cx=2e-4,\n",
    "    p_idle=2e-4,\n",
    "    cycles_with_noise=15,\n",
    ")\n"
   ]
  },
  {
   "cell_type": "code",
   "execution_count": null,
   "id": "cb53e0e7",
   "metadata": {},
   "outputs": [],
   "source": []
  },
  {
   "cell_type": "code",
   "execution_count": 9,
   "id": "4eb538c6",
   "metadata": {},
   "outputs": [
    {
     "name": "stderr",
     "output_type": "stream",
     "text": [
      "\u001b[31mStarting 10 workers...\u001b[0m\n"
     ]
    },
    {
     "name": "stdout",
     "output_type": "stream",
     "text": [
      "Total idling time: 30692\n"
     ]
    },
    {
     "name": "stderr",
     "output_type": "stream",
     "text": [
      "\u001b[31m1 tasks left:\n",
      "  workers decoder eta shots_left errors_left json_metadata\n",
      "       10   bposd <1m         99          10 N,o,n,e      \u001b[0m\n",
      "\u001b[31m1 tasks left:\n",
      "  workers decoder eta shots_left errors_left json_metadata\n",
      "       10   bposd <1m         94          10 N,o,n,e      \u001b[0m\n",
      "\u001b[31m1 tasks left:\n",
      "  workers decoder eta shots_left errors_left json_metadata\n",
      "       10   bposd <1m         90          10 N,o,n,e      \u001b[0m\n",
      "\u001b[31m1 tasks left:\n",
      "  workers decoder eta shots_left errors_left json_metadata\n",
      "       10   bposd <1m         82          10 N,o,n,e      \u001b[0m\n",
      "\u001b[31m1 tasks left:\n",
      "  workers decoder eta shots_left errors_left json_metadata\n",
      "       10   bposd <1m         72          10 N,o,n,e      \u001b[0m\n",
      "\u001b[31m1 tasks left:\n",
      "  workers decoder eta shots_left errors_left json_metadata\n",
      "       10   bposd <1m         58          10 N,o,n,e      \u001b[0m\n",
      "\u001b[31m1 tasks left:\n",
      "  workers decoder eta shots_left errors_left json_metadata\n",
      "       10   bposd <1m         46          10 N,o,n,e      \u001b[0m\n",
      "\u001b[31m1 tasks left:\n",
      "  workers decoder eta shots_left errors_left json_metadata\n",
      "       10   bposd <1m         30          10 N,o,n,e      \u001b[0m\n",
      "\u001b[31m1 tasks left:\n",
      "  workers decoder eta shots_left errors_left json_metadata\n",
      "       10   bposd <1m         17          10 N,o,n,e      \u001b[0m\n",
      "\u001b[31m1 tasks left:\n",
      "  workers decoder eta shots_left errors_left json_metadata\n",
      "       10   bposd <1m          5          10 N,o,n,e      \u001b[0m\n",
      "\u001b[31m1 tasks left:\n",
      "  workers decoder eta shots_left errors_left json_metadata\n",
      "       10   bposd <1m          3          10 N,o,n,e      \u001b[0m\n",
      "\u001b[31m0 tasks left:\n",
      "\u001b[0m\n",
      "\u001b[31mStarting 10 workers...\u001b[0m\n"
     ]
    },
    {
     "name": "stdout",
     "output_type": "stream",
     "text": [
      "Total idling time: 30700\n"
     ]
    },
    {
     "name": "stderr",
     "output_type": "stream",
     "text": [
      "\u001b[31m1 tasks left:\n",
      "  workers decoder eta shots_left errors_left json_metadata\n",
      "       10   bposd <1m         99          10 N,o,n,e      \u001b[0m\n",
      "\u001b[31m1 tasks left:\n",
      "  workers decoder eta shots_left errors_left json_metadata\n",
      "       10   bposd <1m         92          10 N,o,n,e      \u001b[0m\n",
      "\u001b[31m1 tasks left:\n",
      "  workers decoder eta shots_left errors_left json_metadata\n",
      "       10   bposd <1m         90          10 N,o,n,e      \u001b[0m\n",
      "\u001b[31m1 tasks left:\n",
      "  workers decoder eta shots_left errors_left json_metadata\n",
      "       10   bposd <1m         78          10 N,o,n,e      \u001b[0m\n",
      "\u001b[31m1 tasks left:\n",
      "  workers decoder eta shots_left errors_left json_metadata\n",
      "       10   bposd <1m         74          10 N,o,n,e      \u001b[0m\n",
      "\u001b[31m1 tasks left:\n",
      "  workers decoder eta shots_left errors_left json_metadata\n",
      "       10   bposd <1m         62          10 N,o,n,e      \u001b[0m\n",
      "\u001b[31m1 tasks left:\n",
      "  workers decoder eta shots_left errors_left json_metadata\n",
      "       10   bposd <1m         46           9 N,o,n,e      \u001b[0m\n",
      "\u001b[31m1 tasks left:\n",
      "  workers decoder eta shots_left errors_left json_metadata\n",
      "       10   bposd <1m         29           9 N,o,n,e      \u001b[0m\n",
      "\u001b[31m1 tasks left:\n",
      "  workers decoder eta shots_left errors_left json_metadata\n",
      "       10   bposd <1m         17           9 N,o,n,e      \u001b[0m\n",
      "\u001b[31m1 tasks left:\n",
      "  workers decoder eta shots_left errors_left json_metadata\n",
      "       10   bposd   ?          0           9 N,o,n,e      \u001b[0m\n",
      "\u001b[31mStarting 10 workers...\u001b[0m\n"
     ]
    },
    {
     "name": "stdout",
     "output_type": "stream",
     "text": [
      "Total idling time: 30691\n"
     ]
    },
    {
     "name": "stderr",
     "output_type": "stream",
     "text": [
      "\u001b[31m1 tasks left:\n",
      "  workers decoder eta shots_left errors_left json_metadata\n",
      "       10   bposd <1m         99          10 N,o,n,e      \u001b[0m\n",
      "\u001b[31m1 tasks left:\n",
      "  workers decoder eta shots_left errors_left json_metadata\n",
      "       10   bposd <1m         91          10 N,o,n,e      \u001b[0m\n",
      "\u001b[31m1 tasks left:\n",
      "  workers decoder eta shots_left errors_left json_metadata\n",
      "       10   bposd <1m         88          10 N,o,n,e      \u001b[0m\n",
      "\u001b[31m1 tasks left:\n",
      "  workers decoder eta shots_left errors_left json_metadata\n",
      "       10   bposd <1m         76          10 N,o,n,e      \u001b[0m\n",
      "\u001b[31m1 tasks left:\n",
      "  workers decoder eta shots_left errors_left json_metadata\n",
      "       10   bposd <1m         70          10 N,o,n,e      \u001b[0m\n",
      "\u001b[31m1 tasks left:\n",
      "  workers decoder eta shots_left errors_left json_metadata\n",
      "       10   bposd <1m         54          10 N,o,n,e      \u001b[0m\n",
      "\u001b[31m1 tasks left:\n",
      "  workers decoder eta shots_left errors_left json_metadata\n",
      "       10   bposd <1m         34          10 N,o,n,e      \u001b[0m\n",
      "\u001b[31m1 tasks left:\n",
      "  workers decoder eta shots_left errors_left json_metadata\n",
      "       10   bposd <1m         24          10 N,o,n,e      \u001b[0m\n",
      "\u001b[31m1 tasks left:\n",
      "  workers decoder eta shots_left errors_left json_metadata\n",
      "       10   bposd <1m          3          10 N,o,n,e      \u001b[0m\n",
      "\u001b[31m1 tasks left:\n",
      "  workers decoder eta shots_left errors_left json_metadata\n",
      "       10   bposd   ?          0          10 N,o,n,e      \u001b[0m\n"
     ]
    }
   ],
   "source": [
    "optimizer.run_optimization(\n",
    "    max_bp_iterations=10,\n",
    "    osd_order=2,\n",
    "    iterations=2,\n",
    "    max_num_shots=100,\n",
    "    max_num_errors=10,\n",
    ")"
   ]
  },
  {
   "cell_type": "code",
   "execution_count": 10,
   "id": "d521c413",
   "metadata": {},
   "outputs": [
    {
     "data": {
      "image/png": "[encoded data removed]",
      "text/plain": [
       "<Figure size 640x480 with 1 Axes>"
      ]
     },
     "metadata": {},
     "output_type": "display_data"
    }
   ],
   "source": [
    "optimizer.plot_history()"
   ]
  }
 ],
 "metadata": {
  "kernelspec": {
   "display_name": ".venv",
   "language": "python",
   "name": "python3"
  },
  "language_info": {
   "codemirror_mode": {
    "name": "ipython",
    "version": 3
   },
   "file_extension": ".py",
   "mimetype": "text/x-python",
   "name": "python",
   "nbconvert_exporter": "python",
   "pygments_lexer": "ipython3",
   "version": "3.11.5"
  }
 },
 "nbformat": 4,
 "nbformat_minor": 5
}
