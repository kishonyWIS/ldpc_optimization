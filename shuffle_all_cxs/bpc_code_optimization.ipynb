{
 "cells": [
  {
   "cell_type": "code",
   "execution_count": 1,
   "id": "7361dc91",
   "metadata": {},
   "outputs": [],
   "source": [
    "import numpy as np\n",
    "import stim\n",
    "from tqdm import tqdm\n",
    "from quits.qldpc_code import *\n",
    "from quits.circuit import get_qldpc_mem_circuit\n",
    "from quits.decoder import sliding_window_bposd_circuit_mem\n",
    "from quits.simulation import get_stim_mem_result"
   ]
  },
  {
   "cell_type": "code",
   "execution_count": null,
   "id": "db3e7385",
   "metadata": {},
   "outputs": [],
   "source": []
  }
 ],
 "metadata": {
  "kernelspec": {
   "display_name": ".venv",
   "language": "python",
   "name": "python3"
  },
  "language_info": {
   "codemirror_mode": {
    "name": "ipython",
    "version": 3
   },
   "file_extension": ".py",
   "mimetype": "text/x-python",
   "name": "python",
   "nbconvert_exporter": "python",
   "pygments_lexer": "ipython3",
   "version": "3.11.5"
  }
 },
 "nbformat": 4,
 "nbformat_minor": 5
}
