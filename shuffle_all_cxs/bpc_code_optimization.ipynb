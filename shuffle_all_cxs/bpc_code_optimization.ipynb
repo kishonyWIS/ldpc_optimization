{
 "cells": [
  {
   "cell_type": "code",
   "id": "7361dc91",
   "metadata": {
    "ExecuteTime": {
     "end_time": "2025-04-17T15:20:22.561499Z",
     "start_time": "2025-04-17T15:20:22.556919Z"
    }
   },
   "source": [
    "import numpy as np\n",
    "import stim\n",
    "from tqdm import tqdm\n",
    "from cx_list_from_stabilizers_in_sequence import StabilizerCode\n",
    "from interactive_cx_list_optimizer import InteractiveCxListOptimizer\n",
    "import cProfile\n",
    "\n",
    "from quits.qldpc_code import *\n",
    "from quits.circuit import get_qldpc_mem_circuit\n",
    "from quits.decoder import sliding_window_bposd_circuit_mem\n",
    "from quits.simulation import get_stim_mem_result"
   ],
   "outputs": [],
   "execution_count": 120
  },
  {
   "cell_type": "code",
   "id": "db3e7385",
   "metadata": {
    "ExecuteTime": {
     "end_time": "2025-04-17T15:20:22.934729Z",
     "start_time": "2025-04-17T15:20:22.930050Z"
    }
   },
   "source": [
    "lift_size, factor = 15, 3   \n",
    "p1 = [0, 1, 5]    # e + x + x^5\n",
    "p2 = [0, 2, 7]    # e + x^2 + x^7"
   ],
   "outputs": [],
   "execution_count": 121
  },
  {
   "metadata": {
    "ExecuteTime": {
     "end_time": "2025-04-17T15:20:23.324994Z",
     "start_time": "2025-04-17T15:20:23.296952Z"
    }
   },
   "cell_type": "code",
   "source": [
    "code = BpcCode(p1, p2, lift_size, factor)  # Define the BpcCode object\n",
    "code.build_graph(seed=1)                   # Build the Tanner graph and assign directions to its edges. \n",
    "\n",
    "num_zcheck, num_data = code.hz.shape\n",
    "num_xcheck, num_data = code.hx.shape\n",
    "num_logical = code.lz.shape[0]\n",
    "depth = sum(list(code.num_colors.values())) \n",
    "print('# data qubits: ', num_data, ' # logical qubits: ', num_logical)\n",
    "print('# z-check qubits: ', num_zcheck, ' # x-check qubits: ', num_xcheck)\n",
    "print('# layers of entangling gates: ', depth)"
   ],
   "id": "4a94666bdc6f308c",
   "outputs": [
    {
     "name": "stdout",
     "output_type": "stream",
     "text": [
      "# data qubits:  90  # logical qubits:  8\n",
      "# z-check qubits:  45  # x-check qubits:  45\n",
      "# layers of entangling gates:  8\n"
     ]
    }
   ],
   "execution_count": 122
  },
  {
   "metadata": {
    "ExecuteTime": {
     "end_time": "2025-04-17T15:20:23.711324Z",
     "start_time": "2025-04-17T15:20:23.702351Z"
    }
   },
   "cell_type": "code",
   "source": [
    "p = 2e-3           # physical error rate\n",
    "num_rounds = 15    # number of rounds (T-1)\n",
    "basis = 'Z'        # 'Z' or 'X'\n",
    "\n",
    "circuit = stim.Circuit(get_qldpc_mem_circuit(code, p, p, p, p, num_rounds, basis=basis))"
   ],
   "id": "3b552ff0fb22d8e6",
   "outputs": [],
   "execution_count": 123
  },
  {
   "metadata": {
    "ExecuteTime": {
     "end_time": "2025-04-17T15:20:25.453920Z",
     "start_time": "2025-04-17T15:20:24.077557Z"
    }
   },
   "cell_type": "code",
   "source": [
    "num_trials = 10\n",
    "# Simulate the circuit using Stim. \n",
    "detection_events, observable_flips = get_stim_mem_result(circuit, num_trials, seed=1)   # simulate the circuit using Stim\n",
    "\n",
    "W, F = 5, 3                     # sliding window parameters\n",
    "max_iter, osd_order = 20, 10    # BP-OSD decoder parameters \n",
    "\n",
    "# Perform decoding of the detection_events generated from simulating the circuit. \n",
    "# Returns the logical observable flip predicted from decoding. \n",
    "logical_pred = sliding_window_bposd_circuit_mem(detection_events, circuit, code.hz, code.lz,\\\n",
    "                                                W, F, max_iter=max_iter, osd_order=osd_order, tqdm_on=True)\n",
    "\n",
    "# Logical error is recorded whenever logical_pred does not match observable_flips for any logical qubit at any round\n",
    "pL = np.sum((observable_flips- logical_pred).any(axis=1)) / num_trials\n",
    "lfr = 1 - (1-pL)**(1/num_rounds)\n",
    "print('p: %.7f, LFR: %.7f'%(p, lfr))"
   ],
   "id": "f1be6b3283413aa8",
   "outputs": [
    {
     "name": "stderr",
     "output_type": "stream",
     "text": [
      "100%|██████████| 10/10 [00:01<00:00,  7.96it/s]"
     ]
    },
    {
     "name": "stdout",
     "output_type": "stream",
     "text": [
      "p: 0.0020000, LFR: 0.0000000\n"
     ]
    },
    {
     "name": "stderr",
     "output_type": "stream",
     "text": [
      "\n"
     ]
    }
   ],
   "execution_count": 124
  },
  {
   "metadata": {
    "ExecuteTime": {
     "end_time": "2025-04-17T15:20:25.474202Z",
     "start_time": "2025-04-17T15:20:25.472126Z"
    }
   },
   "cell_type": "code",
   "source": [
    "print(code.hx)\n",
    "print(code.hz)"
   ],
   "id": "5bceac76b21c301c",
   "outputs": [
    {
     "name": "stdout",
     "output_type": "stream",
     "text": [
      "[[1 0 0 ... 0 0 0]\n",
      " [0 1 0 ... 0 0 0]\n",
      " [0 0 1 ... 0 0 0]\n",
      " ...\n",
      " [0 0 0 ... 1 0 1]\n",
      " [0 0 0 ... 0 1 0]\n",
      " [0 0 0 ... 0 0 1]]\n",
      "[[1 0 0 ... 0 0 0]\n",
      " [0 1 0 ... 0 0 0]\n",
      " [1 0 1 ... 0 0 0]\n",
      " ...\n",
      " [0 0 0 ... 1 0 0]\n",
      " [0 0 0 ... 0 1 0]\n",
      " [0 0 0 ... 0 0 1]]\n"
     ]
    }
   ],
   "execution_count": 125
  },
  {
   "metadata": {
    "ExecuteTime": {
     "end_time": "2025-04-17T15:20:25.490151Z",
     "start_time": "2025-04-17T15:20:25.485550Z"
    }
   },
   "cell_type": "code",
   "source": [
    "stabilizer_x = []\n",
    "for i in range(code.hx.shape[0]):\n",
    "    row = []\n",
    "    for j in range(code.hx.shape[1]):\n",
    "        if code.hx[i,j] == 1:\n",
    "            row.append(j)\n",
    "    stabilizer_x.append(row)\n",
    "    \n",
    "stabilizer_z = []\n",
    "for i in range(code.hz.shape[0]):\n",
    "    row = []\n",
    "    for j in range(code.hz.shape[1]):\n",
    "        if code.hz[i,j] == 1:\n",
    "            row.append(j)\n",
    "    stabilizer_z.append(row)\n",
    "\n",
    "bpc_code = StabilizerCode(stabilizer_x, stabilizer_z, code.lx, code.lz)\n",
    "cx_list = bpc_code.generate_cx_list()\n",
    "ancilla_type, data_mapping, ancilla_mapping = bpc_code.build_mappings()\n"
   ],
   "id": "d99e450fba0e4fb5",
   "outputs": [],
   "execution_count": 126
  },
  {
   "metadata": {
    "ExecuteTime": {
     "end_time": "2025-04-17T15:20:26.344738Z",
     "start_time": "2025-04-17T15:20:26.339149Z"
    }
   },
   "cell_type": "code",
   "source": [
    "new_ancilla_mapping = {'Z'+str(i): q for i, q in enumerate(code.zcheck_qubits)}\n",
    "new_ancilla_mapping.update({'X'+str(i): q for i, q in enumerate(code.xcheck_qubits)})\n",
    "new_ancilla_type = {name: 'X' if name[0] == 'X' else 'Z' for name in new_ancilla_mapping.keys()}\n",
    "new_data_mapping = {q: q for q in set(code.all_qubits) - set(new_ancilla_mapping.values())}"
   ],
   "id": "2aea9f442a3cb2b2",
   "outputs": [],
   "execution_count": 127
  },
  {
   "metadata": {
    "ExecuteTime": {
     "end_time": "2025-04-17T15:20:26.910753Z",
     "start_time": "2025-04-17T15:20:26.908153Z"
    }
   },
   "cell_type": "code",
   "source": [
    "new_cx_list = []\n",
    "directions = list(code.direction_inds.keys())\n",
    "for direction_ind in range(len(directions)):\n",
    "    direction = directions[direction_ind]\n",
    "    for color in range(code.num_colors[direction]):\n",
    "        edges = code.colored_edges[direction_ind][color]\n",
    "        new_cx_list.extend(list(zip(edges[::2], edges[1::2])))"
   ],
   "id": "5d570960e51acf85",
   "outputs": [],
   "execution_count": 128
  },
  {
   "metadata": {
    "ExecuteTime": {
     "end_time": "2025-04-17T15:20:27.784226Z",
     "start_time": "2025-04-17T15:20:27.779174Z"
    }
   },
   "cell_type": "code",
   "source": [
    "all_qubits_ids_to_names = {}\n",
    "for name, q in new_ancilla_mapping.items():\n",
    "    all_qubits_ids_to_names[q] = name\n",
    "for name, q in new_data_mapping.items():\n",
    "    all_qubits_ids_to_names[q] = name"
   ],
   "id": "c722eeb7a186d7c5",
   "outputs": [],
   "execution_count": 129
  },
  {
   "metadata": {
    "ExecuteTime": {
     "end_time": "2025-04-17T15:20:28.715073Z",
     "start_time": "2025-04-17T15:20:28.709269Z"
    }
   },
   "cell_type": "code",
   "source": [
    "# map qubit indices to ancilla names or data names in the cx_list\n",
    "for i in range(len(new_cx_list)):\n",
    "    q1, q2 = new_cx_list[i]\n",
    "    new_cx_list[i] = (all_qubits_ids_to_names[q1], all_qubits_ids_to_names[q2])\n",
    "    # change the order so that the data qubit is always the first one\n",
    "    if new_cx_list[i][0] in new_ancilla_mapping:\n",
    "        assert new_cx_list[i][1] in new_data_mapping\n",
    "        new_cx_list[i] = (new_cx_list[i][1], new_cx_list[i][0])\n",
    "    else:\n",
    "        assert new_cx_list[i][1] in new_ancilla_mapping"
   ],
   "id": "f350d5ad6d378433",
   "outputs": [],
   "execution_count": 130
  },
  {
   "metadata": {
    "ExecuteTime": {
     "end_time": "2025-04-17T15:20:30.136556Z",
     "start_time": "2025-04-17T15:20:30.132958Z"
    }
   },
   "cell_type": "code",
   "source": [
    "p_cx = 1e-3\n",
    "p_idle = 0"
   ],
   "id": "bf1c668ecddfd96b",
   "outputs": [],
   "execution_count": 131
  },
  {
   "metadata": {
    "ExecuteTime": {
     "end_time": "2025-04-17T15:20:45.997283Z",
     "start_time": "2025-04-17T15:20:45.993259Z"
    }
   },
   "cell_type": "code",
   "source": [
    "optimizer = InteractiveCxListOptimizer(\n",
    "    initial_cx_list=cx_list,\n",
    "    ancilla_type=ancilla_type,\n",
    "    data_mapping=data_mapping,\n",
    "    ancilla_mapping=ancilla_mapping,\n",
    "    lz=code.lz,\n",
    "    lx=code.lx,\n",
    "    experiment_type='both',\n",
    "    p_cx=p_cx,\n",
    "    p_idle=p_idle,\n",
    "    cycles_with_noise=15,\n",
    ")"
   ],
   "id": "a11344301d311757",
   "outputs": [],
   "execution_count": 132
  },
  {
   "metadata": {
    "ExecuteTime": {
     "end_time": "2025-04-17T14:02:35.784020Z",
     "start_time": "2025-04-17T14:02:35.780350Z"
    }
   },
   "cell_type": "code",
   "source": [
    "optimizer = InteractiveCxListOptimizer(\n",
    "    initial_cx_list=new_cx_list,\n",
    "    ancilla_type=new_ancilla_type,\n",
    "    data_mapping=new_data_mapping,\n",
    "    ancilla_mapping=new_ancilla_mapping,\n",
    "    lz=code.lz,\n",
    "    lx=code.lx,\n",
    "    experiment_type='both',\n",
    "    p_cx=p_cx,\n",
    "    p_idle=p_idle,\n",
    "    cycles_with_noise=15,\n",
    ")"
   ],
   "id": "1c4d1751e050249a",
   "outputs": [],
   "execution_count": 92
  },
  {
   "metadata": {
    "ExecuteTime": {
     "end_time": "2025-04-17T16:25:28.277560Z",
     "start_time": "2025-04-17T15:20:49.455623Z"
    }
   },
   "cell_type": "code",
   "source": [
    "optimizer.run_optimization(\n",
    "    max_bp_iterations=10,\n",
    "    osd_order=2,\n",
    "    iterations=100,\n",
    "    max_num_shots=10_000,\n",
    "    max_num_errors=100,\n",
    "    step_type='single_stabilizer',\n",
    ")"
   ],
   "id": "2eb1137d00e87497",
   "outputs": [
    {
     "name": "stdout",
     "output_type": "stream",
     "text": [
      "Total idling time: 0\n",
      "Total idling time: 0\n",
      "Total idling time: 0\n",
      "Total idling time: 0\n",
      "Iteration 0: improved objective to 0.00838252000000006\n",
      "Total idling time: 0\n",
      "Total idling time: 0\n",
      "Iteration 1: improved objective to 0.00708770000000003\n",
      "Total idling time: 0\n",
      "Total idling time: 0\n",
      "Total idling time: 0\n",
      "Total idling time: 0\n",
      "Total idling time: 0\n",
      "Total idling time: 0\n",
      "Total idling time: 0\n",
      "Total idling time: 0\n",
      "Total idling time: 0\n",
      "Total idling time: 0\n",
      "Iteration 6: improved objective to 0.005991639999999965\n",
      "Total idling time: 0\n",
      "Total idling time: 0\n",
      "Total idling time: 0\n",
      "Total idling time: 0\n",
      "Total idling time: 0\n",
      "Total idling time: 0\n",
      "Total idling time: 0\n",
      "Total idling time: 0\n",
      "Total idling time: 0\n",
      "Total idling time: 0\n",
      "Total idling time: 0\n",
      "Total idling time: 0\n",
      "Total idling time: 0\n",
      "Total idling time: 0\n",
      "Total idling time: 0\n",
      "Total idling time: 0\n",
      "Total idling time: 0\n",
      "Total idling time: 0\n",
      "Total idling time: 0\n",
      "Total idling time: 0\n",
      "Total idling time: 0\n",
      "Total idling time: 0\n",
      "Total idling time: 0\n",
      "Total idling time: 0\n",
      "Total idling time: 0\n",
      "Total idling time: 0\n",
      "Total idling time: 0\n",
      "Total idling time: 0\n",
      "Total idling time: 0\n",
      "Total idling time: 0\n",
      "Total idling time: 0\n",
      "Total idling time: 0\n",
      "Total idling time: 0\n",
      "Total idling time: 0\n",
      "Total idling time: 0\n"
     ]
    },
    {
     "ename": "KeyboardInterrupt",
     "evalue": "",
     "output_type": "error",
     "traceback": [
      "\u001B[0;31m---------------------------------------------------------------------------\u001B[0m",
      "\u001B[0;31mKeyboardInterrupt\u001B[0m                         Traceback (most recent call last)",
      "Cell \u001B[0;32mIn[133], line 1\u001B[0m\n\u001B[0;32m----> 1\u001B[0m \u001B[43moptimizer\u001B[49m\u001B[38;5;241;43m.\u001B[39;49m\u001B[43mrun_optimization\u001B[49m\u001B[43m(\u001B[49m\n\u001B[1;32m      2\u001B[0m \u001B[43m    \u001B[49m\u001B[43mmax_bp_iterations\u001B[49m\u001B[38;5;241;43m=\u001B[39;49m\u001B[38;5;241;43m10\u001B[39;49m\u001B[43m,\u001B[49m\n\u001B[1;32m      3\u001B[0m \u001B[43m    \u001B[49m\u001B[43mosd_order\u001B[49m\u001B[38;5;241;43m=\u001B[39;49m\u001B[38;5;241;43m2\u001B[39;49m\u001B[43m,\u001B[49m\n\u001B[1;32m      4\u001B[0m \u001B[43m    \u001B[49m\u001B[43miterations\u001B[49m\u001B[38;5;241;43m=\u001B[39;49m\u001B[38;5;241;43m100\u001B[39;49m\u001B[43m,\u001B[49m\n\u001B[1;32m      5\u001B[0m \u001B[43m    \u001B[49m\u001B[43mmax_num_shots\u001B[49m\u001B[38;5;241;43m=\u001B[39;49m\u001B[38;5;241;43m10_000\u001B[39;49m\u001B[43m,\u001B[49m\n\u001B[1;32m      6\u001B[0m \u001B[43m    \u001B[49m\u001B[43mmax_num_errors\u001B[49m\u001B[38;5;241;43m=\u001B[39;49m\u001B[38;5;241;43m100\u001B[39;49m\u001B[43m,\u001B[49m\n\u001B[1;32m      7\u001B[0m \u001B[43m    \u001B[49m\u001B[43mstep_type\u001B[49m\u001B[38;5;241;43m=\u001B[39;49m\u001B[38;5;124;43m'\u001B[39;49m\u001B[38;5;124;43msingle_stabilizer\u001B[39;49m\u001B[38;5;124;43m'\u001B[39;49m\u001B[43m,\u001B[49m\n\u001B[1;32m      8\u001B[0m \u001B[43m)\u001B[49m\n",
      "File \u001B[0;32m~/PycharmProjects/ldpc_optimization/shuffle_all_cxs/interactive_cx_list_optimizer.py:185\u001B[0m, in \u001B[0;36mInteractiveCxListOptimizer.run_optimization\u001B[0;34m(self, max_bp_iterations, osd_order, iterations, max_num_shots, max_num_errors, draw, step_type)\u001B[0m\n\u001B[1;32m    183\u001B[0m \u001B[38;5;28;01mif\u001B[39;00m \u001B[38;5;129;01mnot\u001B[39;00m changed:\n\u001B[1;32m    184\u001B[0m     \u001B[38;5;28;01mcontinue\u001B[39;00m\n\u001B[0;32m--> 185\u001B[0m status \u001B[38;5;241m=\u001B[39m \u001B[38;5;28;43mself\u001B[39;49m\u001B[38;5;241;43m.\u001B[39;49m\u001B[43mmeasure_logical_error_rate\u001B[49m\u001B[43m(\u001B[49m\u001B[43mcandidate\u001B[49m\u001B[43m,\u001B[49m\n\u001B[1;32m    186\u001B[0m \u001B[43m                                         \u001B[49m\u001B[43mmax_num_shots\u001B[49m\u001B[38;5;241;43m=\u001B[39;49m\u001B[43mmax_num_shots\u001B[49m\u001B[43m,\u001B[49m\n\u001B[1;32m    187\u001B[0m \u001B[43m                                         \u001B[49m\u001B[43mmax_num_errors\u001B[49m\u001B[38;5;241;43m=\u001B[39;49m\u001B[43mmax_num_errors\u001B[49m\u001B[43m)\u001B[49m\n\u001B[1;32m    188\u001B[0m \u001B[38;5;28mself\u001B[39m\u001B[38;5;241m.\u001B[39moptimizer_history\u001B[38;5;241m.\u001B[39mappend(status)\n\u001B[1;32m    189\u001B[0m \u001B[38;5;28;01mif\u001B[39;00m status\u001B[38;5;241m.\u001B[39mobjective_value \u001B[38;5;241m<\u001B[39m\u001B[38;5;241m=\u001B[39m \u001B[38;5;28mself\u001B[39m\u001B[38;5;241m.\u001B[39mbest_obj:\n",
      "File \u001B[0;32m~/PycharmProjects/ldpc_optimization/shuffle_all_cxs/interactive_cx_list_optimizer.py:89\u001B[0m, in \u001B[0;36mInteractiveCxListOptimizer.measure_logical_error_rate\u001B[0;34m(self, cx_list, max_num_shots, max_num_errors)\u001B[0m\n\u001B[1;32m     85\u001B[0m \u001B[38;5;28;01melif\u001B[39;00m \u001B[38;5;28mself\u001B[39m\u001B[38;5;241m.\u001B[39mexperiment_type \u001B[38;5;241m==\u001B[39m \u001B[38;5;124m\"\u001B[39m\u001B[38;5;124mBOTH\u001B[39m\u001B[38;5;124m\"\u001B[39m:\n\u001B[1;32m     86\u001B[0m     \u001B[38;5;66;03m# Simulate for X and Z separately.\u001B[39;00m\n\u001B[1;32m     87\u001B[0m     status_x \u001B[38;5;241m=\u001B[39m \u001B[38;5;28mself\u001B[39m\u001B[38;5;241m.\u001B[39m_simulate_circuit(cx_list, \u001B[38;5;28mself\u001B[39m\u001B[38;5;241m.\u001B[39mlx, \u001B[38;5;124m\"\u001B[39m\u001B[38;5;124mX\u001B[39m\u001B[38;5;124m\"\u001B[39m,\n\u001B[1;32m     88\u001B[0m                                       max_num_shots, max_num_errors)\n\u001B[0;32m---> 89\u001B[0m     status_z \u001B[38;5;241m=\u001B[39m \u001B[38;5;28;43mself\u001B[39;49m\u001B[38;5;241;43m.\u001B[39;49m\u001B[43m_simulate_circuit\u001B[49m\u001B[43m(\u001B[49m\u001B[43mcx_list\u001B[49m\u001B[43m,\u001B[49m\u001B[43m \u001B[49m\u001B[38;5;28;43mself\u001B[39;49m\u001B[38;5;241;43m.\u001B[39;49m\u001B[43mlz\u001B[49m\u001B[43m,\u001B[49m\u001B[43m \u001B[49m\u001B[38;5;124;43m\"\u001B[39;49m\u001B[38;5;124;43mZ\u001B[39;49m\u001B[38;5;124;43m\"\u001B[39;49m\u001B[43m,\u001B[49m\n\u001B[1;32m     90\u001B[0m \u001B[43m                                      \u001B[49m\u001B[43mmax_num_shots\u001B[49m\u001B[43m,\u001B[49m\u001B[43m \u001B[49m\u001B[43mmax_num_errors\u001B[49m\u001B[43m)\u001B[49m\n\u001B[1;32m     91\u001B[0m     E_x \u001B[38;5;241m=\u001B[39m status_x\u001B[38;5;241m.\u001B[39mobjective_value\n\u001B[1;32m     92\u001B[0m     E_z \u001B[38;5;241m=\u001B[39m status_z\u001B[38;5;241m.\u001B[39mobjective_value\n",
      "File \u001B[0;32m~/PycharmProjects/ldpc_optimization/shuffle_all_cxs/interactive_cx_list_optimizer.py:111\u001B[0m, in \u001B[0;36mInteractiveCxListOptimizer._simulate_circuit\u001B[0;34m(self, cx_list, logicals, logical_type, max_num_shots, max_num_errors)\u001B[0m\n\u001B[1;32m    103\u001B[0m \u001B[38;5;28;01mdef\u001B[39;00m\u001B[38;5;250m \u001B[39m\u001B[38;5;21m_simulate_circuit\u001B[39m(\u001B[38;5;28mself\u001B[39m, cx_list: List[CXGate],\n\u001B[1;32m    104\u001B[0m                       logicals: np\u001B[38;5;241m.\u001B[39mndarray,\n\u001B[1;32m    105\u001B[0m                       logical_type: \u001B[38;5;28mstr\u001B[39m,\n\u001B[1;32m    106\u001B[0m                       max_num_shots: \u001B[38;5;28mint\u001B[39m,\n\u001B[1;32m    107\u001B[0m                       max_num_errors: \u001B[38;5;28mint\u001B[39m) \u001B[38;5;241m-\u001B[39m\u001B[38;5;241m>\u001B[39m OptimizerStatus:\n\u001B[1;32m    108\u001B[0m \u001B[38;5;250m    \u001B[39m\u001B[38;5;124;03m\"\"\"\u001B[39;00m\n\u001B[1;32m    109\u001B[0m \u001B[38;5;124;03m    Helper to build and simulate a circuit using memory_experiment_circuit_from_cx_list.\u001B[39;00m\n\u001B[1;32m    110\u001B[0m \u001B[38;5;124;03m    \"\"\"\u001B[39;00m\n\u001B[0;32m--> 111\u001B[0m     _, circ, idle_time \u001B[38;5;241m=\u001B[39m \u001B[43mmemory_experiment_circuit_from_cx_list\u001B[49m\u001B[43m(\u001B[49m\n\u001B[1;32m    112\u001B[0m \u001B[43m        \u001B[49m\u001B[43mcx_list\u001B[49m\u001B[38;5;241;43m=\u001B[39;49m\u001B[43mcx_list\u001B[49m\u001B[43m,\u001B[49m\n\u001B[1;32m    113\u001B[0m \u001B[43m        \u001B[49m\u001B[43mancilla_type\u001B[49m\u001B[38;5;241;43m=\u001B[39;49m\u001B[38;5;28;43mself\u001B[39;49m\u001B[38;5;241;43m.\u001B[39;49m\u001B[43mancilla_type\u001B[49m\u001B[43m,\u001B[49m\n\u001B[1;32m    114\u001B[0m \u001B[43m        \u001B[49m\u001B[43mdata_mapping\u001B[49m\u001B[38;5;241;43m=\u001B[39;49m\u001B[38;5;28;43mself\u001B[39;49m\u001B[38;5;241;43m.\u001B[39;49m\u001B[43mdata_mapping\u001B[49m\u001B[43m,\u001B[49m\n\u001B[1;32m    115\u001B[0m \u001B[43m        \u001B[49m\u001B[43mancilla_mapping\u001B[49m\u001B[38;5;241;43m=\u001B[39;49m\u001B[38;5;28;43mself\u001B[39;49m\u001B[38;5;241;43m.\u001B[39;49m\u001B[43mancilla_mapping\u001B[49m\u001B[43m,\u001B[49m\n\u001B[1;32m    116\u001B[0m \u001B[43m        \u001B[49m\u001B[43mflag_mapping\u001B[49m\u001B[38;5;241;43m=\u001B[39;49m\u001B[38;5;28;43mdict\u001B[39;49m\u001B[43m(\u001B[49m\u001B[43m)\u001B[49m\u001B[43m,\u001B[49m\u001B[43m  \u001B[49m\u001B[38;5;66;43;03m# No flag mapping used here\u001B[39;49;00m\n\u001B[1;32m    117\u001B[0m \u001B[43m        \u001B[49m\u001B[43mlogicals\u001B[49m\u001B[38;5;241;43m=\u001B[39;49m\u001B[43mlogicals\u001B[49m\u001B[43m,\u001B[49m\n\u001B[1;32m    118\u001B[0m \u001B[43m        \u001B[49m\u001B[43mlogical_type\u001B[49m\u001B[38;5;241;43m=\u001B[39;49m\u001B[43mlogical_type\u001B[49m\u001B[43m,\u001B[49m\n\u001B[1;32m    119\u001B[0m \u001B[43m        \u001B[49m\u001B[43mp_cx\u001B[49m\u001B[38;5;241;43m=\u001B[39;49m\u001B[38;5;28;43mself\u001B[39;49m\u001B[38;5;241;43m.\u001B[39;49m\u001B[43mp_cx\u001B[49m\u001B[43m,\u001B[49m\n\u001B[1;32m    120\u001B[0m \u001B[43m        \u001B[49m\u001B[43mp_idle\u001B[49m\u001B[38;5;241;43m=\u001B[39;49m\u001B[38;5;28;43mself\u001B[39;49m\u001B[38;5;241;43m.\u001B[39;49m\u001B[43mp_idle\u001B[49m\u001B[43m,\u001B[49m\n\u001B[1;32m    121\u001B[0m \u001B[43m        \u001B[49m\u001B[43mcycles_before_noise\u001B[49m\u001B[38;5;241;43m=\u001B[39;49m\u001B[38;5;241;43m1\u001B[39;49m\u001B[43m,\u001B[49m\n\u001B[1;32m    122\u001B[0m \u001B[43m        \u001B[49m\u001B[43mcycles_with_noise\u001B[49m\u001B[38;5;241;43m=\u001B[39;49m\u001B[38;5;28;43mself\u001B[39;49m\u001B[38;5;241;43m.\u001B[39;49m\u001B[43mcycles_with_noise\u001B[49m\u001B[43m,\u001B[49m\n\u001B[1;32m    123\u001B[0m \u001B[43m        \u001B[49m\u001B[43mcycles_after_noise\u001B[49m\u001B[38;5;241;43m=\u001B[39;49m\u001B[38;5;241;43m1\u001B[39;49m\u001B[43m,\u001B[49m\n\u001B[1;32m    124\u001B[0m \u001B[43m        \u001B[49m\u001B[43mflag\u001B[49m\u001B[38;5;241;43m=\u001B[39;49m\u001B[38;5;28;43;01mFalse\u001B[39;49;00m\n\u001B[1;32m    125\u001B[0m \u001B[43m    \u001B[49m\u001B[43m)\u001B[49m\n\u001B[1;32m    126\u001B[0m     task \u001B[38;5;241m=\u001B[39m sinter\u001B[38;5;241m.\u001B[39mTask(circuit\u001B[38;5;241m=\u001B[39mcirc)\n\u001B[1;32m    127\u001B[0m     stats \u001B[38;5;241m=\u001B[39m sinter\u001B[38;5;241m.\u001B[39mcollect(tasks\u001B[38;5;241m=\u001B[39m[task],\n\u001B[1;32m    128\u001B[0m                            num_workers\u001B[38;5;241m=\u001B[39m\u001B[38;5;241m10\u001B[39m,\n\u001B[1;32m    129\u001B[0m                            max_shots\u001B[38;5;241m=\u001B[39mmax_num_shots,\n\u001B[1;32m    130\u001B[0m                            max_errors\u001B[38;5;241m=\u001B[39mmax_num_errors,\n\u001B[1;32m    131\u001B[0m                            decoders\u001B[38;5;241m=\u001B[39m[\u001B[38;5;124m'\u001B[39m\u001B[38;5;124mbposd\u001B[39m\u001B[38;5;124m'\u001B[39m],\n\u001B[1;32m    132\u001B[0m                            custom_decoders\u001B[38;5;241m=\u001B[39m\u001B[38;5;28mself\u001B[39m\u001B[38;5;241m.\u001B[39mcustom_decoders)\n",
      "File \u001B[0;32m~/PycharmProjects/ldpc_optimization/shuffle_all_cxs/circuit_from_cx_list.py:110\u001B[0m, in \u001B[0;36mmemory_experiment_circuit_from_cx_list\u001B[0;34m(cx_list, ancilla_type, data_mapping, ancilla_mapping, flag_mapping, logicals, logical_type, p_cx, p_idle, both_detectors, cycles_before_noise, cycles_with_noise, cycles_after_noise, flag)\u001B[0m\n\u001B[1;32m    108\u001B[0m \u001B[38;5;28;01mfor\u001B[39;00m cycle \u001B[38;5;129;01min\u001B[39;00m all_cycles[cycles_before_noise: cycles_before_noise\u001B[38;5;241m+\u001B[39mcycles_with_noise]:\n\u001B[1;32m    109\u001B[0m     noisy_part_of_circ \u001B[38;5;241m+\u001B[39m\u001B[38;5;241m=\u001B[39m cycle\n\u001B[0;32m--> 110\u001B[0m noisy_part_of_circ, idle_time \u001B[38;5;241m=\u001B[39m \u001B[43madd_noise_to_circuit\u001B[49m\u001B[43m(\u001B[49m\u001B[43mnoisy_part_of_circ\u001B[49m\u001B[43m,\u001B[49m\u001B[43m \u001B[49m\u001B[43mnoisy_qubits\u001B[49m\u001B[38;5;241;43m=\u001B[39;49m\u001B[43mnoisy_qubits\u001B[49m\u001B[43m,\u001B[49m\u001B[43m \u001B[49m\u001B[43mp_idle\u001B[49m\u001B[38;5;241;43m=\u001B[39;49m\u001B[43mp_idle\u001B[49m\u001B[43m,\u001B[49m\u001B[43m \u001B[49m\u001B[43mp_cx\u001B[49m\u001B[38;5;241;43m=\u001B[39;49m\u001B[43mp_cx\u001B[49m\u001B[43m)\u001B[49m\n\u001B[1;32m    111\u001B[0m circ \u001B[38;5;241m+\u001B[39m\u001B[38;5;241m=\u001B[39m noisy_part_of_circ\n\u001B[1;32m    112\u001B[0m \u001B[38;5;66;03m# add last noiseless cycles\u001B[39;00m\n",
      "File \u001B[0;32m~/PycharmProjects/ldpc_optimization/shuffle_all_cxs/noisy_cx_circuit.py:71\u001B[0m, in \u001B[0;36madd_noise_to_circuit\u001B[0;34m(circ_in, noisy_qubits, p_idle, p_cx)\u001B[0m\n\u001B[1;32m     69\u001B[0m \u001B[38;5;28;01mif\u001B[39;00m q_c \u001B[38;5;129;01min\u001B[39;00m noisy_qubits \u001B[38;5;129;01mand\u001B[39;00m q_t \u001B[38;5;129;01min\u001B[39;00m noisy_qubits \u001B[38;5;129;01mand\u001B[39;00m p_cx \u001B[38;5;241m>\u001B[39m \u001B[38;5;241m0\u001B[39m:\n\u001B[1;32m     70\u001B[0m     new_circ\u001B[38;5;241m.\u001B[39mappend_operation(\u001B[38;5;124m\"\u001B[39m\u001B[38;5;124mDEPOLARIZE2\u001B[39m\u001B[38;5;124m\"\u001B[39m, [q_c, q_t], p_cx)\n\u001B[0;32m---> 71\u001B[0m \u001B[43mnew_circ\u001B[49m\u001B[38;5;241;43m.\u001B[39;49m\u001B[43mappend_operation\u001B[49m\u001B[43m(\u001B[49m\u001B[38;5;124;43m\"\u001B[39;49m\u001B[38;5;124;43mCX\u001B[39;49m\u001B[38;5;124;43m\"\u001B[39;49m\u001B[43m,\u001B[49m\u001B[43m \u001B[49m\u001B[43m[\u001B[49m\u001B[43mq_c\u001B[49m\u001B[43m,\u001B[49m\u001B[43m \u001B[49m\u001B[43mq_t\u001B[49m\u001B[43m]\u001B[49m\u001B[43m)\u001B[49m\n\u001B[1;32m     72\u001B[0m qubits_last_used[q_c] \u001B[38;5;241m=\u001B[39m t\n\u001B[1;32m     73\u001B[0m qubits_last_used[q_t] \u001B[38;5;241m=\u001B[39m t\n",
      "\u001B[0;31mKeyboardInterrupt\u001B[0m: "
     ]
    }
   ],
   "execution_count": 133
  },
  {
   "metadata": {
    "ExecuteTime": {
     "end_time": "2025-04-17T16:25:31.132114Z",
     "start_time": "2025-04-17T16:25:31.035075Z"
    }
   },
   "cell_type": "code",
   "source": "optimizer.plot_history()",
   "id": "206547031a841210",
   "outputs": [
    {
     "data": {
      "text/plain": [
       "<Figure size 640x480 with 1 Axes>"
      ],
      "image/png": "[encoded data removed]"
     },
     "metadata": {},
     "output_type": "display_data"
    }
   ],
   "execution_count": 134
  },
  {
   "metadata": {},
   "cell_type": "code",
   "outputs": [],
   "execution_count": null,
   "source": "",
   "id": "9f404d134db5c750"
  }
 ],
 "metadata": {
  "kernelspec": {
   "display_name": ".venv",
   "language": "python",
   "name": "python3"
  },
  "language_info": {
   "codemirror_mode": {
    "name": "ipython",
    "version": 3
   },
   "file_extension": ".py",
   "mimetype": "text/x-python",
   "name": "python",
   "nbconvert_exporter": "python",
   "pygments_lexer": "ipython3",
   "version": "3.11.5"
  }
 },
 "nbformat": 4,
 "nbformat_minor": 5
}
