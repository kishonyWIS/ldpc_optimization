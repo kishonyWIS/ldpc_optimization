{
 "cells": [
  {
   "cell_type": "code",
   "id": "7361dc91",
   "metadata": {
    "ExecuteTime": {
     "end_time": "2025-05-09T15:15:52.470814Z",
     "start_time": "2025-05-09T15:15:51.686582Z"
    }
   },
   "source": [
    "import numpy as np\n",
    "import stim\n",
    "from tqdm import tqdm\n",
    "from cx_list_from_stabilizers_in_sequence import StabilizerCode\n",
    "from interactive_cx_list_optimizer import InteractiveCxListOptimizer\n",
    "import cProfile\n",
    "\n",
    "from quits.qldpc_code import *\n",
    "from quits.circuit import get_qldpc_mem_circuit\n",
    "from quits.decoder import sliding_window_bposd_circuit_mem\n",
    "from quits.simulation import get_stim_mem_result\n",
    "from circuit_from_cx_list import memory_experiment_circuit_from_cx_list"
   ],
   "outputs": [],
   "execution_count": 1
  },
  {
   "cell_type": "code",
   "id": "db3e7385",
   "metadata": {
    "ExecuteTime": {
     "end_time": "2025-05-09T15:15:53.150664Z",
     "start_time": "2025-05-09T15:15:53.147616Z"
    }
   },
   "source": [
    "lift_size, factor = 15, 3\n",
    "p1 = [0, 1, 5]    # e + x + x^5\n",
    "p2 = [0, 2, 7]    # e + x^2 + x^7"
   ],
   "outputs": [],
   "execution_count": 2
  },
  {
   "metadata": {
    "ExecuteTime": {
     "end_time": "2025-05-09T15:15:54.117253Z",
     "start_time": "2025-05-09T15:15:54.086907Z"
    }
   },
   "cell_type": "code",
   "source": [
    "code = BpcCode(p1, p2, lift_size, factor)  # Define the BpcCode object\n",
    "code.build_graph(seed=1)                   # Build the Tanner graph and assign directions to its edges. \n",
    "\n",
    "num_zcheck, num_data = code.hz.shape\n",
    "num_xcheck, num_data = code.hx.shape\n",
    "num_logical = code.lz.shape[0]\n",
    "depth = sum(list(code.num_colors.values())) \n",
    "print('# data qubits: ', num_data, ' # logical qubits: ', num_logical)\n",
    "print('# z-check qubits: ', num_zcheck, ' # x-check qubits: ', num_xcheck)\n",
    "print('# layers of entangling gates: ', depth)"
   ],
   "id": "4a94666bdc6f308c",
   "outputs": [
    {
     "name": "stdout",
     "output_type": "stream",
     "text": [
      "# data qubits:  90  # logical qubits:  8\n",
      "# z-check qubits:  45  # x-check qubits:  45\n",
      "# layers of entangling gates:  8\n"
     ]
    }
   ],
   "execution_count": 3
  },
  {
   "metadata": {
    "ExecuteTime": {
     "end_time": "2025-05-09T15:15:54.860518Z",
     "start_time": "2025-05-09T15:15:54.851497Z"
    }
   },
   "cell_type": "code",
   "source": [
    "p = 2e-3           # physical error rate\n",
    "num_rounds = 15    # number of rounds (T-1)\n",
    "basis = 'Z'        # 'Z' or 'X'\n",
    "\n",
    "circuit = stim.Circuit(get_qldpc_mem_circuit(code, p, p, p, p, num_rounds, basis=basis))"
   ],
   "id": "3b552ff0fb22d8e6",
   "outputs": [],
   "execution_count": 4
  },
  {
   "metadata": {
    "ExecuteTime": {
     "end_time": "2025-05-09T15:15:57.276799Z",
     "start_time": "2025-05-09T15:15:55.910728Z"
    }
   },
   "cell_type": "code",
   "source": [
    "num_trials = 10\n",
    "# Simulate the circuit using Stim. \n",
    "detection_events, observable_flips = get_stim_mem_result(circuit, num_trials, seed=1)   # simulate the circuit using Stim\n",
    "\n",
    "W, F = 5, 3                     # sliding window parameters\n",
    "max_iter, osd_order = 20, 10    # BP-OSD decoder parameters \n",
    "\n",
    "# Perform decoding of the detection_events generated from simulating the circuit. \n",
    "# Returns the logical observable flip predicted from decoding. \n",
    "logical_pred = sliding_window_bposd_circuit_mem(detection_events, circuit, code.hz, code.lz,\\\n",
    "                                                W, F, max_iter=max_iter, osd_order=osd_order, tqdm_on=True)\n",
    "\n",
    "# Logical error is recorded whenever logical_pred does not match observable_flips for any logical qubit at any round\n",
    "pL = np.sum((observable_flips- logical_pred).any(axis=1)) / num_trials\n",
    "lfr = 1 - (1-pL)**(1/num_rounds)\n",
    "print('p: %.7f, LFR: %.7f'%(p, lfr))"
   ],
   "id": "f1be6b3283413aa8",
   "outputs": [
    {
     "name": "stderr",
     "output_type": "stream",
     "text": [
      "100%|██████████| 10/10 [00:01<00:00,  8.03it/s]"
     ]
    },
    {
     "name": "stdout",
     "output_type": "stream",
     "text": [
      "p: 0.0020000, LFR: 0.0000000\n"
     ]
    },
    {
     "name": "stderr",
     "output_type": "stream",
     "text": [
      "\n"
     ]
    }
   ],
   "execution_count": 5
  },
  {
   "metadata": {
    "ExecuteTime": {
     "end_time": "2025-05-09T15:16:02.824700Z",
     "start_time": "2025-05-09T15:16:02.819187Z"
    }
   },
   "cell_type": "code",
   "source": [
    "print(code.hx)\n",
    "print(code.hz)"
   ],
   "id": "5bceac76b21c301c",
   "outputs": [
    {
     "name": "stdout",
     "output_type": "stream",
     "text": [
      "[[1 0 0 ... 0 0 0]\n",
      " [0 1 0 ... 0 0 0]\n",
      " [0 0 1 ... 0 0 0]\n",
      " ...\n",
      " [0 0 0 ... 1 0 1]\n",
      " [0 0 0 ... 0 1 0]\n",
      " [0 0 0 ... 0 0 1]]\n",
      "[[1 0 0 ... 0 0 0]\n",
      " [0 1 0 ... 0 0 0]\n",
      " [1 0 1 ... 0 0 0]\n",
      " ...\n",
      " [0 0 0 ... 1 0 0]\n",
      " [0 0 0 ... 0 1 0]\n",
      " [0 0 0 ... 0 0 1]]\n"
     ]
    }
   ],
   "execution_count": 6
  },
  {
   "metadata": {
    "ExecuteTime": {
     "end_time": "2025-05-09T15:16:04.316003Z",
     "start_time": "2025-05-09T15:16:04.307435Z"
    }
   },
   "cell_type": "code",
   "source": [
    "stabilizer_x = []\n",
    "for i in range(code.hx.shape[0]):\n",
    "    row = []\n",
    "    for j in range(code.hx.shape[1]):\n",
    "        if code.hx[i,j] == 1:\n",
    "            row.append(j)\n",
    "    stabilizer_x.append(row)\n",
    "    \n",
    "stabilizer_z = []\n",
    "for i in range(code.hz.shape[0]):\n",
    "    row = []\n",
    "    for j in range(code.hz.shape[1]):\n",
    "        if code.hz[i,j] == 1:\n",
    "            row.append(j)\n",
    "    stabilizer_z.append(row)\n",
    "\n",
    "bpc_code = StabilizerCode(stabilizer_x, stabilizer_z, code.lx, code.lz)\n",
    "cx_list = bpc_code.generate_cx_list()\n",
    "ancilla_type, data_mapping, ancilla_mapping = bpc_code.build_mappings()\n",
    "qubit_to_name = {v:k for k,v in data_mapping.items()}\n",
    "qubit_to_name.update({v:k for k,v in ancilla_mapping.items()})"
   ],
   "id": "d99e450fba0e4fb5",
   "outputs": [],
   "execution_count": 7
  },
  {
   "metadata": {
    "ExecuteTime": {
     "end_time": "2025-05-09T15:16:06.643984Z",
     "start_time": "2025-05-09T15:16:06.637894Z"
    }
   },
   "cell_type": "code",
   "source": [
    "from permute_within_each_stabilizer import random_permutation_within_each_stabilizer\n",
    "from permute_single_stabilizer import permute_single_stabilizer_inplace"
   ],
   "id": "1860cec8b1bb5bc",
   "outputs": [],
   "execution_count": 8
  },
  {
   "metadata": {
    "ExecuteTime": {
     "end_time": "2025-05-09T15:16:09.578949Z",
     "start_time": "2025-05-09T15:16:09.573667Z"
    }
   },
   "cell_type": "code",
   "source": "random_permutation_within_each_stabilizer(cx_list)",
   "id": "e4ab53921092fd82",
   "outputs": [],
   "execution_count": 9
  },
  {
   "metadata": {
    "ExecuteTime": {
     "end_time": "2025-05-09T15:16:10.784076Z",
     "start_time": "2025-05-09T15:16:10.777261Z"
    }
   },
   "cell_type": "code",
   "source": [
    "def get_minimal_error():\n",
    "    _, circ, idle_time = memory_experiment_circuit_from_cx_list(\n",
    "                cx_list=cx_list,\n",
    "                ancilla_type=ancilla_type,\n",
    "                data_mapping=data_mapping,\n",
    "                ancilla_mapping=ancilla_mapping,\n",
    "                flag_mapping=dict(),  # No flag mapping used here\n",
    "                logicals=code.lz,\n",
    "                logical_type='Z',\n",
    "                p_cx=0.,\n",
    "                p_idle=0.,\n",
    "                p_measurement_error=0.01,\n",
    "                p_phenomenological_error=0.01,\n",
    "                hook_errors=hook_errors,\n",
    "                cycles_before_noise=1,\n",
    "                cycles_with_noise=1,\n",
    "                cycles_after_noise=1,\n",
    "                flag=False\n",
    "            )\n",
    "    errors = circ.search_for_undetectable_logical_errors(\n",
    "        dont_explore_edges_increasing_symptom_degree=False,\n",
    "        dont_explore_detection_event_sets_with_size_above=7,\n",
    "        dont_explore_edges_with_degree_above=9999,\n",
    "        canonicalize_circuit_errors=True,\n",
    "    )\n",
    "    qubits_in_minimal_error = [error.circuit_error_locations[0].instruction_targets.targets_in_range[0].gate_target.value for error in errors]\n",
    "    hook_ancillas_in_minimal_error = [qubit_to_name[qubit] for qubit in qubits_in_minimal_error if qubit in ancilla_mapping.values()]\n",
    "    return hook_ancillas_in_minimal_error, len(errors)"
   ],
   "id": "2d1b015260b338fc",
   "outputs": [],
   "execution_count": 10
  },
  {
   "metadata": {
    "ExecuteTime": {
     "end_time": "2025-05-09T15:16:28.286522Z",
     "start_time": "2025-05-09T15:16:28.042032Z"
    }
   },
   "cell_type": "code",
   "source": [
    "# start with hook errors on all ancillas, then keep only hook errors on ancillas in minimal error\n",
    "for _ in range(1000):\n",
    "    hook_errors = {ancilla: [(1,0.01),(2,0.01),(3,0.01)] for ancilla, a_type in ancilla_type.items() if a_type == 'X'}\n",
    "    bad_ancillas, distance = get_minimal_error()\n",
    "    print(bad_ancillas)\n",
    "    print('full distance: ', distance)\n",
    "    hook_errors = {ancilla: [(1,0.01),(2,0.01),(3,0.01)] for ancilla in bad_ancillas}\n",
    "    while True:\n",
    "        a = np.random.choice(bad_ancillas)\n",
    "        permute_single_stabilizer_inplace(cx_list, a)\n",
    "        bad_ancillas, new_distance = get_minimal_error()\n",
    "        print('new distance: ', new_distance)\n",
    "        if new_distance > distance:\n",
    "            break"
   ],
   "id": "8d529a4202addb24",
   "outputs": [
    {
     "ename": "KeyboardInterrupt",
     "evalue": "",
     "output_type": "error",
     "traceback": [
      "\u001B[0;31m---------------------------------------------------------------------------\u001B[0m",
      "\u001B[0;31mKeyboardInterrupt\u001B[0m                         Traceback (most recent call last)",
      "Cell \u001B[0;32mIn[12], line 4\u001B[0m\n\u001B[1;32m      2\u001B[0m \u001B[38;5;28;01mfor\u001B[39;00m _ \u001B[38;5;129;01min\u001B[39;00m \u001B[38;5;28mrange\u001B[39m(\u001B[38;5;241m1000\u001B[39m):\n\u001B[1;32m      3\u001B[0m     hook_errors \u001B[38;5;241m=\u001B[39m {ancilla: [(\u001B[38;5;241m1\u001B[39m,\u001B[38;5;241m0.01\u001B[39m),(\u001B[38;5;241m2\u001B[39m,\u001B[38;5;241m0.01\u001B[39m),(\u001B[38;5;241m3\u001B[39m,\u001B[38;5;241m0.01\u001B[39m)] \u001B[38;5;28;01mfor\u001B[39;00m ancilla, a_type \u001B[38;5;129;01min\u001B[39;00m ancilla_type\u001B[38;5;241m.\u001B[39mitems() \u001B[38;5;28;01mif\u001B[39;00m a_type \u001B[38;5;241m==\u001B[39m \u001B[38;5;124m'\u001B[39m\u001B[38;5;124mX\u001B[39m\u001B[38;5;124m'\u001B[39m}\n\u001B[0;32m----> 4\u001B[0m     bad_ancillas, distance \u001B[38;5;241m=\u001B[39m \u001B[43mget_minimal_error\u001B[49m\u001B[43m(\u001B[49m\u001B[43m)\u001B[49m\n\u001B[1;32m      5\u001B[0m     \u001B[38;5;28mprint\u001B[39m(bad_ancillas)\n\u001B[1;32m      6\u001B[0m     \u001B[38;5;28mprint\u001B[39m(\u001B[38;5;124m'\u001B[39m\u001B[38;5;124mfull distance: \u001B[39m\u001B[38;5;124m'\u001B[39m, distance)\n",
      "Cell \u001B[0;32mIn[10], line 2\u001B[0m, in \u001B[0;36mget_minimal_error\u001B[0;34m()\u001B[0m\n\u001B[1;32m      1\u001B[0m \u001B[38;5;28;01mdef\u001B[39;00m\u001B[38;5;250m \u001B[39m\u001B[38;5;21mget_minimal_error\u001B[39m():\n\u001B[0;32m----> 2\u001B[0m     _, circ, idle_time \u001B[38;5;241m=\u001B[39m \u001B[43mmemory_experiment_circuit_from_cx_list\u001B[49m\u001B[43m(\u001B[49m\n\u001B[1;32m      3\u001B[0m \u001B[43m                \u001B[49m\u001B[43mcx_list\u001B[49m\u001B[38;5;241;43m=\u001B[39;49m\u001B[43mcx_list\u001B[49m\u001B[43m,\u001B[49m\n\u001B[1;32m      4\u001B[0m \u001B[43m                \u001B[49m\u001B[43mancilla_type\u001B[49m\u001B[38;5;241;43m=\u001B[39;49m\u001B[43mancilla_type\u001B[49m\u001B[43m,\u001B[49m\n\u001B[1;32m      5\u001B[0m \u001B[43m                \u001B[49m\u001B[43mdata_mapping\u001B[49m\u001B[38;5;241;43m=\u001B[39;49m\u001B[43mdata_mapping\u001B[49m\u001B[43m,\u001B[49m\n\u001B[1;32m      6\u001B[0m \u001B[43m                \u001B[49m\u001B[43mancilla_mapping\u001B[49m\u001B[38;5;241;43m=\u001B[39;49m\u001B[43mancilla_mapping\u001B[49m\u001B[43m,\u001B[49m\n\u001B[1;32m      7\u001B[0m \u001B[43m                \u001B[49m\u001B[43mflag_mapping\u001B[49m\u001B[38;5;241;43m=\u001B[39;49m\u001B[38;5;28;43mdict\u001B[39;49m\u001B[43m(\u001B[49m\u001B[43m)\u001B[49m\u001B[43m,\u001B[49m\u001B[43m  \u001B[49m\u001B[38;5;66;43;03m# No flag mapping used here\u001B[39;49;00m\n\u001B[1;32m      8\u001B[0m \u001B[43m                \u001B[49m\u001B[43mlogicals\u001B[49m\u001B[38;5;241;43m=\u001B[39;49m\u001B[43mcode\u001B[49m\u001B[38;5;241;43m.\u001B[39;49m\u001B[43mlz\u001B[49m\u001B[43m,\u001B[49m\n\u001B[1;32m      9\u001B[0m \u001B[43m                \u001B[49m\u001B[43mlogical_type\u001B[49m\u001B[38;5;241;43m=\u001B[39;49m\u001B[38;5;124;43m'\u001B[39;49m\u001B[38;5;124;43mZ\u001B[39;49m\u001B[38;5;124;43m'\u001B[39;49m\u001B[43m,\u001B[49m\n\u001B[1;32m     10\u001B[0m \u001B[43m                \u001B[49m\u001B[43mp_cx\u001B[49m\u001B[38;5;241;43m=\u001B[39;49m\u001B[38;5;241;43m0.\u001B[39;49m\u001B[43m,\u001B[49m\n\u001B[1;32m     11\u001B[0m \u001B[43m                \u001B[49m\u001B[43mp_idle\u001B[49m\u001B[38;5;241;43m=\u001B[39;49m\u001B[38;5;241;43m0.\u001B[39;49m\u001B[43m,\u001B[49m\n\u001B[1;32m     12\u001B[0m \u001B[43m                \u001B[49m\u001B[43mp_measurement_error\u001B[49m\u001B[38;5;241;43m=\u001B[39;49m\u001B[38;5;241;43m0.01\u001B[39;49m\u001B[43m,\u001B[49m\n\u001B[1;32m     13\u001B[0m \u001B[43m                \u001B[49m\u001B[43mp_phenomenological_error\u001B[49m\u001B[38;5;241;43m=\u001B[39;49m\u001B[38;5;241;43m0.01\u001B[39;49m\u001B[43m,\u001B[49m\n\u001B[1;32m     14\u001B[0m \u001B[43m                \u001B[49m\u001B[43mhook_errors\u001B[49m\u001B[38;5;241;43m=\u001B[39;49m\u001B[43mhook_errors\u001B[49m\u001B[43m,\u001B[49m\n\u001B[1;32m     15\u001B[0m \u001B[43m                \u001B[49m\u001B[43mcycles_before_noise\u001B[49m\u001B[38;5;241;43m=\u001B[39;49m\u001B[38;5;241;43m1\u001B[39;49m\u001B[43m,\u001B[49m\n\u001B[1;32m     16\u001B[0m \u001B[43m                \u001B[49m\u001B[43mcycles_with_noise\u001B[49m\u001B[38;5;241;43m=\u001B[39;49m\u001B[38;5;241;43m1\u001B[39;49m\u001B[43m,\u001B[49m\n\u001B[1;32m     17\u001B[0m \u001B[43m                \u001B[49m\u001B[43mcycles_after_noise\u001B[49m\u001B[38;5;241;43m=\u001B[39;49m\u001B[38;5;241;43m1\u001B[39;49m\u001B[43m,\u001B[49m\n\u001B[1;32m     18\u001B[0m \u001B[43m                \u001B[49m\u001B[43mflag\u001B[49m\u001B[38;5;241;43m=\u001B[39;49m\u001B[38;5;28;43;01mFalse\u001B[39;49;00m\n\u001B[1;32m     19\u001B[0m \u001B[43m            \u001B[49m\u001B[43m)\u001B[49m\n\u001B[1;32m     20\u001B[0m     errors \u001B[38;5;241m=\u001B[39m circ\u001B[38;5;241m.\u001B[39msearch_for_undetectable_logical_errors(\n\u001B[1;32m     21\u001B[0m         dont_explore_edges_increasing_symptom_degree\u001B[38;5;241m=\u001B[39m\u001B[38;5;28;01mFalse\u001B[39;00m,\n\u001B[1;32m     22\u001B[0m         dont_explore_detection_event_sets_with_size_above\u001B[38;5;241m=\u001B[39m\u001B[38;5;241m7\u001B[39m,\n\u001B[1;32m     23\u001B[0m         dont_explore_edges_with_degree_above\u001B[38;5;241m=\u001B[39m\u001B[38;5;241m9999\u001B[39m,\n\u001B[1;32m     24\u001B[0m         canonicalize_circuit_errors\u001B[38;5;241m=\u001B[39m\u001B[38;5;28;01mTrue\u001B[39;00m,\n\u001B[1;32m     25\u001B[0m     )\n\u001B[1;32m     26\u001B[0m     qubits_in_minimal_error \u001B[38;5;241m=\u001B[39m [error\u001B[38;5;241m.\u001B[39mcircuit_error_locations[\u001B[38;5;241m0\u001B[39m]\u001B[38;5;241m.\u001B[39minstruction_targets\u001B[38;5;241m.\u001B[39mtargets_in_range[\u001B[38;5;241m0\u001B[39m]\u001B[38;5;241m.\u001B[39mgate_target\u001B[38;5;241m.\u001B[39mvalue \u001B[38;5;28;01mfor\u001B[39;00m error \u001B[38;5;129;01min\u001B[39;00m errors]\n",
      "File \u001B[0;32m~/PycharmProjects/ldpc_optimization/shuffle_all_cxs/circuit_from_cx_list.py:97\u001B[0m, in \u001B[0;36mmemory_experiment_circuit_from_cx_list\u001B[0;34m(cx_list, ancilla_type, data_mapping, ancilla_mapping, flag_mapping, logicals, logical_type, p_cx, p_idle, both_detectors, cycles_before_noise, cycles_with_noise, cycles_after_noise, flag, p_phenomenological_error, p_measurement_error, hook_errors)\u001B[0m\n\u001B[1;32m     94\u001B[0m all_cycles \u001B[38;5;241m=\u001B[39m []\n\u001B[1;32m     95\u001B[0m \u001B[38;5;28;01mfor\u001B[39;00m cycle_no, noisy \u001B[38;5;129;01min\u001B[39;00m \u001B[38;5;28menumerate\u001B[39m(cycles_have_noise):\n\u001B[1;32m     96\u001B[0m     \u001B[38;5;66;03m# Iterate over the global cx_list.\u001B[39;00m\n\u001B[0;32m---> 97\u001B[0m     cycle, measurement_counter \u001B[38;5;241m=\u001B[39m \u001B[43mbuild_syndrome_extraction_cycle\u001B[49m\u001B[43m(\u001B[49m\u001B[43mancilla_mapping\u001B[49m\u001B[43m,\u001B[49m\u001B[43m \u001B[49m\u001B[43mancilla_type\u001B[49m\u001B[43m,\u001B[49m\u001B[43m \u001B[49m\u001B[43mcx_list\u001B[49m\u001B[43m,\u001B[49m\n\u001B[1;32m     98\u001B[0m \u001B[43m                                                                 \u001B[49m\u001B[43mdata_mapping\u001B[49m\u001B[43m,\u001B[49m\u001B[43m \u001B[49m\u001B[43mancilla_positions_in_cx_list\u001B[49m\u001B[43m,\u001B[49m\u001B[43m \u001B[49m\u001B[43mflag\u001B[49m\u001B[43m \u001B[49m\u001B[38;5;129;43;01mand\u001B[39;49;00m\u001B[43m \u001B[49m\u001B[43mnoisy\u001B[49m\u001B[43m \u001B[49m\u001B[38;5;129;43;01mand\u001B[39;49;00m\u001B[43m \u001B[49m\u001B[43m(\u001B[49m\u001B[43mp_cx\u001B[49m\u001B[38;5;241;43m>\u001B[39;49m\u001B[38;5;241;43m0\u001B[39;49m\u001B[43m \u001B[49m\u001B[38;5;129;43;01mor\u001B[39;49;00m\u001B[43m \u001B[49m\u001B[43mp_idle\u001B[49m\u001B[38;5;241;43m>\u001B[39;49m\u001B[38;5;241;43m0\u001B[39;49m\u001B[43m)\u001B[49m\u001B[43m,\u001B[49m\n\u001B[1;32m     99\u001B[0m \u001B[43m                                                                 \u001B[49m\u001B[43mflag_mapping\u001B[49m\u001B[43m,\u001B[49m\u001B[43m \u001B[49m\u001B[43mmeasurement_counter\u001B[49m\u001B[43m,\u001B[49m\u001B[43m \u001B[49m\u001B[43mmeasurement_indexes\u001B[49m\u001B[43m,\u001B[49m\n\u001B[1;32m    100\u001B[0m \u001B[43m                                                                 \u001B[49m\u001B[43mp_phenomenological_error\u001B[49m\u001B[38;5;241;43m=\u001B[39;49m\u001B[43mp_phenomenological_error\u001B[49m\u001B[43m \u001B[49m\u001B[38;5;28;43;01mif\u001B[39;49;00m\u001B[43m \u001B[49m\u001B[43mnoisy\u001B[49m\u001B[43m \u001B[49m\u001B[38;5;28;43;01melse\u001B[39;49;00m\u001B[43m \u001B[49m\u001B[38;5;241;43m0\u001B[39;49m\u001B[43m,\u001B[49m\n\u001B[1;32m    101\u001B[0m \u001B[43m                                                                 \u001B[49m\u001B[43mp_measurement_error\u001B[49m\u001B[38;5;241;43m=\u001B[39;49m\u001B[43mp_measurement_error\u001B[49m\u001B[43m \u001B[49m\u001B[38;5;28;43;01mif\u001B[39;49;00m\u001B[43m \u001B[49m\u001B[43mnoisy\u001B[49m\u001B[43m \u001B[49m\u001B[38;5;28;43;01melse\u001B[39;49;00m\u001B[43m \u001B[49m\u001B[38;5;241;43m0\u001B[39;49m\u001B[43m,\u001B[49m\n\u001B[1;32m    102\u001B[0m \u001B[43m                                                                 \u001B[49m\u001B[43mhook_errors\u001B[49m\u001B[38;5;241;43m=\u001B[39;49m\u001B[43mhook_errors\u001B[49m\u001B[43m \u001B[49m\u001B[38;5;28;43;01mif\u001B[39;49;00m\u001B[43m \u001B[49m\u001B[43mnoisy\u001B[49m\u001B[43m \u001B[49m\u001B[38;5;28;43;01melse\u001B[39;49;00m\u001B[43m \u001B[49m\u001B[43m{\u001B[49m\u001B[43m}\u001B[49m\u001B[43m)\u001B[49m\n\u001B[1;32m    103\u001B[0m     all_cycles\u001B[38;5;241m.\u001B[39mappend(cycle)\n\u001B[1;32m    105\u001B[0m \u001B[38;5;66;03m# Concatenate all cycles into a single circuit.\u001B[39;00m\n",
      "File \u001B[0;32m~/PycharmProjects/ldpc_optimization/shuffle_all_cxs/circuit_from_cx_list.py:241\u001B[0m, in \u001B[0;36mbuild_syndrome_extraction_cycle\u001B[0;34m(ancilla_mapping, ancilla_type, cx_list, data_mapping, ancilla_positions_in_cx_list, flag, flag_mapping, measurement_counter, measurement_indexes, p_phenomenological_error, p_measurement_error, hook_errors)\u001B[0m\n\u001B[1;32m    239\u001B[0m \u001B[38;5;28;01mif\u001B[39;00m p_measurement_error \u001B[38;5;241m>\u001B[39m \u001B[38;5;241m0\u001B[39m:\n\u001B[1;32m    240\u001B[0m     cycle\u001B[38;5;241m.\u001B[39mappend_operation(\u001B[38;5;124m\"\u001B[39m\u001B[38;5;124mX_ERROR\u001B[39m\u001B[38;5;124m\"\u001B[39m, [aq], p_measurement_error)\n\u001B[0;32m--> 241\u001B[0m \u001B[43mcycle\u001B[49m\u001B[38;5;241;43m.\u001B[39;49m\u001B[43mappend_operation\u001B[49m\u001B[43m(\u001B[49m\u001B[38;5;124;43m\"\u001B[39;49m\u001B[38;5;124;43mM\u001B[39;49m\u001B[38;5;124;43m\"\u001B[39;49m\u001B[43m,\u001B[49m\u001B[43m \u001B[49m\u001B[43m[\u001B[49m\u001B[43maq\u001B[49m\u001B[43m]\u001B[49m\u001B[43m)\u001B[49m\n\u001B[1;32m    242\u001B[0m measurement_indexes[\u001B[38;5;124m'\u001B[39m\u001B[38;5;124mZ_syndromes\u001B[39m\u001B[38;5;124m'\u001B[39m][a]\u001B[38;5;241m.\u001B[39mappend(measurement_counter)\n\u001B[1;32m    243\u001B[0m measurement_counter \u001B[38;5;241m+\u001B[39m\u001B[38;5;241m=\u001B[39m \u001B[38;5;241m1\u001B[39m\n",
      "\u001B[0;31mKeyboardInterrupt\u001B[0m: "
     ]
    }
   ],
   "execution_count": 12
  },
  {
   "metadata": {
    "ExecuteTime": {
     "end_time": "2025-05-01T20:09:17.206627Z",
     "start_time": "2025-05-01T20:09:17.202905Z"
    }
   },
   "cell_type": "code",
   "source": "hook_errors = {ancilla: [(1,0.01),(2,0.01),(3,0.01)] for ancilla, a_type in ancilla_type.items() if a_type == 'X'}",
   "id": "bf1c668ecddfd96b",
   "outputs": [],
   "execution_count": 10
  },
  {
   "metadata": {
    "ExecuteTime": {
     "end_time": "2025-05-01T20:19:35.880241Z",
     "start_time": "2025-05-01T20:18:42.826690Z"
    }
   },
   "cell_type": "code",
   "source": [
    "largest_distance = 0\n",
    "best_cx_list = cx_list.copy()\n",
    "for _ in range(100):\n",
    "\n",
    "    print(hook_ancillas_in_minimal_error)\n",
    "    distance = len(errors)\n",
    "    if distance < largest_distance:\n",
    "        cx_list = best_cx_list.copy()\n",
    "    elif distance > largest_distance:\n",
    "        largest_distance = distance\n",
    "        best_cx_list = cx_list.copy()\n",
    "    else:\n",
    "        for a in hook_ancillas_in_minimal_error:\n",
    "            permute_single_stabilizer_inplace(cx_list, a)\n",
    "    print('distance: ', distance)\n",
    "print('largest distance: ', largest_distance)"
   ],
   "id": "a11344301d311757",
   "outputs": [
    {
     "name": "stdout",
     "output_type": "stream",
     "text": [
      "Total idling time: 0\n",
      "['X43', 'X27', 'X11']\n",
      "distance:  6\n",
      "Total idling time: 0\n",
      "['X43', 'X27', 'X11']\n",
      "distance:  6\n",
      "Total idling time: 0\n",
      "['X9', 'X14', 'X17', 'X27', 'X20']\n",
      "distance:  6\n",
      "Total idling time: 0\n",
      "['X30', 'X32', 'X21', 'X23']\n",
      "distance:  6\n",
      "Total idling time: 0\n",
      "['X17', 'X43', 'X35', 'X3', 'X30']\n",
      "distance:  6\n",
      "Total idling time: 0\n",
      "['X20', 'X11', 'X9']\n",
      "distance:  7\n",
      "Total idling time: 0\n",
      "['X20', 'X11', 'X9']\n",
      "distance:  7\n",
      "Total idling time: 0\n",
      "['X15', 'X20', 'X36', 'X41']\n",
      "distance:  7\n",
      "Total idling time: 0\n",
      "['X0', 'X40', 'X2', 'X11']\n",
      "distance:  7\n",
      "Total idling time: 0\n",
      "['X42', 'X36', 'X7', 'X40']\n",
      "distance:  6\n",
      "Total idling time: 0\n",
      "['X20', 'X11', 'X9']\n",
      "distance:  7\n",
      "Total idling time: 0\n",
      "['X23', 'X32', 'X34', 'X43']\n",
      "distance:  7\n",
      "Total idling time: 0\n",
      "['X20', 'X36', 'X41', 'X23']\n",
      "distance:  6\n",
      "Total idling time: 0\n",
      "['X20', 'X11', 'X9']\n",
      "distance:  7\n",
      "Total idling time: 0\n",
      "['X23', 'X32', 'X34', 'X43']\n",
      "distance:  7\n",
      "Total idling time: 0\n",
      "['X15', 'X6', 'X43']\n",
      "distance:  7\n",
      "Total idling time: 0\n",
      "['X15', 'X6']\n",
      "distance:  7\n",
      "Total idling time: 0\n",
      "['X1', 'X34', 'X29']\n",
      "distance:  7\n",
      "Total idling time: 0\n",
      "['X42', 'X36', 'X7']\n",
      "distance:  7\n",
      "Total idling time: 0\n",
      "['X42', 'X3', 'X40', 'X20', 'X43']\n",
      "distance:  7\n",
      "Total idling time: 0\n",
      "['X15', 'X28', 'X43', 'X6']\n",
      "distance:  7\n",
      "Total idling time: 0\n",
      "['X10', 'X17', 'X5', 'X20']\n",
      "distance:  7\n",
      "Total idling time: 0\n",
      "['X10', 'X39']\n",
      "distance:  7\n",
      "Total idling time: 0\n"
     ]
    },
    {
     "ename": "KeyboardInterrupt",
     "evalue": "",
     "output_type": "error",
     "traceback": [
      "\u001B[0;31m---------------------------------------------------------------------------\u001B[0m",
      "\u001B[0;31mKeyboardInterrupt\u001B[0m                         Traceback (most recent call last)",
      "Cell \u001B[0;32mIn[17], line 22\u001B[0m\n\u001B[1;32m      3\u001B[0m \u001B[38;5;28;01mfor\u001B[39;00m _ \u001B[38;5;129;01min\u001B[39;00m \u001B[38;5;28mrange\u001B[39m(\u001B[38;5;241m100\u001B[39m):\n\u001B[1;32m      4\u001B[0m     _, circ, idle_time \u001B[38;5;241m=\u001B[39m memory_experiment_circuit_from_cx_list(\n\u001B[1;32m      5\u001B[0m                 cx_list\u001B[38;5;241m=\u001B[39mcx_list,\n\u001B[1;32m      6\u001B[0m                 ancilla_type\u001B[38;5;241m=\u001B[39mancilla_type,\n\u001B[0;32m   (...)\u001B[0m\n\u001B[1;32m     20\u001B[0m                 flag\u001B[38;5;241m=\u001B[39m\u001B[38;5;28;01mFalse\u001B[39;00m\n\u001B[1;32m     21\u001B[0m             )\n\u001B[0;32m---> 22\u001B[0m     errors \u001B[38;5;241m=\u001B[39m \u001B[43mcirc\u001B[49m\u001B[38;5;241;43m.\u001B[39;49m\u001B[43msearch_for_undetectable_logical_errors\u001B[49m\u001B[43m(\u001B[49m\n\u001B[1;32m     23\u001B[0m \u001B[43m        \u001B[49m\u001B[43mdont_explore_edges_increasing_symptom_degree\u001B[49m\u001B[38;5;241;43m=\u001B[39;49m\u001B[38;5;28;43;01mFalse\u001B[39;49;00m\u001B[43m,\u001B[49m\n\u001B[1;32m     24\u001B[0m \u001B[43m        \u001B[49m\u001B[43mdont_explore_detection_event_sets_with_size_above\u001B[49m\u001B[38;5;241;43m=\u001B[39;49m\u001B[38;5;241;43m7\u001B[39;49m\u001B[43m,\u001B[49m\n\u001B[1;32m     25\u001B[0m \u001B[43m        \u001B[49m\u001B[43mdont_explore_edges_with_degree_above\u001B[49m\u001B[38;5;241;43m=\u001B[39;49m\u001B[38;5;241;43m9999\u001B[39;49m\u001B[43m,\u001B[49m\n\u001B[1;32m     26\u001B[0m \u001B[43m        \u001B[49m\u001B[43mcanonicalize_circuit_errors\u001B[49m\u001B[38;5;241;43m=\u001B[39;49m\u001B[38;5;28;43;01mTrue\u001B[39;49;00m\u001B[43m,\u001B[49m\n\u001B[1;32m     27\u001B[0m \u001B[43m    \u001B[49m\u001B[43m)\u001B[49m\n\u001B[1;32m     28\u001B[0m     qubits_in_minimal_error \u001B[38;5;241m=\u001B[39m [error\u001B[38;5;241m.\u001B[39mcircuit_error_locations[\u001B[38;5;241m0\u001B[39m]\u001B[38;5;241m.\u001B[39minstruction_targets\u001B[38;5;241m.\u001B[39mtargets_in_range[\u001B[38;5;241m0\u001B[39m]\u001B[38;5;241m.\u001B[39mgate_target\u001B[38;5;241m.\u001B[39mvalue \u001B[38;5;28;01mfor\u001B[39;00m error \u001B[38;5;129;01min\u001B[39;00m errors]\n\u001B[1;32m     29\u001B[0m     hook_ancillas_in_minimal_error \u001B[38;5;241m=\u001B[39m [qubit_to_name[qubit] \u001B[38;5;28;01mfor\u001B[39;00m qubit \u001B[38;5;129;01min\u001B[39;00m qubits_in_minimal_error \u001B[38;5;28;01mif\u001B[39;00m qubit \u001B[38;5;129;01min\u001B[39;00m ancilla_mapping\u001B[38;5;241m.\u001B[39mvalues()]\n",
      "\u001B[0;31mKeyboardInterrupt\u001B[0m: "
     ]
    }
   ],
   "execution_count": 17
  },
  {
   "metadata": {
    "ExecuteTime": {
     "end_time": "2025-05-01T20:04:17.293045Z",
     "start_time": "2025-05-01T20:04:00.155724Z"
    }
   },
   "cell_type": "code",
   "source": [
    "for ancilla, a_type in ancilla_type.items():\n",
    "    if a_type == 'Z':\n",
    "        continue\n",
    "    hook_errors = {ancilla: [(1,0.01),(2,0.01),(3,0.01)]}\n",
    "    largest_distance = 0\n",
    "    best_cx_list = cx_list.copy()\n",
    "    for _ in range(20):\n",
    "        _, circ, idle_time = memory_experiment_circuit_from_cx_list(\n",
    "                    cx_list=cx_list,\n",
    "                    ancilla_type=ancilla_type,\n",
    "                    data_mapping=data_mapping,\n",
    "                    ancilla_mapping=ancilla_mapping,\n",
    "                    flag_mapping=dict(),  # No flag mapping used here\n",
    "                    logicals=code.lz,\n",
    "                    logical_type='Z',\n",
    "                    p_cx=0.,\n",
    "                    p_idle=0.,\n",
    "                    p_measurement_error=0.01,\n",
    "                    p_phenomenological_error=0.01,\n",
    "                    hook_errors=hook_errors,\n",
    "                    cycles_before_noise=1,\n",
    "                    cycles_with_noise=1,\n",
    "                    cycles_after_noise=1,\n",
    "                    flag=False\n",
    "                )\n",
    "        errors = circ.search_for_undetectable_logical_errors(\n",
    "            dont_explore_edges_increasing_symptom_degree=False,\n",
    "            dont_explore_detection_event_sets_with_size_above=7,\n",
    "            dont_explore_edges_with_degree_above=9999,\n",
    "            canonicalize_circuit_errors=True,\n",
    "        )\n",
    "        qubits_in_minimal_error = [error.circuit_error_locations[0].instruction_targets.targets_in_range[0].gate_target.value for error in errors]\n",
    "        hook_ancillas_in_minimal_error = [qubit_to_name[qubit] for qubit in qubits_in_minimal_error if qubit in ancilla_mapping.values()]\n",
    "        print(hook_ancillas_in_minimal_error)\n",
    "        distance = len(errors)\n",
    "        if distance < largest_distance:\n",
    "            cx_list = best_cx_list.copy()\n",
    "        elif distance > largest_distance:\n",
    "            largest_distance = distance\n",
    "            best_cx_list = cx_list.copy()\n",
    "        else:\n",
    "            for a in hook_ancillas_in_minimal_error:\n",
    "                permute_single_stabilizer_inplace(cx_list, a)\n",
    "        print('distance: ', distance)\n",
    "    print('largest distance: ', largest_distance)"
   ],
   "id": "2f8835035930457",
   "outputs": [
    {
     "name": "stdout",
     "output_type": "stream",
     "text": [
      "Total idling time: 0\n",
      "['X0']\n",
      "distance:  9\n",
      "Total idling time: 0\n",
      "['X0']\n",
      "distance:  9\n",
      "Total idling time: 0\n",
      "['X0']\n",
      "distance:  9\n",
      "Total idling time: 0\n",
      "['X0']\n",
      "distance:  9\n",
      "Total idling time: 0\n",
      "['X0']\n",
      "distance:  8\n",
      "Total idling time: 0\n",
      "['X0']\n",
      "distance:  9\n",
      "Total idling time: 0\n",
      "['X0']\n",
      "distance:  8\n",
      "Total idling time: 0\n"
     ]
    },
    {
     "ename": "KeyboardInterrupt",
     "evalue": "",
     "output_type": "error",
     "traceback": [
      "\u001B[0;31m---------------------------------------------------------------------------\u001B[0m",
      "\u001B[0;31mKeyboardInterrupt\u001B[0m                         Traceback (most recent call last)",
      "Cell \u001B[0;32mIn[15], line 26\u001B[0m\n\u001B[1;32m      7\u001B[0m \u001B[38;5;28;01mfor\u001B[39;00m _ \u001B[38;5;129;01min\u001B[39;00m \u001B[38;5;28mrange\u001B[39m(\u001B[38;5;241m20\u001B[39m):\n\u001B[1;32m      8\u001B[0m     _, circ, idle_time \u001B[38;5;241m=\u001B[39m memory_experiment_circuit_from_cx_list(\n\u001B[1;32m      9\u001B[0m                 cx_list\u001B[38;5;241m=\u001B[39mcx_list,\n\u001B[1;32m     10\u001B[0m                 ancilla_type\u001B[38;5;241m=\u001B[39mancilla_type,\n\u001B[0;32m   (...)\u001B[0m\n\u001B[1;32m     24\u001B[0m                 flag\u001B[38;5;241m=\u001B[39m\u001B[38;5;28;01mFalse\u001B[39;00m\n\u001B[1;32m     25\u001B[0m             )\n\u001B[0;32m---> 26\u001B[0m     errors \u001B[38;5;241m=\u001B[39m \u001B[43mcirc\u001B[49m\u001B[38;5;241;43m.\u001B[39;49m\u001B[43msearch_for_undetectable_logical_errors\u001B[49m\u001B[43m(\u001B[49m\n\u001B[1;32m     27\u001B[0m \u001B[43m        \u001B[49m\u001B[43mdont_explore_edges_increasing_symptom_degree\u001B[49m\u001B[38;5;241;43m=\u001B[39;49m\u001B[38;5;28;43;01mFalse\u001B[39;49;00m\u001B[43m,\u001B[49m\n\u001B[1;32m     28\u001B[0m \u001B[43m        \u001B[49m\u001B[43mdont_explore_detection_event_sets_with_size_above\u001B[49m\u001B[38;5;241;43m=\u001B[39;49m\u001B[38;5;241;43m7\u001B[39;49m\u001B[43m,\u001B[49m\n\u001B[1;32m     29\u001B[0m \u001B[43m        \u001B[49m\u001B[43mdont_explore_edges_with_degree_above\u001B[49m\u001B[38;5;241;43m=\u001B[39;49m\u001B[38;5;241;43m9999\u001B[39;49m\u001B[43m,\u001B[49m\n\u001B[1;32m     30\u001B[0m \u001B[43m        \u001B[49m\u001B[43mcanonicalize_circuit_errors\u001B[49m\u001B[38;5;241;43m=\u001B[39;49m\u001B[38;5;28;43;01mTrue\u001B[39;49;00m\u001B[43m,\u001B[49m\n\u001B[1;32m     31\u001B[0m \u001B[43m    \u001B[49m\u001B[43m)\u001B[49m\n\u001B[1;32m     32\u001B[0m     qubits_in_minimal_error \u001B[38;5;241m=\u001B[39m [error\u001B[38;5;241m.\u001B[39mcircuit_error_locations[\u001B[38;5;241m0\u001B[39m]\u001B[38;5;241m.\u001B[39minstruction_targets\u001B[38;5;241m.\u001B[39mtargets_in_range[\u001B[38;5;241m0\u001B[39m]\u001B[38;5;241m.\u001B[39mgate_target\u001B[38;5;241m.\u001B[39mvalue \u001B[38;5;28;01mfor\u001B[39;00m error \u001B[38;5;129;01min\u001B[39;00m errors]\n\u001B[1;32m     33\u001B[0m     hook_ancillas_in_minimal_error \u001B[38;5;241m=\u001B[39m [qubit_to_name[qubit] \u001B[38;5;28;01mfor\u001B[39;00m qubit \u001B[38;5;129;01min\u001B[39;00m qubits_in_minimal_error \u001B[38;5;28;01mif\u001B[39;00m qubit \u001B[38;5;129;01min\u001B[39;00m ancilla_mapping\u001B[38;5;241m.\u001B[39mvalues()]\n",
      "\u001B[0;31mKeyboardInterrupt\u001B[0m: "
     ]
    }
   ],
   "execution_count": 15
  },
  {
   "metadata": {},
   "cell_type": "code",
   "outputs": [],
   "execution_count": null,
   "source": "",
   "id": "e1c1e226a0af32d0"
  }
 ],
 "metadata": {
  "kernelspec": {
   "display_name": ".venv",
   "language": "python",
   "name": "python3"
  },
  "language_info": {
   "codemirror_mode": {
    "name": "ipython",
    "version": 3
   },
   "file_extension": ".py",
   "mimetype": "text/x-python",
   "name": "python",
   "nbconvert_exporter": "python",
   "pygments_lexer": "ipython3",
   "version": "3.11.5"
  }
 },
 "nbformat": 4,
 "nbformat_minor": 5
}
