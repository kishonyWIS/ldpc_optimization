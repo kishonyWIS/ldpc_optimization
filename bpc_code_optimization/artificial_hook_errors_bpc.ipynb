{
 "cells": [
  {
   "cell_type": "code",
   "execution_count": 1,
   "id": "7361dc91",
   "metadata": {
    "ExecuteTime": {
     "end_time": "2025-05-09T15:15:52.470814Z",
     "start_time": "2025-05-09T15:15:51.686582Z"
    }
   },
   "outputs": [],
   "source": [
    "import numpy as np\n",
    "import stim\n",
    "from tqdm import tqdm\n",
    "from src.cx_list_from_stabilizers_in_sequence import StabilizerCode\n",
    "from src.interactive_cx_list_optimizer import InteractiveCxListOptimizer\n",
    "import cProfile\n",
    "\n",
    "from quits.qldpc_code import *\n",
    "from quits.circuit import get_qldpc_mem_circuit\n",
    "from quits.decoder import sliding_window_bposd_circuit_mem\n",
    "from quits.simulation import get_stim_mem_result\n",
    "from src.circuit_from_cx_list import memory_experiment_circuit_from_cx_list"
   ]
  },
  {
   "cell_type": "code",
   "execution_count": 2,
   "id": "db3e7385",
   "metadata": {
    "ExecuteTime": {
     "end_time": "2025-05-09T15:15:53.150664Z",
     "start_time": "2025-05-09T15:15:53.147616Z"
    }
   },
   "outputs": [],
   "source": [
    "lift_size, factor = 15, 3\n",
    "p1 = [0, 1, 5]    # e + x + x^5\n",
    "p2 = [0, 2, 7]    # e + x^2 + x^7"
   ]
  },
  {
   "cell_type": "code",
   "execution_count": 3,
   "id": "4a94666bdc6f308c",
   "metadata": {
    "ExecuteTime": {
     "end_time": "2025-05-09T15:15:54.117253Z",
     "start_time": "2025-05-09T15:15:54.086907Z"
    }
   },
   "outputs": [
    {
     "name": "stdout",
     "output_type": "stream",
     "text": [
      "# data qubits:  90  # logical qubits:  8\n",
      "# z-check qubits:  45  # x-check qubits:  45\n",
      "# layers of entangling gates:  8\n"
     ]
    }
   ],
   "source": [
    "code = BpcCode(p1, p2, lift_size, factor)  # Define the BpcCode object\n",
    "code.build_graph(seed=1)                   # Build the Tanner graph and assign directions to its edges. \n",
    "\n",
    "num_zcheck, num_data = code.hz.shape\n",
    "num_xcheck, num_data = code.hx.shape\n",
    "num_logical = code.lz.shape[0]\n",
    "depth = sum(list(code.num_colors.values())) \n",
    "print('# data qubits: ', num_data, ' # logical qubits: ', num_logical)\n",
    "print('# z-check qubits: ', num_zcheck, ' # x-check qubits: ', num_xcheck)\n",
    "print('# layers of entangling gates: ', depth)"
   ]
  },
  {
   "cell_type": "code",
   "execution_count": 4,
   "id": "3b552ff0fb22d8e6",
   "metadata": {
    "ExecuteTime": {
     "end_time": "2025-05-09T15:15:54.860518Z",
     "start_time": "2025-05-09T15:15:54.851497Z"
    }
   },
   "outputs": [],
   "source": [
    "p = 2e-3           # physical error rate\n",
    "num_rounds = 15    # number of rounds (T-1)\n",
    "basis = 'Z'        # 'Z' or 'X'\n",
    "\n",
    "circuit = stim.Circuit(get_qldpc_mem_circuit(code, p, p, p, p, num_rounds, basis=basis))"
   ]
  },
  {
   "cell_type": "code",
   "execution_count": 5,
   "id": "f1be6b3283413aa8",
   "metadata": {
    "ExecuteTime": {
     "end_time": "2025-05-09T15:15:57.276799Z",
     "start_time": "2025-05-09T15:15:55.910728Z"
    }
   },
   "outputs": [
    {
     "name": "stderr",
     "output_type": "stream",
     "text": [
      "100%|██████████| 10/10 [00:00<00:00, 10.72it/s]"
     ]
    },
    {
     "name": "stdout",
     "output_type": "stream",
     "text": [
      "p: 0.0020000, LFR: 0.0000000\n"
     ]
    },
    {
     "name": "stderr",
     "output_type": "stream",
     "text": [
      "\n"
     ]
    }
   ],
   "source": [
    "num_trials = 10\n",
    "# Simulate the circuit using Stim. \n",
    "detection_events, observable_flips = get_stim_mem_result(circuit, num_trials, seed=1)   # simulate the circuit using Stim\n",
    "\n",
    "W, F = 5, 3                     # sliding window parameters\n",
    "max_iter, osd_order = 20, 10    # BP-OSD decoder parameters \n",
    "\n",
    "# Perform decoding of the detection_events generated from simulating the circuit. \n",
    "# Returns the logical observable flip predicted from decoding. \n",
    "logical_pred = sliding_window_bposd_circuit_mem(detection_events, circuit, code.hz, code.lz,\\\n",
    "                                                W, F, max_iter=max_iter, osd_order=osd_order, tqdm_on=True)\n",
    "\n",
    "# Logical error is recorded whenever logical_pred does not match observable_flips for any logical qubit at any round\n",
    "pL = np.sum((observable_flips- logical_pred).any(axis=1)) / num_trials\n",
    "lfr = 1 - (1-pL)**(1/num_rounds)\n",
    "print('p: %.7f, LFR: %.7f'%(p, lfr))"
   ]
  },
  {
   "cell_type": "code",
   "execution_count": 6,
   "id": "5bceac76b21c301c",
   "metadata": {
    "ExecuteTime": {
     "end_time": "2025-05-09T15:16:02.824700Z",
     "start_time": "2025-05-09T15:16:02.819187Z"
    }
   },
   "outputs": [
    {
     "name": "stdout",
     "output_type": "stream",
     "text": [
      "[[1 0 0 ... 0 0 0]\n",
      " [0 1 0 ... 0 0 0]\n",
      " [0 0 1 ... 0 0 0]\n",
      " ...\n",
      " [0 0 0 ... 1 0 1]\n",
      " [0 0 0 ... 0 1 0]\n",
      " [0 0 0 ... 0 0 1]]\n",
      "[[1 0 0 ... 0 0 0]\n",
      " [0 1 0 ... 0 0 0]\n",
      " [1 0 1 ... 0 0 0]\n",
      " ...\n",
      " [0 0 0 ... 1 0 0]\n",
      " [0 0 0 ... 0 1 0]\n",
      " [0 0 0 ... 0 0 1]]\n"
     ]
    }
   ],
   "source": [
    "print(code.hx)\n",
    "print(code.hz)"
   ]
  },
  {
   "cell_type": "code",
   "execution_count": 7,
   "id": "d99e450fba0e4fb5",
   "metadata": {
    "ExecuteTime": {
     "end_time": "2025-05-09T15:16:04.316003Z",
     "start_time": "2025-05-09T15:16:04.307435Z"
    }
   },
   "outputs": [],
   "source": [
    "stabilizer_x = []\n",
    "for i in range(code.hx.shape[0]):\n",
    "    row = []\n",
    "    for j in range(code.hx.shape[1]):\n",
    "        if code.hx[i,j] == 1:\n",
    "            row.append(j)\n",
    "    stabilizer_x.append(row)\n",
    "    \n",
    "stabilizer_z = []\n",
    "for i in range(code.hz.shape[0]):\n",
    "    row = []\n",
    "    for j in range(code.hz.shape[1]):\n",
    "        if code.hz[i,j] == 1:\n",
    "            row.append(j)\n",
    "    stabilizer_z.append(row)\n",
    "\n",
    "bpc_code = StabilizerCode(stabilizer_x, stabilizer_z, code.lx, code.lz)\n",
    "cx_list = bpc_code.generate_cx_list()\n",
    "ancilla_type, data_mapping, ancilla_mapping, flag_mapping = bpc_code.build_mappings()\n",
    "qubit_to_name = {v:k for k,v in data_mapping.items()}\n",
    "qubit_to_name.update({v:k for k,v in ancilla_mapping.items()})"
   ]
  },
  {
   "cell_type": "code",
   "execution_count": 8,
   "id": "1860cec8b1bb5bc",
   "metadata": {
    "ExecuteTime": {
     "end_time": "2025-05-09T15:16:06.643984Z",
     "start_time": "2025-05-09T15:16:06.637894Z"
    }
   },
   "outputs": [],
   "source": [
    "from src.permute_within_each_stabilizer import random_permutation_within_each_stabilizer\n",
    "from src.permute_single_stabilizer import permute_single_stabilizer_inplace"
   ]
  },
  {
   "cell_type": "code",
   "execution_count": 9,
   "id": "e4ab53921092fd82",
   "metadata": {
    "ExecuteTime": {
     "end_time": "2025-05-09T15:16:09.578949Z",
     "start_time": "2025-05-09T15:16:09.573667Z"
    }
   },
   "outputs": [],
   "source": [
    "random_permutation_within_each_stabilizer(cx_list)"
   ]
  },
  {
   "cell_type": "code",
   "execution_count": 12,
   "id": "2d1b015260b338fc",
   "metadata": {
    "ExecuteTime": {
     "end_time": "2025-05-09T15:16:10.784076Z",
     "start_time": "2025-05-09T15:16:10.777261Z"
    }
   },
   "outputs": [],
   "source": [
    "def get_minimal_error(hook_errors):\n",
    "    circ = memory_experiment_circuit_from_cx_list(\n",
    "                cx_list=cx_list,\n",
    "                ancilla_type=ancilla_type,\n",
    "                data_mapping=data_mapping,\n",
    "                ancilla_mapping=ancilla_mapping,\n",
    "                flag_mapping=dict(),  # No flag mapping used here\n",
    "                logicals=code.lz,\n",
    "                logical_type='Z',\n",
    "                p_cx=0.,\n",
    "                p_idle=0.,\n",
    "                p_measurement_error=0.01,\n",
    "                p_phenomenological_error=0.01,\n",
    "                hook_errors=hook_errors,\n",
    "                number_of_cycles=5,\n",
    "\n",
    "                flag=False\n",
    "            )\n",
    "    errors = circ.search_for_undetectable_logical_errors(\n",
    "        dont_explore_edges_increasing_symptom_degree=False,\n",
    "        dont_explore_detection_event_sets_with_size_above=7,\n",
    "        dont_explore_edges_with_degree_above=9999,\n",
    "        canonicalize_circuit_errors=True,\n",
    "    )\n",
    "    qubits_in_minimal_error = [error.circuit_error_locations[0].instruction_targets.targets_in_range[0].gate_target.value for error in errors]\n",
    "    hook_ancillas_in_minimal_error = [qubit_to_name[qubit] for qubit in qubits_in_minimal_error if qubit in ancilla_mapping.values()]\n",
    "    return hook_ancillas_in_minimal_error, len(errors)"
   ]
  },
  {
   "cell_type": "code",
   "execution_count": 13,
   "id": "8d529a4202addb24",
   "metadata": {
    "ExecuteTime": {
     "end_time": "2025-05-09T15:16:28.286522Z",
     "start_time": "2025-05-09T15:16:28.042032Z"
    }
   },
   "outputs": [
    {
     "name": "stdout",
     "output_type": "stream",
     "text": [
      "['X23', 'X23', 'X1', 'X14', 'X3', 'X14', 'X25', 'X27']\n",
      "full distance:  8\n",
      "Changed: (23, 'X14') -> (14, 'X14')\n",
      "Changed: (14, 'X14') -> (23, 'X14')\n",
      "Changed: (59, 'X14') -> (46, 'X14')\n",
      "Changed: (46, 'X14') -> (41, 'X14')\n",
      "Changed: (41, 'X14') -> (59, 'X14')\n"
     ]
    },
    {
     "ename": "ValueError",
     "evalue": "Failed to find any logical errors.",
     "output_type": "error",
     "traceback": [
      "\u001b[31m---------------------------------------------------------------------------\u001b[39m",
      "\u001b[31mValueError\u001b[39m                                Traceback (most recent call last)",
      "\u001b[36mCell\u001b[39m\u001b[36m \u001b[39m\u001b[32mIn[13]\u001b[39m\u001b[32m, line 11\u001b[39m\n\u001b[32m      9\u001b[39m a = np.random.choice(bad_ancillas)\n\u001b[32m     10\u001b[39m permute_single_stabilizer_inplace(cx_list, a)\n\u001b[32m---> \u001b[39m\u001b[32m11\u001b[39m bad_ancillas, new_distance = \u001b[43mget_minimal_error\u001b[49m\u001b[43m(\u001b[49m\u001b[43mhook_errors\u001b[49m\u001b[43m)\u001b[49m\n\u001b[32m     12\u001b[39m \u001b[38;5;28mprint\u001b[39m(\u001b[33m'\u001b[39m\u001b[33mnew distance: \u001b[39m\u001b[33m'\u001b[39m, new_distance)\n\u001b[32m     13\u001b[39m \u001b[38;5;28;01mif\u001b[39;00m new_distance > distance:\n",
      "\u001b[36mCell\u001b[39m\u001b[36m \u001b[39m\u001b[32mIn[12]\u001b[39m\u001b[32m, line 19\u001b[39m, in \u001b[36mget_minimal_error\u001b[39m\u001b[34m(hook_errors)\u001b[39m\n\u001b[32m      1\u001b[39m \u001b[38;5;28;01mdef\u001b[39;00m\u001b[38;5;250m \u001b[39m\u001b[34mget_minimal_error\u001b[39m(hook_errors):\n\u001b[32m      2\u001b[39m     circ = memory_experiment_circuit_from_cx_list(\n\u001b[32m      3\u001b[39m                 cx_list=cx_list,\n\u001b[32m      4\u001b[39m                 ancilla_type=ancilla_type,\n\u001b[32m   (...)\u001b[39m\u001b[32m     17\u001b[39m                 flag=\u001b[38;5;28;01mFalse\u001b[39;00m\n\u001b[32m     18\u001b[39m             )\n\u001b[32m---> \u001b[39m\u001b[32m19\u001b[39m     errors = \u001b[43mcirc\u001b[49m\u001b[43m.\u001b[49m\u001b[43msearch_for_undetectable_logical_errors\u001b[49m\u001b[43m(\u001b[49m\n\u001b[32m     20\u001b[39m \u001b[43m        \u001b[49m\u001b[43mdont_explore_edges_increasing_symptom_degree\u001b[49m\u001b[43m=\u001b[49m\u001b[38;5;28;43;01mFalse\u001b[39;49;00m\u001b[43m,\u001b[49m\n\u001b[32m     21\u001b[39m \u001b[43m        \u001b[49m\u001b[43mdont_explore_detection_event_sets_with_size_above\u001b[49m\u001b[43m=\u001b[49m\u001b[32;43m7\u001b[39;49m\u001b[43m,\u001b[49m\n\u001b[32m     22\u001b[39m \u001b[43m        \u001b[49m\u001b[43mdont_explore_edges_with_degree_above\u001b[49m\u001b[43m=\u001b[49m\u001b[32;43m9999\u001b[39;49m\u001b[43m,\u001b[49m\n\u001b[32m     23\u001b[39m \u001b[43m        \u001b[49m\u001b[43mcanonicalize_circuit_errors\u001b[49m\u001b[43m=\u001b[49m\u001b[38;5;28;43;01mTrue\u001b[39;49;00m\u001b[43m,\u001b[49m\n\u001b[32m     24\u001b[39m \u001b[43m    \u001b[49m\u001b[43m)\u001b[49m\n\u001b[32m     25\u001b[39m     qubits_in_minimal_error = [error.circuit_error_locations[\u001b[32m0\u001b[39m].instruction_targets.targets_in_range[\u001b[32m0\u001b[39m].gate_target.value \u001b[38;5;28;01mfor\u001b[39;00m error \u001b[38;5;129;01min\u001b[39;00m errors]\n\u001b[32m     26\u001b[39m     hook_ancillas_in_minimal_error = [qubit_to_name[qubit] \u001b[38;5;28;01mfor\u001b[39;00m qubit \u001b[38;5;129;01min\u001b[39;00m qubits_in_minimal_error \u001b[38;5;28;01mif\u001b[39;00m qubit \u001b[38;5;129;01min\u001b[39;00m ancilla_mapping.values()]\n",
      "\u001b[31mValueError\u001b[39m: Failed to find any logical errors."
     ]
    }
   ],
   "source": [
    "# start with hook errors on all ancillas, then keep only hook errors on ancillas in minimal error\n",
    "for _ in range(1000):\n",
    "    hook_errors = {ancilla: [(1,0.01),(2,0.01),(3,0.01)] for ancilla, a_type in ancilla_type.items() if a_type == 'X'}\n",
    "    bad_ancillas, distance = get_minimal_error(hook_errors)\n",
    "    print(bad_ancillas)\n",
    "    print('full distance: ', distance)\n",
    "    hook_errors = {ancilla: [(1,0.01),(2,0.01),(3,0.01)] for ancilla in bad_ancillas}\n",
    "    while True:\n",
    "        a = np.random.choice(bad_ancillas)\n",
    "        permute_single_stabilizer_inplace(cx_list, a)\n",
    "        bad_ancillas, new_distance = get_minimal_error(hook_errors)\n",
    "        print('new distance: ', new_distance)\n",
    "        if new_distance > distance:\n",
    "            break"
   ]
  },
  {
   "cell_type": "code",
   "execution_count": 10,
   "id": "bf1c668ecddfd96b",
   "metadata": {
    "ExecuteTime": {
     "end_time": "2025-05-01T20:09:17.206627Z",
     "start_time": "2025-05-01T20:09:17.202905Z"
    }
   },
   "outputs": [],
   "source": [
    "hook_errors = {ancilla: [(1,0.01),(2,0.01),(3,0.01)] for ancilla, a_type in ancilla_type.items() if a_type == 'X'}"
   ]
  },
  {
   "cell_type": "code",
   "execution_count": 17,
   "id": "a11344301d311757",
   "metadata": {
    "ExecuteTime": {
     "end_time": "2025-05-01T20:19:35.880241Z",
     "start_time": "2025-05-01T20:18:42.826690Z"
    }
   },
   "outputs": [
    {
     "name": "stdout",
     "output_type": "stream",
     "text": [
      "Total idling time: 0\n",
      "['X43', 'X27', 'X11']\n",
      "distance:  6\n",
      "Total idling time: 0\n",
      "['X43', 'X27', 'X11']\n",
      "distance:  6\n",
      "Total idling time: 0\n",
      "['X9', 'X14', 'X17', 'X27', 'X20']\n",
      "distance:  6\n",
      "Total idling time: 0\n",
      "['X30', 'X32', 'X21', 'X23']\n",
      "distance:  6\n",
      "Total idling time: 0\n",
      "['X17', 'X43', 'X35', 'X3', 'X30']\n",
      "distance:  6\n",
      "Total idling time: 0\n",
      "['X20', 'X11', 'X9']\n",
      "distance:  7\n",
      "Total idling time: 0\n",
      "['X20', 'X11', 'X9']\n",
      "distance:  7\n",
      "Total idling time: 0\n",
      "['X15', 'X20', 'X36', 'X41']\n",
      "distance:  7\n",
      "Total idling time: 0\n",
      "['X0', 'X40', 'X2', 'X11']\n",
      "distance:  7\n",
      "Total idling time: 0\n",
      "['X42', 'X36', 'X7', 'X40']\n",
      "distance:  6\n",
      "Total idling time: 0\n",
      "['X20', 'X11', 'X9']\n",
      "distance:  7\n",
      "Total idling time: 0\n",
      "['X23', 'X32', 'X34', 'X43']\n",
      "distance:  7\n",
      "Total idling time: 0\n",
      "['X20', 'X36', 'X41', 'X23']\n",
      "distance:  6\n",
      "Total idling time: 0\n",
      "['X20', 'X11', 'X9']\n",
      "distance:  7\n",
      "Total idling time: 0\n",
      "['X23', 'X32', 'X34', 'X43']\n",
      "distance:  7\n",
      "Total idling time: 0\n",
      "['X15', 'X6', 'X43']\n",
      "distance:  7\n",
      "Total idling time: 0\n",
      "['X15', 'X6']\n",
      "distance:  7\n",
      "Total idling time: 0\n",
      "['X1', 'X34', 'X29']\n",
      "distance:  7\n",
      "Total idling time: 0\n",
      "['X42', 'X36', 'X7']\n",
      "distance:  7\n",
      "Total idling time: 0\n",
      "['X42', 'X3', 'X40', 'X20', 'X43']\n",
      "distance:  7\n",
      "Total idling time: 0\n",
      "['X15', 'X28', 'X43', 'X6']\n",
      "distance:  7\n",
      "Total idling time: 0\n",
      "['X10', 'X17', 'X5', 'X20']\n",
      "distance:  7\n",
      "Total idling time: 0\n",
      "['X10', 'X39']\n",
      "distance:  7\n",
      "Total idling time: 0\n"
     ]
    },
    {
     "ename": "KeyboardInterrupt",
     "evalue": "",
     "output_type": "error",
     "traceback": [
      "\u001b[0;31m---------------------------------------------------------------------------\u001b[0m",
      "\u001b[0;31mKeyboardInterrupt\u001b[0m                         Traceback (most recent call last)",
      "Cell \u001b[0;32mIn[17], line 22\u001b[0m\n\u001b[1;32m      3\u001b[0m \u001b[38;5;28;01mfor\u001b[39;00m _ \u001b[38;5;129;01min\u001b[39;00m \u001b[38;5;28mrange\u001b[39m(\u001b[38;5;241m100\u001b[39m):\n\u001b[1;32m      4\u001b[0m     _, circ, idle_time \u001b[38;5;241m=\u001b[39m memory_experiment_circuit_from_cx_list(\n\u001b[1;32m      5\u001b[0m                 cx_list\u001b[38;5;241m=\u001b[39mcx_list,\n\u001b[1;32m      6\u001b[0m                 ancilla_type\u001b[38;5;241m=\u001b[39mancilla_type,\n\u001b[0;32m   (...)\u001b[0m\n\u001b[1;32m     20\u001b[0m                 flag\u001b[38;5;241m=\u001b[39m\u001b[38;5;28;01mFalse\u001b[39;00m\n\u001b[1;32m     21\u001b[0m             )\n\u001b[0;32m---> 22\u001b[0m     errors \u001b[38;5;241m=\u001b[39m \u001b[43mcirc\u001b[49m\u001b[38;5;241;43m.\u001b[39;49m\u001b[43msearch_for_undetectable_logical_errors\u001b[49m\u001b[43m(\u001b[49m\n\u001b[1;32m     23\u001b[0m \u001b[43m        \u001b[49m\u001b[43mdont_explore_edges_increasing_symptom_degree\u001b[49m\u001b[38;5;241;43m=\u001b[39;49m\u001b[38;5;28;43;01mFalse\u001b[39;49;00m\u001b[43m,\u001b[49m\n\u001b[1;32m     24\u001b[0m \u001b[43m        \u001b[49m\u001b[43mdont_explore_detection_event_sets_with_size_above\u001b[49m\u001b[38;5;241;43m=\u001b[39;49m\u001b[38;5;241;43m7\u001b[39;49m\u001b[43m,\u001b[49m\n\u001b[1;32m     25\u001b[0m \u001b[43m        \u001b[49m\u001b[43mdont_explore_edges_with_degree_above\u001b[49m\u001b[38;5;241;43m=\u001b[39;49m\u001b[38;5;241;43m9999\u001b[39;49m\u001b[43m,\u001b[49m\n\u001b[1;32m     26\u001b[0m \u001b[43m        \u001b[49m\u001b[43mcanonicalize_circuit_errors\u001b[49m\u001b[38;5;241;43m=\u001b[39;49m\u001b[38;5;28;43;01mTrue\u001b[39;49;00m\u001b[43m,\u001b[49m\n\u001b[1;32m     27\u001b[0m \u001b[43m    \u001b[49m\u001b[43m)\u001b[49m\n\u001b[1;32m     28\u001b[0m     qubits_in_minimal_error \u001b[38;5;241m=\u001b[39m [error\u001b[38;5;241m.\u001b[39mcircuit_error_locations[\u001b[38;5;241m0\u001b[39m]\u001b[38;5;241m.\u001b[39minstruction_targets\u001b[38;5;241m.\u001b[39mtargets_in_range[\u001b[38;5;241m0\u001b[39m]\u001b[38;5;241m.\u001b[39mgate_target\u001b[38;5;241m.\u001b[39mvalue \u001b[38;5;28;01mfor\u001b[39;00m error \u001b[38;5;129;01min\u001b[39;00m errors]\n\u001b[1;32m     29\u001b[0m     hook_ancillas_in_minimal_error \u001b[38;5;241m=\u001b[39m [qubit_to_name[qubit] \u001b[38;5;28;01mfor\u001b[39;00m qubit \u001b[38;5;129;01min\u001b[39;00m qubits_in_minimal_error \u001b[38;5;28;01mif\u001b[39;00m qubit \u001b[38;5;129;01min\u001b[39;00m ancilla_mapping\u001b[38;5;241m.\u001b[39mvalues()]\n",
      "\u001b[0;31mKeyboardInterrupt\u001b[0m: "
     ]
    }
   ],
   "source": [
    "largest_distance = 0\n",
    "best_cx_list = cx_list.copy()\n",
    "for _ in range(100):\n",
    "\n",
    "    print(hook_ancillas_in_minimal_error)\n",
    "    distance = len(errors)\n",
    "    if distance < largest_distance:\n",
    "        cx_list = best_cx_list.copy()\n",
    "    elif distance > largest_distance:\n",
    "        largest_distance = distance\n",
    "        best_cx_list = cx_list.copy()\n",
    "    else:\n",
    "        for a in hook_ancillas_in_minimal_error:\n",
    "            permute_single_stabilizer_inplace(cx_list, a)\n",
    "    print('distance: ', distance)\n",
    "print('largest distance: ', largest_distance)"
   ]
  },
  {
   "cell_type": "code",
   "execution_count": 15,
   "id": "2f8835035930457",
   "metadata": {
    "ExecuteTime": {
     "end_time": "2025-05-01T20:04:17.293045Z",
     "start_time": "2025-05-01T20:04:00.155724Z"
    }
   },
   "outputs": [
    {
     "name": "stdout",
     "output_type": "stream",
     "text": [
      "Total idling time: 0\n",
      "['X0']\n",
      "distance:  9\n",
      "Total idling time: 0\n",
      "['X0']\n",
      "distance:  9\n",
      "Total idling time: 0\n",
      "['X0']\n",
      "distance:  9\n",
      "Total idling time: 0\n",
      "['X0']\n",
      "distance:  9\n",
      "Total idling time: 0\n",
      "['X0']\n",
      "distance:  8\n",
      "Total idling time: 0\n",
      "['X0']\n",
      "distance:  9\n",
      "Total idling time: 0\n",
      "['X0']\n",
      "distance:  8\n",
      "Total idling time: 0\n"
     ]
    },
    {
     "ename": "KeyboardInterrupt",
     "evalue": "",
     "output_type": "error",
     "traceback": [
      "\u001b[0;31m---------------------------------------------------------------------------\u001b[0m",
      "\u001b[0;31mKeyboardInterrupt\u001b[0m                         Traceback (most recent call last)",
      "Cell \u001b[0;32mIn[15], line 26\u001b[0m\n\u001b[1;32m      7\u001b[0m \u001b[38;5;28;01mfor\u001b[39;00m _ \u001b[38;5;129;01min\u001b[39;00m \u001b[38;5;28mrange\u001b[39m(\u001b[38;5;241m20\u001b[39m):\n\u001b[1;32m      8\u001b[0m     _, circ, idle_time \u001b[38;5;241m=\u001b[39m memory_experiment_circuit_from_cx_list(\n\u001b[1;32m      9\u001b[0m                 cx_list\u001b[38;5;241m=\u001b[39mcx_list,\n\u001b[1;32m     10\u001b[0m                 ancilla_type\u001b[38;5;241m=\u001b[39mancilla_type,\n\u001b[0;32m   (...)\u001b[0m\n\u001b[1;32m     24\u001b[0m                 flag\u001b[38;5;241m=\u001b[39m\u001b[38;5;28;01mFalse\u001b[39;00m\n\u001b[1;32m     25\u001b[0m             )\n\u001b[0;32m---> 26\u001b[0m     errors \u001b[38;5;241m=\u001b[39m \u001b[43mcirc\u001b[49m\u001b[38;5;241;43m.\u001b[39;49m\u001b[43msearch_for_undetectable_logical_errors\u001b[49m\u001b[43m(\u001b[49m\n\u001b[1;32m     27\u001b[0m \u001b[43m        \u001b[49m\u001b[43mdont_explore_edges_increasing_symptom_degree\u001b[49m\u001b[38;5;241;43m=\u001b[39;49m\u001b[38;5;28;43;01mFalse\u001b[39;49;00m\u001b[43m,\u001b[49m\n\u001b[1;32m     28\u001b[0m \u001b[43m        \u001b[49m\u001b[43mdont_explore_detection_event_sets_with_size_above\u001b[49m\u001b[38;5;241;43m=\u001b[39;49m\u001b[38;5;241;43m7\u001b[39;49m\u001b[43m,\u001b[49m\n\u001b[1;32m     29\u001b[0m \u001b[43m        \u001b[49m\u001b[43mdont_explore_edges_with_degree_above\u001b[49m\u001b[38;5;241;43m=\u001b[39;49m\u001b[38;5;241;43m9999\u001b[39;49m\u001b[43m,\u001b[49m\n\u001b[1;32m     30\u001b[0m \u001b[43m        \u001b[49m\u001b[43mcanonicalize_circuit_errors\u001b[49m\u001b[38;5;241;43m=\u001b[39;49m\u001b[38;5;28;43;01mTrue\u001b[39;49;00m\u001b[43m,\u001b[49m\n\u001b[1;32m     31\u001b[0m \u001b[43m    \u001b[49m\u001b[43m)\u001b[49m\n\u001b[1;32m     32\u001b[0m     qubits_in_minimal_error \u001b[38;5;241m=\u001b[39m [error\u001b[38;5;241m.\u001b[39mcircuit_error_locations[\u001b[38;5;241m0\u001b[39m]\u001b[38;5;241m.\u001b[39minstruction_targets\u001b[38;5;241m.\u001b[39mtargets_in_range[\u001b[38;5;241m0\u001b[39m]\u001b[38;5;241m.\u001b[39mgate_target\u001b[38;5;241m.\u001b[39mvalue \u001b[38;5;28;01mfor\u001b[39;00m error \u001b[38;5;129;01min\u001b[39;00m errors]\n\u001b[1;32m     33\u001b[0m     hook_ancillas_in_minimal_error \u001b[38;5;241m=\u001b[39m [qubit_to_name[qubit] \u001b[38;5;28;01mfor\u001b[39;00m qubit \u001b[38;5;129;01min\u001b[39;00m qubits_in_minimal_error \u001b[38;5;28;01mif\u001b[39;00m qubit \u001b[38;5;129;01min\u001b[39;00m ancilla_mapping\u001b[38;5;241m.\u001b[39mvalues()]\n",
      "\u001b[0;31mKeyboardInterrupt\u001b[0m: "
     ]
    }
   ],
   "source": [
    "for ancilla, a_type in ancilla_type.items():\n",
    "    if a_type == 'Z':\n",
    "        continue\n",
    "    hook_errors = {ancilla: [(1,0.01),(2,0.01),(3,0.01)]}\n",
    "    largest_distance = 0\n",
    "    best_cx_list = cx_list.copy()\n",
    "    for _ in range(20):\n",
    "        _, circ, idle_time = memory_experiment_circuit_from_cx_list(\n",
    "                    cx_list=cx_list,\n",
    "                    ancilla_type=ancilla_type,\n",
    "                    data_mapping=data_mapping,\n",
    "                    ancilla_mapping=ancilla_mapping,\n",
    "                    flag_mapping=dict(),  # No flag mapping used here\n",
    "                    logicals=code.lz,\n",
    "                    logical_type='Z',\n",
    "                    p_cx=0.,\n",
    "                    p_idle=0.,\n",
    "                    p_measurement_error=0.01,\n",
    "                    p_phenomenological_error=0.01,\n",
    "                    hook_errors=hook_errors,\n",
    "                    cycles_before_noise=1,\n",
    "                    cycles_with_noise=1,\n",
    "                    cycles_after_noise=1,\n",
    "                    flag=False\n",
    "                )\n",
    "        errors = circ.search_for_undetectable_logical_errors(\n",
    "            dont_explore_edges_increasing_symptom_degree=False,\n",
    "            dont_explore_detection_event_sets_with_size_above=7,\n",
    "            dont_explore_edges_with_degree_above=9999,\n",
    "            canonicalize_circuit_errors=True,\n",
    "        )\n",
    "        qubits_in_minimal_error = [error.circuit_error_locations[0].instruction_targets.targets_in_range[0].gate_target.value for error in errors]\n",
    "        hook_ancillas_in_minimal_error = [qubit_to_name[qubit] for qubit in qubits_in_minimal_error if qubit in ancilla_mapping.values()]\n",
    "        print(hook_ancillas_in_minimal_error)\n",
    "        distance = len(errors)\n",
    "        if distance < largest_distance:\n",
    "            cx_list = best_cx_list.copy()\n",
    "        elif distance > largest_distance:\n",
    "            largest_distance = distance\n",
    "            best_cx_list = cx_list.copy()\n",
    "        else:\n",
    "            for a in hook_ancillas_in_minimal_error:\n",
    "                permute_single_stabilizer_inplace(cx_list, a)\n",
    "        print('distance: ', distance)\n",
    "    print('largest distance: ', largest_distance)"
   ]
  },
  {
   "cell_type": "code",
   "execution_count": null,
   "id": "e1c1e226a0af32d0",
   "metadata": {},
   "outputs": [],
   "source": []
  }
 ],
 "metadata": {
  "kernelspec": {
   "display_name": ".venv",
   "language": "python",
   "name": "python3"
  },
  "language_info": {
   "codemirror_mode": {
    "name": "ipython",
    "version": 3
   },
   "file_extension": ".py",
   "mimetype": "text/x-python",
   "name": "python",
   "nbconvert_exporter": "python",
   "pygments_lexer": "ipython3",
   "version": "3.11.5"
  }
 },
 "nbformat": 4,
 "nbformat_minor": 5
}
