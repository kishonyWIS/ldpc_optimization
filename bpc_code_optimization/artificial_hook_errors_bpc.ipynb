{
 "cells": [
  {
   "cell_type": "code",
   "id": "7361dc91",
   "metadata": {
    "ExecuteTime": {
     "end_time": "2025-06-04T11:20:13.205932Z",
     "start_time": "2025-06-04T11:20:12.662791Z"
    }
   },
   "source": [
    "from src.get_quits_codes import get_bpc_code, get_lpc_code\n",
    "from src.circuit_from_cx_list import memory_experiment_circuit_from_cx_list\n",
    "import numpy as np\n",
    "from src.permute_within_each_stabilizer import random_permutation_within_each_stabilizer\n",
    "from src.permute_single_stabilizer import permute_single_stabilizer_inplace\n",
    "from collections import Counter\n",
    "from src.distance_from_decoder import find_distance\n",
    "import time\n",
    "import sinter\n",
    "from ldpc.sinter_decoders import SinterBpOsdDecoder\n",
    "from src.cx_list_from_stabilizers_in_sequence import RotatedSurfaceCode\n",
    "np.random.seed(42)"
   ],
   "outputs": [],
   "execution_count": 1
  },
  {
   "metadata": {
    "ExecuteTime": {
     "end_time": "2025-06-04T11:28:19.132604Z",
     "start_time": "2025-06-04T11:28:19.127757Z"
    }
   },
   "cell_type": "code",
   "source": [
    "code = RotatedSurfaceCode(5)\n",
    "cx_list = code.generate_cx_list()\n",
    "lz = code.lz\n",
    "lx = code.lx\n",
    "ancilla_type, data_mapping, ancilla_mapping, flag_mapping= code.build_mappings()"
   ],
   "id": "587f1ec5f1dd9e3b",
   "outputs": [],
   "execution_count": 41
  },
  {
   "cell_type": "code",
   "id": "a79bf3d1fc6ce32e",
   "metadata": {
    "ExecuteTime": {
     "end_time": "2025-06-04T11:25:59.528682Z",
     "start_time": "2025-06-04T11:25:59.486547Z"
    }
   },
   "source": [
    "cx_list, ancilla_type, data_mapping, ancilla_mapping, lz, lx = get_bpc_code(cx_order='theirs')\n",
    "qubit_to_name = {v:k for k,v in data_mapping.items()}\n",
    "qubit_to_name.update({v:k for k,v in ancilla_mapping.items()})"
   ],
   "outputs": [],
   "execution_count": 26
  },
  {
   "cell_type": "code",
   "id": "a3d1a91cf3bf6f70",
   "metadata": {
    "ExecuteTime": {
     "end_time": "2025-06-04T11:28:20.957264Z",
     "start_time": "2025-06-04T11:28:20.953627Z"
    }
   },
   "source": [
    "# separate the cxs such that they are done one stabilizer at a time\n",
    "cx_list = sorted(cx_list, key=lambda x: x[1])"
   ],
   "outputs": [],
   "execution_count": 42
  },
  {
   "metadata": {
    "ExecuteTime": {
     "end_time": "2025-06-04T11:28:21.502524Z",
     "start_time": "2025-06-04T11:28:21.499899Z"
    }
   },
   "cell_type": "code",
   "source": [
    "p_spam_error = 0.01\n",
    "p_phenomenological_error = 0.01\n",
    "p_hook_error = 0.01"
   ],
   "id": "df84bff861187496",
   "outputs": [],
   "execution_count": 43
  },
  {
   "metadata": {
    "ExecuteTime": {
     "end_time": "2025-06-04T11:28:22.490682Z",
     "start_time": "2025-06-04T11:28:22.485709Z"
    }
   },
   "cell_type": "code",
   "source": [
    "stabilizer_weights = Counter(label for _, label in cx_list)\n",
    "def all_hook_errors_on_ancilla(anc, p=p_hook_error):\n",
    "    return [(cx_idx,p) for cx_idx in range(1,stabilizer_weights[anc]-2)]\n",
    "def all_hook_errors(p=p_hook_error):\n",
    "    return {ancilla: all_hook_errors_on_ancilla(ancilla, p=p) for ancilla, a_type in ancilla_type.items() if a_type == 'X'}"
   ],
   "id": "65b29ccd2f3c6a66",
   "outputs": [],
   "execution_count": 44
  },
  {
   "metadata": {
    "ExecuteTime": {
     "end_time": "2025-06-04T11:28:24.969728Z",
     "start_time": "2025-06-04T11:28:24.964984Z"
    }
   },
   "cell_type": "code",
   "source": [
    "def get_logical_error_rate():\n",
    "    circ = memory_experiment_circuit_from_cx_list(\n",
    "                    cx_list=cx_list,\n",
    "                    ancilla_type=ancilla_type,\n",
    "                    data_mapping=data_mapping,\n",
    "                    ancilla_mapping=ancilla_mapping,\n",
    "                    flag_mapping=dict(),  # No flag mapping used here\n",
    "                    logicals=lz,\n",
    "                    logical_type='Z',\n",
    "                    p_cx=0.0,#05,#\n",
    "                    p_idle=0.,\n",
    "                    p_spam_error=p_spam_error,\n",
    "                    p_phenomenological_error=p_phenomenological_error,\n",
    "                    hook_errors=all_hook_errors(),\n",
    "                    number_of_cycles=1,\n",
    "                    flag=False\n",
    "                )\n",
    "    task = sinter.Task(circuit=circ)\n",
    "\n",
    "    stats = sinter.collect(tasks=[task,],\n",
    "                           num_workers=10,\n",
    "                           max_shots=100000,\n",
    "                           max_errors=1000,\n",
    "                           decoders=['bposd'],\n",
    "                           custom_decoders={\n",
    "                               \"bposd\": SinterBpOsdDecoder(max_iter=10, osd_order=5, osd_method='OSD_E')}# max_iter=10000,osd_order=15)}\n",
    "                           )\n",
    "    for stat in stats:\n",
    "        logical_error_rate = stat.errors / stat.shots\n",
    "        logical_error_rate_error = np.sqrt(\n",
    "            logical_error_rate * (1 - logical_error_rate) / stat.shots)\n",
    "        break\n",
    "    else:\n",
    "        logical_error_rate = 0.0\n",
    "        logical_error_rate_error = 0.0\n",
    "    print(logical_error_rate, logical_error_rate_error)"
   ],
   "id": "5bace124632fc20d",
   "outputs": [],
   "execution_count": 45
  },
  {
   "cell_type": "code",
   "id": "e4ab53921092fd82",
   "metadata": {
    "ExecuteTime": {
     "end_time": "2025-06-04T11:28:25.475174Z",
     "start_time": "2025-06-04T11:28:25.472973Z"
    }
   },
   "source": "random_permutation_within_each_stabilizer(cx_list)",
   "outputs": [],
   "execution_count": 46
  },
  {
   "metadata": {
    "ExecuteTime": {
     "end_time": "2025-06-04T11:28:30.304391Z",
     "start_time": "2025-06-04T11:28:28.159191Z"
    }
   },
   "cell_type": "code",
   "source": "get_logical_error_rate()",
   "id": "64fecd1769cf579e",
   "outputs": [
    {
     "name": "stdout",
     "output_type": "stream",
     "text": [
      "0.00155 0.0001244024718403939\n"
     ]
    }
   ],
   "execution_count": 47
  },
  {
   "cell_type": "code",
   "id": "2d1b015260b338fc",
   "metadata": {
    "ExecuteTime": {
     "end_time": "2025-06-04T11:28:30.320910Z",
     "start_time": "2025-06-04T11:28:30.316392Z"
    }
   },
   "source": [
    "def get_minimal_error():\n",
    "    circ = memory_experiment_circuit_from_cx_list(\n",
    "                cx_list=cx_list,\n",
    "                ancilla_type=ancilla_type,\n",
    "                data_mapping=data_mapping,\n",
    "                ancilla_mapping=ancilla_mapping,\n",
    "                flag_mapping=dict(),  # No flag mapping used here\n",
    "                logicals=lz,\n",
    "                logical_type='Z',\n",
    "                p_cx=0.,\n",
    "                p_idle=0.,\n",
    "                p_spam_error=p_spam_error,\n",
    "                p_phenomenological_error=p_phenomenological_error,\n",
    "                hook_errors=hook_errors,\n",
    "                number_of_cycles=1,\n",
    "                flag=False\n",
    "            )\n",
    "    dist, minimal_error, error_tags = find_distance(circ, max_bp_iterations=10000,osd_order=15)\n",
    "    print(error_tags)\n",
    "    return [e for e in error_tags if e!='phenomenological'], dist\n",
    "    # errors = circ.search_for_undetectable_logical_errors(\n",
    "    #     dont_explore_edges_increasing_symptom_degree=False,\n",
    "    #     dont_explore_detection_event_sets_with_size_above=6,\n",
    "    #     dont_explore_edges_with_degree_above=9999,\n",
    "    #     canonicalize_circuit_errors=True,\n",
    "    # )\n",
    "    # qubits_in_minimal_error = [error.circuit_error_locations[0].instruction_targets.targets_in_range[0].gate_target.value for error in errors]\n",
    "    # hook_ancillas_in_minimal_error = [qubit_to_name[qubit] for qubit in qubits_in_minimal_error if qubit in ancilla_mapping.values()]\n",
    "    # # print([qubit_to_name[qubit] for qubit in qubits_in_minimal_error])\n",
    "    # return hook_ancillas_in_minimal_error, len(errors)"
   ],
   "outputs": [],
   "execution_count": 48
  },
  {
   "cell_type": "code",
   "id": "8d529a4202addb24",
   "metadata": {
    "ExecuteTime": {
     "end_time": "2025-06-04T11:28:36.426318Z",
     "start_time": "2025-06-04T11:28:33.384932Z"
    }
   },
   "source": [
    "# start with hook errors on all ancillas, then keep only hook errors on ancillas in minimal error\n",
    "for _ in range(1000):\n",
    "    hook_errors = all_hook_errors()\n",
    "    bad_ancillas, distance = get_minimal_error()\n",
    "    # print(bad_ancillas)\n",
    "    print('full distance: ', distance)\n",
    "    hook_errors = {ancilla: all_hook_errors_on_ancilla(ancilla) for ancilla in bad_ancillas}\n",
    "    while True:\n",
    "        a = np.random.choice(bad_ancillas)\n",
    "        permute_single_stabilizer_inplace(cx_list, a)\n",
    "        bad_ancillas, new_distance = get_minimal_error()\n",
    "        print('new distance: ', new_distance)\n",
    "        if new_distance > distance:\n",
    "            break"
   ],
   "outputs": [
    {
     "name": "stdout",
     "output_type": "stream",
     "text": [
      "['X1', 'X0', 'phenomenological']\n",
      "full distance:  3.0\n",
      "Changed: (3, 'X1') -> (7, 'X1')\n",
      "Changed: (2, 'X1') -> (8, 'X1')\n",
      "Changed: (8, 'X1') -> (2, 'X1')\n",
      "Changed: (7, 'X1') -> (3, 'X1')\n",
      "['X1', 'X0', 'phenomenological']\n",
      "new distance:  3.0\n",
      "Changed: (8, 'X1') -> (2, 'X1')\n",
      "Changed: (2, 'X1') -> (8, 'X1')\n",
      "['phenomenological', 'X0', 'phenomenological', 'phenomenological']\n",
      "new distance:  4.0\n",
      "['phenomenological', 'phenomenological', 'X6', 'phenomenological']\n",
      "full distance:  4.0\n",
      "Changed: (17, 'X6') -> (22, 'X6')\n",
      "Changed: (22, 'X6') -> (17, 'X6')\n",
      "['phenomenological', 'phenomenological', 'phenomenological', 'phenomenological', 'phenomenological']\n",
      "new distance:  5.0\n",
      "['phenomenological', 'phenomenological', 'X2', 'phenomenological']\n",
      "full distance:  4.0\n",
      "Changed: (7, 'X2') -> (12, 'X2')\n",
      "Changed: (12, 'X2') -> (7, 'X2')\n",
      "['phenomenological', 'phenomenological', 'phenomenological', 'phenomenological', 'phenomenological']\n",
      "new distance:  5.0\n",
      "['phenomenological', 'X0', 'phenomenological', 'phenomenological']\n",
      "full distance:  4.0\n",
      "Changed: (1, 'X0') -> (6, 'X0')\n",
      "Changed: (5, 'X0') -> (1, 'X0')\n",
      "Changed: (6, 'X0') -> (5, 'X0')\n",
      "['phenomenological', 'phenomenological', 'phenomenological', 'phenomenological', 'phenomenological']\n",
      "new distance:  5.0\n",
      "['phenomenological', 'phenomenological', 'phenomenological', 'phenomenological', 'phenomenological']\n",
      "full distance:  5.0\n"
     ]
    },
    {
     "ename": "ValueError",
     "evalue": "'a' cannot be empty unless no samples are taken",
     "output_type": "error",
     "traceback": [
      "\u001B[0;31m---------------------------------------------------------------------------\u001B[0m",
      "\u001B[0;31mValueError\u001B[0m                                Traceback (most recent call last)",
      "Cell \u001B[0;32mIn[49], line 9\u001B[0m\n\u001B[1;32m      7\u001B[0m hook_errors \u001B[38;5;241m=\u001B[39m {ancilla: all_hook_errors_on_ancilla(ancilla) \u001B[38;5;28;01mfor\u001B[39;00m ancilla \u001B[38;5;129;01min\u001B[39;00m bad_ancillas}\n\u001B[1;32m      8\u001B[0m \u001B[38;5;28;01mwhile\u001B[39;00m \u001B[38;5;28;01mTrue\u001B[39;00m:\n\u001B[0;32m----> 9\u001B[0m     a \u001B[38;5;241m=\u001B[39m \u001B[43mnp\u001B[49m\u001B[38;5;241;43m.\u001B[39;49m\u001B[43mrandom\u001B[49m\u001B[38;5;241;43m.\u001B[39;49m\u001B[43mchoice\u001B[49m\u001B[43m(\u001B[49m\u001B[43mbad_ancillas\u001B[49m\u001B[43m)\u001B[49m\n\u001B[1;32m     10\u001B[0m     permute_single_stabilizer_inplace(cx_list, a)\n\u001B[1;32m     11\u001B[0m     bad_ancillas, new_distance \u001B[38;5;241m=\u001B[39m get_minimal_error()\n",
      "File \u001B[0;32mnumpy/random/mtrand.pyx:951\u001B[0m, in \u001B[0;36mnumpy.random.mtrand.RandomState.choice\u001B[0;34m()\u001B[0m\n",
      "\u001B[0;31mValueError\u001B[0m: 'a' cannot be empty unless no samples are taken"
     ]
    }
   ],
   "execution_count": 49
  },
  {
   "metadata": {
    "ExecuteTime": {
     "end_time": "2025-06-04T11:28:47.967664Z",
     "start_time": "2025-06-04T11:28:45.690272Z"
    }
   },
   "cell_type": "code",
   "source": "get_logical_error_rate()",
   "id": "9e5fb9c761b31097",
   "outputs": [
    {
     "name": "stdout",
     "output_type": "stream",
     "text": [
      "0.00017 4.122755146743498e-05\n"
     ]
    }
   ],
   "execution_count": 50
  },
  {
   "metadata": {},
   "cell_type": "code",
   "outputs": [],
   "execution_count": null,
   "source": "",
   "id": "ee6f378db1a3a43d"
  }
 ],
 "metadata": {
  "kernelspec": {
   "display_name": ".venv",
   "language": "python",
   "name": "python3"
  },
  "language_info": {
   "codemirror_mode": {
    "name": "ipython",
    "version": 3
   },
   "file_extension": ".py",
   "mimetype": "text/x-python",
   "name": "python",
   "nbconvert_exporter": "python",
   "pygments_lexer": "ipython3",
   "version": "3.11.5"
  }
 },
 "nbformat": 4,
 "nbformat_minor": 5
}
