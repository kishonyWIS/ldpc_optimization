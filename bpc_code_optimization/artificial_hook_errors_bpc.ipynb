{
 "cells": [
  {
   "cell_type": "code",
   "execution_count": 1,
   "id": "7361dc91",
   "metadata": {
    "ExecuteTime": {
     "end_time": "2025-05-15T07:38:36.388907Z",
     "start_time": "2025-05-15T07:38:36.385318Z"
    }
   },
   "outputs": [],
   "source": [
    "from src.get_quits_codes import get_bpc_code, get_lpc_code\n",
    "from src.circuit_from_cx_list import memory_experiment_circuit_from_cx_list\n",
    "import numpy as np\n",
    "from src.permute_within_each_stabilizer import random_permutation_within_each_stabilizer\n",
    "from src.permute_single_stabilizer import permute_single_stabilizer_inplace\n",
    "from collections import Counter"
   ]
  },
  {
   "cell_type": "code",
   "execution_count": 2,
   "id": "a79bf3d1fc6ce32e",
   "metadata": {
    "ExecuteTime": {
     "end_time": "2025-05-15T07:38:36.998557Z",
     "start_time": "2025-05-15T07:38:36.955174Z"
    }
   },
   "outputs": [],
   "source": [
    "cx_list, ancilla_type, data_mapping, ancilla_mapping, lz, lx = get_bpc_code(cx_order='theirs')\n",
    "qubit_to_name = {v:k for k,v in data_mapping.items()}\n",
    "qubit_to_name.update({v:k for k,v in ancilla_mapping.items()})"
   ]
  },
  {
   "cell_type": "code",
   "execution_count": 3,
   "id": "a3d1a91cf3bf6f70",
   "metadata": {
    "ExecuteTime": {
     "end_time": "2025-05-15T05:54:47.502655Z",
     "start_time": "2025-05-15T05:54:47.499087Z"
    }
   },
   "outputs": [],
   "source": [
    "# separate the cxs such that they are done one stabilizer at a time\n",
    "cx_list = sorted(cx_list, key=lambda x: x[1])"
   ]
  },
  {
   "cell_type": "code",
   "execution_count": 4,
   "id": "e4ab53921092fd82",
   "metadata": {
    "ExecuteTime": {
     "end_time": "2025-05-15T05:31:37.299005Z",
     "start_time": "2025-05-15T05:31:37.295424Z"
    }
   },
   "outputs": [],
   "source": [
    "random_permutation_within_each_stabilizer(cx_list)"
   ]
  },
  {
   "cell_type": "code",
   "execution_count": 5,
   "id": "2d1b015260b338fc",
   "metadata": {
    "ExecuteTime": {
     "end_time": "2025-05-15T07:11:09.914161Z",
     "start_time": "2025-05-15T07:11:09.906663Z"
    }
   },
   "outputs": [],
   "source": [
    "def get_minimal_error():\n",
    "    circ = memory_experiment_circuit_from_cx_list(\n",
    "                cx_list=cx_list,\n",
    "                ancilla_type=ancilla_type,\n",
    "                data_mapping=data_mapping,\n",
    "                ancilla_mapping=ancilla_mapping,\n",
    "                flag_mapping=dict(),  # No flag mapping used here\n",
    "                logicals=lz,\n",
    "                logical_type='Z',\n",
    "                p_cx=0.,\n",
    "                p_idle=0.,\n",
    "                p_measurement_error=0.0,\n",
    "                p_phenomenological_error=0.01,\n",
    "                hook_errors=hook_errors,\n",
    "#                cycles_before_noise=1,\n",
    "                number_of_cycles=1,\n",
    " #               cycles_after_noise=1,\n",
    "                flag=False\n",
    "            )\n",
    "    errors = circ.search_for_undetectable_logical_errors(\n",
    "        dont_explore_edges_increasing_symptom_degree=False,\n",
    "        dont_explore_detection_event_sets_with_size_above=6,\n",
    "        dont_explore_edges_with_degree_above=9999,\n",
    "        canonicalize_circuit_errors=True,\n",
    "    )\n",
    "    qubits_in_minimal_error = [error.circuit_error_locations[0].instruction_targets.targets_in_range[0].gate_target.value for error in errors]\n",
    "    hook_ancillas_in_minimal_error = [qubit_to_name[qubit] for qubit in qubits_in_minimal_error if qubit in ancilla_mapping.values()]\n",
    "    print([qubit_to_name[qubit] for qubit in qubits_in_minimal_error])\n",
    "    return hook_ancillas_in_minimal_error, len(errors)"
   ]
  },
  {
   "cell_type": "code",
   "execution_count": 6,
   "id": "bd4d24c366c9b118",
   "metadata": {
    "ExecuteTime": {
     "end_time": "2025-05-15T07:11:13.474496Z",
     "start_time": "2025-05-15T07:11:13.469642Z"
    }
   },
   "outputs": [],
   "source": [
    "stabilizer_weights = Counter(label for _, label in cx_list)\n",
    "def all_hook_errors_on_ancilla(anc, p=0.02):\n",
    "    return [(cx_idx,p) for cx_idx in range(1,stabilizer_weights[anc]-2)]"
   ]
  },
  {
   "cell_type": "code",
   "execution_count": 7,
   "id": "8d529a4202addb24",
   "metadata": {
    "ExecuteTime": {
     "end_time": "2025-05-15T07:11:26.951275Z",
     "start_time": "2025-05-15T07:11:14.077641Z"
    }
   },
   "outputs": [
    {
     "name": "stdout",
     "output_type": "stream",
     "text": [
      "['X31', 'X15', 'X25', 'X2', 'X5', 'X23', 'X39']\n",
      "['X31', 'X15', 'X25', 'X2', 'X5', 'X23', 'X39']\n",
      "full distance:  7\n",
      "Changed: (5, 'X5') -> (32, 'X5')\n",
      "Changed: (140, 'X5') -> (5, 'X5')\n",
      "Changed: (32, 'X5') -> (147, 'X5')\n",
      "Changed: (147, 'X5') -> (140, 'X5')\n"
     ]
    },
    {
     "ename": "ValueError",
     "evalue": "Failed to find any logical errors.",
     "output_type": "error",
     "traceback": [
      "\u001b[31m---------------------------------------------------------------------------\u001b[39m",
      "\u001b[31mValueError\u001b[39m                                Traceback (most recent call last)",
      "\u001b[36mCell\u001b[39m\u001b[36m \u001b[39m\u001b[32mIn[7]\u001b[39m\u001b[32m, line 11\u001b[39m\n\u001b[32m      9\u001b[39m a = np.random.choice(bad_ancillas)\n\u001b[32m     10\u001b[39m permute_single_stabilizer_inplace(cx_list, a)\n\u001b[32m---> \u001b[39m\u001b[32m11\u001b[39m bad_ancillas, new_distance = \u001b[43mget_minimal_error\u001b[49m\u001b[43m(\u001b[49m\u001b[43m)\u001b[49m\n\u001b[32m     12\u001b[39m \u001b[38;5;28mprint\u001b[39m(\u001b[33m'\u001b[39m\u001b[33mnew distance: \u001b[39m\u001b[33m'\u001b[39m, new_distance)\n\u001b[32m     13\u001b[39m \u001b[38;5;28;01mif\u001b[39;00m new_distance > distance:\n",
      "\u001b[36mCell\u001b[39m\u001b[36m \u001b[39m\u001b[32mIn[5]\u001b[39m\u001b[32m, line 20\u001b[39m, in \u001b[36mget_minimal_error\u001b[39m\u001b[34m()\u001b[39m\n\u001b[32m      1\u001b[39m \u001b[38;5;28;01mdef\u001b[39;00m\u001b[38;5;250m \u001b[39m\u001b[34mget_minimal_error\u001b[39m():\n\u001b[32m      2\u001b[39m     circ = memory_experiment_circuit_from_cx_list(\n\u001b[32m      3\u001b[39m                 cx_list=cx_list,\n\u001b[32m      4\u001b[39m                 ancilla_type=ancilla_type,\n\u001b[32m   (...)\u001b[39m\u001b[32m     18\u001b[39m                 flag=\u001b[38;5;28;01mFalse\u001b[39;00m\n\u001b[32m     19\u001b[39m             )\n\u001b[32m---> \u001b[39m\u001b[32m20\u001b[39m     errors = \u001b[43mcirc\u001b[49m\u001b[43m.\u001b[49m\u001b[43msearch_for_undetectable_logical_errors\u001b[49m\u001b[43m(\u001b[49m\n\u001b[32m     21\u001b[39m \u001b[43m        \u001b[49m\u001b[43mdont_explore_edges_increasing_symptom_degree\u001b[49m\u001b[43m=\u001b[49m\u001b[38;5;28;43;01mFalse\u001b[39;49;00m\u001b[43m,\u001b[49m\n\u001b[32m     22\u001b[39m \u001b[43m        \u001b[49m\u001b[43mdont_explore_detection_event_sets_with_size_above\u001b[49m\u001b[43m=\u001b[49m\u001b[32;43m6\u001b[39;49m\u001b[43m,\u001b[49m\n\u001b[32m     23\u001b[39m \u001b[43m        \u001b[49m\u001b[43mdont_explore_edges_with_degree_above\u001b[49m\u001b[43m=\u001b[49m\u001b[32;43m9999\u001b[39;49m\u001b[43m,\u001b[49m\n\u001b[32m     24\u001b[39m \u001b[43m        \u001b[49m\u001b[43mcanonicalize_circuit_errors\u001b[49m\u001b[43m=\u001b[49m\u001b[38;5;28;43;01mTrue\u001b[39;49;00m\u001b[43m,\u001b[49m\n\u001b[32m     25\u001b[39m \u001b[43m    \u001b[49m\u001b[43m)\u001b[49m\n\u001b[32m     26\u001b[39m     qubits_in_minimal_error = [error.circuit_error_locations[\u001b[32m0\u001b[39m].instruction_targets.targets_in_range[\u001b[32m0\u001b[39m].gate_target.value \u001b[38;5;28;01mfor\u001b[39;00m error \u001b[38;5;129;01min\u001b[39;00m errors]\n\u001b[32m     27\u001b[39m     hook_ancillas_in_minimal_error = [qubit_to_name[qubit] \u001b[38;5;28;01mfor\u001b[39;00m qubit \u001b[38;5;129;01min\u001b[39;00m qubits_in_minimal_error \u001b[38;5;28;01mif\u001b[39;00m qubit \u001b[38;5;129;01min\u001b[39;00m ancilla_mapping.values()]\n",
      "\u001b[31mValueError\u001b[39m: Failed to find any logical errors."
     ]
    }
   ],
   "source": [
    "# start with hook errors on all ancillas, then keep only hook errors on ancillas in minimal error\n",
    "for _ in range(1000):\n",
    "    hook_errors = {ancilla: all_hook_errors_on_ancilla(ancilla) for ancilla, a_type in ancilla_type.items() if a_type == 'X'}\n",
    "    bad_ancillas, distance = get_minimal_error()\n",
    "    print(bad_ancillas)\n",
    "    print('full distance: ', distance)\n",
    "    hook_errors = {ancilla: all_hook_errors_on_ancilla(ancilla) for ancilla in bad_ancillas}\n",
    "    while True:\n",
    "        a = np.random.choice(bad_ancillas)\n",
    "        permute_single_stabilizer_inplace(cx_list, a)\n",
    "        bad_ancillas, new_distance = get_minimal_error()\n",
    "        print('new distance: ', new_distance)\n",
    "        if new_distance > distance:\n",
    "            break"
   ]
  },
  {
   "cell_type": "code",
   "execution_count": null,
   "id": "740658a56fcaedc2",
   "metadata": {
    "ExecuteTime": {
     "end_time": "2025-05-13T14:38:47.047891Z",
     "start_time": "2025-05-13T14:38:47.032109Z"
    }
   },
   "outputs": [
    {
     "data": {
      "text/plain": [
       "[(0, 'X0'),\n",
       " (262, 'X102'),\n",
       " (268, 'X108'),\n",
       " (262, 'X118'),\n",
       " (268, 'X124'),\n",
       " (262, 'X134'),\n",
       " (268, 'X140'),\n",
       " (392, 'X152'),\n",
       " (0, 'X16'),\n",
       " (392, 'X168'),\n",
       " (392, 'X184'),\n",
       " (516, 'X196'),\n",
       " (519, 'X199'),\n",
       " (524, 'X204'),\n",
       " (516, 'X212'),\n",
       " (519, 'X215'),\n",
       " (6, 'X22'),\n",
       " (524, 'X220'),\n",
       " (516, 'X228'),\n",
       " (7, 'X23'),\n",
       " (519, 'X231'),\n",
       " (524, 'X236'),\n",
       " (0, 'X32'),\n",
       " (6, 'X38'),\n",
       " (7, 'X39'),\n",
       " (128, 'X48'),\n",
       " (132, 'X52'),\n",
       " (136, 'X56'),\n",
       " (6, 'X6'),\n",
       " (128, 'X64'),\n",
       " (132, 'X68'),\n",
       " (7, 'X7'),\n",
       " (136, 'X72'),\n",
       " (128, 'X80'),\n",
       " (132, 'X84'),\n",
       " (136, 'X88'),\n",
       " (0, 'Z0'),\n",
       " (128, 'Z0'),\n",
       " (524, 'Z12'),\n",
       " (268, 'Z12'),\n",
       " (0, 'Z160'),\n",
       " (262, 'Z160'),\n",
       " (516, 'Z163'),\n",
       " (128, 'Z163'),\n",
       " (519, 'Z166'),\n",
       " (392, 'Z166'),\n",
       " (6, 'Z166'),\n",
       " (268, 'Z166'),\n",
       " (132, 'Z167'),\n",
       " (7, 'Z167'),\n",
       " (524, 'Z171'),\n",
       " (136, 'Z171'),\n",
       " (516, 'Z4'),\n",
       " (132, 'Z4'),\n",
       " (6, 'Z6'),\n",
       " (262, 'Z6'),\n",
       " (7, 'Z7'),\n",
       " (519, 'Z7'),\n",
       " (392, 'Z8'),\n",
       " (136, 'Z8'),\n",
       " (268, 'Z80'),\n",
       " (0, 'Z80'),\n",
       " (128, 'Z82'),\n",
       " (519, 'Z82'),\n",
       " (132, 'Z86'),\n",
       " (6, 'Z86'),\n",
       " (7, 'Z87'),\n",
       " (524, 'Z87'),\n",
       " (136, 'Z90'),\n",
       " (262, 'Z90'),\n",
       " (392, 'Z95'),\n",
       " (516, 'Z95')]"
      ]
     },
     "execution_count": 8,
     "metadata": {},
     "output_type": "execute_result"
    }
   ],
   "source": [
    "sorted([cx for cx in cx_list if cx[0] in [0, 128, 132, 516, 6, 262, 519, 7, 136, 392, 268, 524]], key=lambda x: x[1])"
   ]
  },
  {
   "cell_type": "code",
   "execution_count": null,
   "id": "92e7ed7a",
   "metadata": {},
   "outputs": [],
   "source": []
  }
 ],
 "metadata": {
  "kernelspec": {
   "display_name": ".venv",
   "language": "python",
   "name": "python3"
  },
  "language_info": {
   "codemirror_mode": {
    "name": "ipython",
    "version": 3
   },
   "file_extension": ".py",
   "mimetype": "text/x-python",
   "name": "python",
   "nbconvert_exporter": "python",
   "pygments_lexer": "ipython3",
   "version": "3.11.5"
  }
 },
 "nbformat": 4,
 "nbformat_minor": 5
}
