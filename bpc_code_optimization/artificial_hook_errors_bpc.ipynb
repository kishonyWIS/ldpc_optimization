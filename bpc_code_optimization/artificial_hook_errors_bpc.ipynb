{
 "cells": [
  {
   "cell_type": "code",
   "execution_count": 1,
   "id": "7361dc91",
   "metadata": {
    "ExecuteTime": {
     "end_time": "2025-05-15T07:38:36.388907Z",
     "start_time": "2025-05-15T07:38:36.385318Z"
    }
   },
   "outputs": [],
   "source": [
    "from src.get_quits_codes import get_bpc_code, get_lpc_code\n",
    "from src.circuit_from_cx_list import memory_experiment_circuit_from_cx_list\n",
    "import numpy as np\n",
    "from src.permute_within_each_stabilizer import random_permutation_within_each_stabilizer\n",
    "from src.permute_single_stabilizer import permute_single_stabilizer_inplace\n",
    "from collections import Counter"
   ]
  },
  {
   "cell_type": "code",
   "execution_count": 2,
   "id": "a79bf3d1fc6ce32e",
   "metadata": {
    "ExecuteTime": {
     "end_time": "2025-05-15T07:38:36.998557Z",
     "start_time": "2025-05-15T07:38:36.955174Z"
    }
   },
   "outputs": [],
   "source": [
    "np.random.seed(42)\n",
    "\n",
    "cx_list, ancilla_type, data_mapping, ancilla_mapping, lz, lx = get_bpc_code(cx_order='theirs')\n",
    "qubit_to_name = {v:k for k,v in data_mapping.items()}\n",
    "qubit_to_name.update({v:k for k,v in ancilla_mapping.items()})"
   ]
  },
  {
   "cell_type": "code",
   "execution_count": 3,
   "id": "a3d1a91cf3bf6f70",
   "metadata": {
    "ExecuteTime": {
     "end_time": "2025-05-15T05:54:47.502655Z",
     "start_time": "2025-05-15T05:54:47.499087Z"
    }
   },
   "outputs": [],
   "source": [
    "# separate the cxs such that they are done one stabilizer at a time\n",
    "cx_list = sorted(cx_list, key=lambda x: x[1])"
   ]
  },
  {
   "cell_type": "code",
   "execution_count": 4,
   "id": "e4ab53921092fd82",
   "metadata": {
    "ExecuteTime": {
     "end_time": "2025-05-15T05:31:37.299005Z",
     "start_time": "2025-05-15T05:31:37.295424Z"
    }
   },
   "outputs": [],
   "source": [
    "random_permutation_within_each_stabilizer(cx_list)"
   ]
  },
  {
   "cell_type": "code",
   "execution_count": 5,
   "id": "2d1b015260b338fc",
   "metadata": {
    "ExecuteTime": {
     "end_time": "2025-05-15T07:11:09.914161Z",
     "start_time": "2025-05-15T07:11:09.906663Z"
    }
   },
   "outputs": [],
   "source": [
    "def get_minimal_error():\n",
    "    circ = memory_experiment_circuit_from_cx_list(\n",
    "                cx_list=cx_list,\n",
    "                ancilla_type=ancilla_type,\n",
    "                data_mapping=data_mapping,\n",
    "                ancilla_mapping=ancilla_mapping,\n",
    "                flag_mapping=dict(),  # No flag mapping used here\n",
    "                logicals=lz,\n",
    "                logical_type='Z',\n",
    "                p_cx=0.,\n",
    "                p_idle=0.,\n",
    "                p_measurement_error=0.0,\n",
    "                p_phenomenological_error=0.01,\n",
    "                hook_errors=hook_errors,\n",
    "                number_of_cycles=1,\n",
    "                flag=False\n",
    "            )\n",
    "    errors = circ.search_for_undetectable_logical_errors(\n",
    "        dont_explore_edges_increasing_symptom_degree=False,\n",
    "        dont_explore_detection_event_sets_with_size_above=6,\n",
    "        dont_explore_edges_with_degree_above=9999,\n",
    "        canonicalize_circuit_errors=True,\n",
    "    )\n",
    "    # Uncomment to print the circuit\n",
    "    # for tick in circ.ticks:\n",
    "    #     print(tick)\n",
    "\n",
    "    # Uncomment to print the gates in the circuit\n",
    "#    for gate in circ:\n",
    "\n",
    " #       if gate.name == 'M':\n",
    "  #          print(gate)\n",
    "    qubits_in_minimal_error = [error.circuit_error_locations[0].instruction_targets.targets_in_range[0].gate_target.value for error in errors]\n",
    "    hook_ancillas_in_minimal_error = [qubit_to_name[qubit] for qubit in qubits_in_minimal_error if qubit in ancilla_mapping.values()]\n",
    "    print([qubit_to_name[qubit] for qubit in qubits_in_minimal_error])\n",
    "    return hook_ancillas_in_minimal_error, len(errors)"
   ]
  },
  {
   "cell_type": "code",
   "execution_count": 6,
   "id": "bd4d24c366c9b118",
   "metadata": {
    "ExecuteTime": {
     "end_time": "2025-05-15T07:11:13.474496Z",
     "start_time": "2025-05-15T07:11:13.469642Z"
    }
   },
   "outputs": [],
   "source": [
    "stabilizer_weights = Counter(label for _, label in cx_list)\n",
    "def all_hook_errors_on_ancilla(anc, p=0.02):\n",
    "    return [(cx_idx,p) for cx_idx in range(1,stabilizer_weights[anc]-2)]"
   ]
  },
  {
   "cell_type": "code",
   "execution_count": null,
   "id": "8d529a4202addb24",
   "metadata": {
    "ExecuteTime": {
     "end_time": "2025-05-15T07:11:26.951275Z",
     "start_time": "2025-05-15T07:11:14.077641Z"
    }
   },
   "outputs": [
    {
     "name": "stdout",
     "output_type": "stream",
     "text": [
      "['X31', 8, 'X25', 'X2', 'X5', 176]\n",
      "['X31', 'X25', 'X2', 'X5']\n",
      "full distance:  6\n",
      "Changed: (44, 'X2') -> (144, 'X2')\n",
      "Changed: (2, 'X2') -> (44, 'X2')\n",
      "Changed: (144, 'X2') -> (26, 'X2')\n",
      "Changed: (26, 'X2') -> (2, 'X2')\n",
      "['X31', 8, 'X25', 137, 'X5', 176, 44]\n",
      "new distance:  7\n",
      "['X13', 'X15', 'X21', 'X14', 164, 31]\n",
      "['X13', 'X15', 'X21', 'X14']\n",
      "full distance:  6\n",
      "Changed: (136, 'X14') -> (14, 'X14')\n",
      "Changed: (14, 'X14') -> (136, 'X14')\n",
      "Changed: (41, 'X14') -> (23, 'X14')\n",
      "Changed: (23, 'X14') -> (141, 'X14')\n",
      "Changed: (141, 'X14') -> (41, 'X14')\n",
      "['X13', 'X15', 'X21', 'X14', 164, 31, 41]\n",
      "new distance:  7\n",
      "['X16', 'X32', 'X41', 159, 177, 'X25']\n",
      "['X16', 'X32', 'X41', 'X25']\n",
      "full distance:  6\n",
      "Changed: (153, 'X16') -> (1, 'X16')\n",
      "Changed: (1, 'X16') -> (151, 'X16')\n",
      "Changed: (158, 'X16') -> (16, 'X16')\n",
      "Changed: (151, 'X16') -> (158, 'X16')\n",
      "Changed: (16, 'X16') -> (40, 'X16')\n",
      "Changed: (40, 'X16') -> (153, 'X16')\n",
      "[1, 'X32', 153, 'X41', 159, 177, 'X25']\n",
      "new distance:  7\n",
      "[9, 'X34', 'X37', 'X12', 'X7', 'X0']\n",
      "['X34', 'X37', 'X12', 'X7', 'X0']\n",
      "full distance:  6\n",
      "Changed: (12, 'X12') -> (39, 'X12')\n",
      "Changed: (39, 'X12') -> (21, 'X12')\n",
      "Changed: (21, 'X12') -> (139, 'X12')\n",
      "Changed: (139, 'X12') -> (12, 'X12')\n",
      "[9, 'X34', 'X37', 12, 7, 'X0', 147]\n",
      "new distance:  7\n",
      "[0, 'X8', 'X17', 'X40', 143, 30, 43]\n",
      "['X8', 'X17', 'X40']\n",
      "full distance:  7\n",
      "Changed: (145, 'X8') -> (35, 'X8')\n",
      "Changed: (8, 'X8') -> (17, 'X8')\n",
      "Changed: (35, 'X8') -> (143, 'X8')\n",
      "Changed: (135, 'X8') -> (145, 'X8')\n",
      "Changed: (143, 'X8') -> (135, 'X8')\n",
      "Changed: (17, 'X8') -> (8, 'X8')\n",
      "[0, 135, 'X17', 'X40', 30, 43, 35]\n",
      "new distance:  7\n",
      "Changed: (2, 'X17') -> (152, 'X17')\n",
      "Changed: (154, 'X17') -> (2, 'X17')\n",
      "Changed: (17, 'X17') -> (41, 'X17')\n",
      "Changed: (152, 'X17') -> (17, 'X17')\n",
      "Changed: (41, 'X17') -> (159, 'X17')\n",
      "Changed: (159, 'X17') -> (154, 'X17')\n",
      "[0, 8, 10, 'X17', 12, 'X40', 158, 149]\n",
      "new distance:  8\n",
      "[4, 'X17', 'X6', 'X22', 'X44', 36]\n",
      "['X17', 'X6', 'X22', 'X44']\n",
      "full distance:  6\n",
      "Changed: (157, 'X22') -> (159, 'X22')\n",
      "Changed: (22, 'X22') -> (157, 'X22')\n",
      "Changed: (159, 'X22') -> (22, 'X22')\n",
      "[1, 151, 'X44', 'X6', 161, 17, 19, 22]\n",
      "new distance:  8\n",
      "['X0', 'X22', 'X10', 'X27', 39, 34]\n",
      "['X0', 'X22', 'X10', 'X27']\n",
      "full distance:  6\n",
      "Changed: (159, 'X22') -> (164, 'X22')\n",
      "Changed: (164, 'X22') -> (159, 'X22')\n",
      "Changed: (7, 'X22') -> (157, 'X22')\n",
      "Changed: (157, 'X22') -> (7, 'X22')\n",
      "[157, 'X0', 'X10', 'X27', 22, 39, 34]\n",
      "new distance:  7\n",
      "['X31', 8, 'X25', 137, 'X5', 176, 44]\n",
      "['X31', 'X25', 'X5']\n",
      "full distance:  7\n",
      "Changed: (142, 'X5') -> (29, 'X5')\n",
      "Changed: (5, 'X5') -> (140, 'X5')\n",
      "Changed: (29, 'X5') -> (5, 'X5')\n",
      "Changed: (140, 'X5') -> (147, 'X5')\n",
      "Changed: (32, 'X5') -> (142, 'X5')\n",
      "Changed: (147, 'X5') -> (32, 'X5')\n",
      "['X31', 8, 'X25', 137, 5, 142, 176, 44]\n",
      "new distance:  8\n",
      "[0, 'X13', 9, 151, 2, 'X37', 'X5']\n",
      "['X13', 'X37', 'X5']\n",
      "full distance:  7\n",
      "Changed: (29, 'X5') -> (147, 'X5')\n",
      "Changed: (140, 'X5') -> (142, 'X5')\n",
      "Changed: (5, 'X5') -> (32, 'X5')\n",
      "Changed: (147, 'X5') -> (140, 'X5')\n",
      "Changed: (142, 'X5') -> (29, 'X5')\n",
      "Changed: (32, 'X5') -> (5, 'X5')\n",
      "[0, 'X13', 9, 151, 2, 'X37', 'X5', 147]\n",
      "new distance:  8\n",
      "[0, 'X31', 137, 'X5', 'X27', 19, 44]\n",
      "['X31', 'X5', 'X27']\n",
      "full distance:  7\n",
      "Changed: (154, 'X27') -> (164, 'X27')\n",
      "Changed: (164, 'X27') -> (162, 'X27')\n",
      "Changed: (36, 'X27') -> (27, 'X27')\n",
      "Changed: (162, 'X27') -> (154, 'X27')\n",
      "Changed: (27, 'X27') -> (36, 'X27')\n",
      "[0, 'X31', 10, 3, 171, 'X5', 39, 34]\n",
      "new distance:  8\n",
      "['X28', 'X13', 'X25', 145, 17, 20, 32]\n",
      "['X28', 'X13', 'X25']\n",
      "full distance:  7\n",
      "Changed: (34, 'X25') -> (25, 'X25')\n",
      "Changed: (10, 'X25') -> (160, 'X25')\n",
      "Changed: (152, 'X25') -> (34, 'X25')\n",
      "Changed: (25, 'X25') -> (152, 'X25')\n",
      "Changed: (160, 'X25') -> (10, 'X25')\n",
      "['X28', 'X13', 'X25', 145, 17, 20, 32]\n",
      "new distance:  7\n",
      "Changed: (163, 'X28') -> (13, 'X28')\n",
      "Changed: (28, 'X28') -> (155, 'X28')\n",
      "Changed: (13, 'X28') -> (163, 'X28')\n",
      "Changed: (155, 'X28') -> (28, 'X28')\n",
      "[8, 'X13', 14, 169, 6, 'X25', 167, 27]\n",
      "new distance:  8\n",
      "[3, 'X1', 'X38', 'X25', 33, 41]\n",
      "['X1', 'X38', 'X25']\n",
      "full distance:  6\n",
      "Changed: (25, 'X25') -> (162, 'X25')\n",
      "Changed: (34, 'X25') -> (10, 'X25')\n",
      "Changed: (162, 'X25') -> (152, 'X25')\n",
      "Changed: (152, 'X25') -> (34, 'X25')\n",
      "Changed: (10, 'X25') -> (25, 'X25')\n"
     ]
    }
   ],
   "source": [
    "# start with hook errors on all ancillas, then keep only hook errors on ancillas in minimal error\n",
    "for _ in range(1000):\n",
    "    hook_errors = {ancilla: all_hook_errors_on_ancilla(ancilla) for ancilla, a_type in ancilla_type.items() if a_type == 'X'}\n",
    "    bad_ancillas, distance = get_minimal_error()\n",
    "    print(bad_ancillas)\n",
    "    print('full distance: ', distance)\n",
    "    hook_errors = {ancilla: all_hook_errors_on_ancilla(ancilla) for ancilla in bad_ancillas}\n",
    "    while True:\n",
    "        a = np.random.choice(bad_ancillas)\n",
    "        permute_single_stabilizer_inplace(cx_list, a)\n",
    "        bad_ancillas, new_distance = get_minimal_error()\n",
    "        print('new distance: ', new_distance)\n",
    "        if new_distance > distance:\n",
    "            break"
   ]
  },
  {
   "cell_type": "code",
   "execution_count": null,
   "id": "740658a56fcaedc2",
   "metadata": {
    "ExecuteTime": {
     "end_time": "2025-05-13T14:38:47.047891Z",
     "start_time": "2025-05-13T14:38:47.032109Z"
    }
   },
   "outputs": [
    {
     "data": {
      "text/plain": [
       "[(0, 'X0'),\n",
       " (262, 'X102'),\n",
       " (268, 'X108'),\n",
       " (262, 'X118'),\n",
       " (268, 'X124'),\n",
       " (262, 'X134'),\n",
       " (268, 'X140'),\n",
       " (392, 'X152'),\n",
       " (0, 'X16'),\n",
       " (392, 'X168'),\n",
       " (392, 'X184'),\n",
       " (516, 'X196'),\n",
       " (519, 'X199'),\n",
       " (524, 'X204'),\n",
       " (516, 'X212'),\n",
       " (519, 'X215'),\n",
       " (6, 'X22'),\n",
       " (524, 'X220'),\n",
       " (516, 'X228'),\n",
       " (7, 'X23'),\n",
       " (519, 'X231'),\n",
       " (524, 'X236'),\n",
       " (0, 'X32'),\n",
       " (6, 'X38'),\n",
       " (7, 'X39'),\n",
       " (128, 'X48'),\n",
       " (132, 'X52'),\n",
       " (136, 'X56'),\n",
       " (6, 'X6'),\n",
       " (128, 'X64'),\n",
       " (132, 'X68'),\n",
       " (7, 'X7'),\n",
       " (136, 'X72'),\n",
       " (128, 'X80'),\n",
       " (132, 'X84'),\n",
       " (136, 'X88'),\n",
       " (0, 'Z0'),\n",
       " (128, 'Z0'),\n",
       " (524, 'Z12'),\n",
       " (268, 'Z12'),\n",
       " (0, 'Z160'),\n",
       " (262, 'Z160'),\n",
       " (516, 'Z163'),\n",
       " (128, 'Z163'),\n",
       " (519, 'Z166'),\n",
       " (392, 'Z166'),\n",
       " (6, 'Z166'),\n",
       " (268, 'Z166'),\n",
       " (132, 'Z167'),\n",
       " (7, 'Z167'),\n",
       " (524, 'Z171'),\n",
       " (136, 'Z171'),\n",
       " (516, 'Z4'),\n",
       " (132, 'Z4'),\n",
       " (6, 'Z6'),\n",
       " (262, 'Z6'),\n",
       " (7, 'Z7'),\n",
       " (519, 'Z7'),\n",
       " (392, 'Z8'),\n",
       " (136, 'Z8'),\n",
       " (268, 'Z80'),\n",
       " (0, 'Z80'),\n",
       " (128, 'Z82'),\n",
       " (519, 'Z82'),\n",
       " (132, 'Z86'),\n",
       " (6, 'Z86'),\n",
       " (7, 'Z87'),\n",
       " (524, 'Z87'),\n",
       " (136, 'Z90'),\n",
       " (262, 'Z90'),\n",
       " (392, 'Z95'),\n",
       " (516, 'Z95')]"
      ]
     },
     "execution_count": 8,
     "metadata": {},
     "output_type": "execute_result"
    }
   ],
   "source": [
    "sorted([cx for cx in cx_list if cx[0] in [0, 128, 132, 516, 6, 262, 519, 7, 136, 392, 268, 524]], key=lambda x: x[1])"
   ]
  },
  {
   "cell_type": "code",
   "execution_count": null,
   "id": "92e7ed7a",
   "metadata": {},
   "outputs": [],
   "source": []
  },
  {
   "cell_type": "code",
   "execution_count": null,
   "id": "4ac4a627",
   "metadata": {},
   "outputs": [],
   "source": []
  }
 ],
 "metadata": {
  "kernelspec": {
   "display_name": ".venv",
   "language": "python",
   "name": "python3"
  },
  "language_info": {
   "codemirror_mode": {
    "name": "ipython",
    "version": 3
   },
   "file_extension": ".py",
   "mimetype": "text/x-python",
   "name": "python",
   "nbconvert_exporter": "python",
   "pygments_lexer": "ipython3",
   "version": "3.11.5"
  }
 },
 "nbformat": 4,
 "nbformat_minor": 5
}
