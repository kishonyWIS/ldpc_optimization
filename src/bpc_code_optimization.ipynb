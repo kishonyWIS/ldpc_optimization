{
 "cells": [
  {
   "cell_type": "code",
   "execution_count": 1,
   "id": "7361dc91",
   "metadata": {
    "ExecuteTime": {
     "end_time": "2025-04-17T15:20:22.561499Z",
     "start_time": "2025-04-17T15:20:22.556919Z"
    }
   },
   "outputs": [],
   "source": [
    "import numpy as np\n",
    "import stim\n",
    "from tqdm import tqdm\n",
    "from cx_list_from_stabilizers_in_sequence import StabilizerCode\n",
    "from interactive_cx_list_optimizer import InteractiveCxListOptimizer\n",
    "import cProfile\n",
    "\n",
    "from quits.qldpc_code import *\n",
    "from quits.circuit import get_qldpc_mem_circuit\n",
    "from quits.decoder import sliding_window_bposd_circuit_mem\n",
    "from quits.simulation import get_stim_mem_result"
   ]
  },
  {
   "cell_type": "code",
   "execution_count": 2,
   "id": "db3e7385",
   "metadata": {
    "ExecuteTime": {
     "end_time": "2025-04-17T15:20:22.934729Z",
     "start_time": "2025-04-17T15:20:22.930050Z"
    }
   },
   "outputs": [],
   "source": [
    "lift_size, factor = 15, 3   \n",
    "p1 = [0, 1, 5]    # e + x + x^5\n",
    "p2 = [0, 2, 7]    # e + x^2 + x^7"
   ]
  },
  {
   "cell_type": "code",
   "execution_count": 3,
   "id": "4a94666bdc6f308c",
   "metadata": {
    "ExecuteTime": {
     "end_time": "2025-04-17T15:20:23.324994Z",
     "start_time": "2025-04-17T15:20:23.296952Z"
    }
   },
   "outputs": [
    {
     "name": "stdout",
     "output_type": "stream",
     "text": [
      "# data qubits:  90  # logical qubits:  8\n",
      "# z-check qubits:  45  # x-check qubits:  45\n",
      "# layers of entangling gates:  8\n"
     ]
    }
   ],
   "source": [
    "code = BpcCode(p1, p2, lift_size, factor)  # Define the BpcCode object\n",
    "code.build_graph(seed=1)                   # Build the Tanner graph and assign directions to its edges. \n",
    "\n",
    "num_zcheck, num_data = code.hz.shape\n",
    "num_xcheck, num_data = code.hx.shape\n",
    "num_logical = code.lz.shape[0]\n",
    "depth = sum(list(code.num_colors.values())) \n",
    "print('# data qubits: ', num_data, ' # logical qubits: ', num_logical)\n",
    "print('# z-check qubits: ', num_zcheck, ' # x-check qubits: ', num_xcheck)\n",
    "print('# layers of entangling gates: ', depth)"
   ]
  },
  {
   "cell_type": "code",
   "execution_count": 4,
   "id": "3b552ff0fb22d8e6",
   "metadata": {
    "ExecuteTime": {
     "end_time": "2025-04-17T15:20:23.711324Z",
     "start_time": "2025-04-17T15:20:23.702351Z"
    }
   },
   "outputs": [],
   "source": [
    "p = 2e-3           # physical error rate\n",
    "num_rounds = 15    # number of rounds (T-1)\n",
    "basis = 'Z'        # 'Z' or 'X'\n",
    "\n",
    "circuit = stim.Circuit(get_qldpc_mem_circuit(code, p, p, p, p, num_rounds, basis=basis))"
   ]
  },
  {
   "cell_type": "code",
   "execution_count": 5,
   "id": "f1be6b3283413aa8",
   "metadata": {
    "ExecuteTime": {
     "end_time": "2025-04-17T15:20:25.453920Z",
     "start_time": "2025-04-17T15:20:24.077557Z"
    }
   },
   "outputs": [
    {
     "name": "stderr",
     "output_type": "stream",
     "text": [
      "100%|██████████| 100/100 [00:10<00:00,  9.40it/s]"
     ]
    },
    {
     "name": "stdout",
     "output_type": "stream",
     "text": [
      "p: 0.0020000, LFR: 0.0006698\n"
     ]
    },
    {
     "name": "stderr",
     "output_type": "stream",
     "text": [
      "\n"
     ]
    }
   ],
   "source": [
    "num_trials = 100\n",
    "# Simulate the circuit using Stim. \n",
    "detection_events, observable_flips = get_stim_mem_result(circuit, num_trials, seed=1)   # simulate the circuit using Stim\n",
    "\n",
    "W, F = 5, 3                     # sliding window parameters\n",
    "max_iter, osd_order = 20, 10    # BP-OSD decoder parameters \n",
    "\n",
    "# Perform decoding of the detection_events generated from simulating the circuit. \n",
    "# Returns the logical observable flip predicted from decoding. \n",
    "logical_pred = sliding_window_bposd_circuit_mem(detection_events, circuit, code.hz, code.lz,\\\n",
    "                                                W, F, max_iter=max_iter, osd_order=osd_order, tqdm_on=True)\n",
    "\n",
    "# Logical error is recorded whenever logical_pred does not match observable_flips for any logical qubit at any round\n",
    "pL = np.sum((observable_flips- logical_pred).any(axis=1)) / num_trials\n",
    "lfr = 1 - (1-pL)**(1/num_rounds)\n",
    "print('p: %.7f, LFR: %.7f'%(p, lfr))"
   ]
  },
  {
   "cell_type": "code",
   "execution_count": 6,
   "id": "d99e450fba0e4fb5",
   "metadata": {
    "ExecuteTime": {
     "end_time": "2025-04-17T15:20:25.490151Z",
     "start_time": "2025-04-17T15:20:25.485550Z"
    }
   },
   "outputs": [],
   "source": [
    "stabilizer_x = []\n",
    "for i in range(code.hx.shape[0]):\n",
    "    row = []\n",
    "    for j in range(code.hx.shape[1]):\n",
    "        if code.hx[i,j] == 1:\n",
    "            row.append(j)\n",
    "    stabilizer_x.append(row)\n",
    "    \n",
    "stabilizer_z = []\n",
    "for i in range(code.hz.shape[0]):\n",
    "    row = []\n",
    "    for j in range(code.hz.shape[1]):\n",
    "        if code.hz[i,j] == 1:\n",
    "            row.append(j)\n",
    "    stabilizer_z.append(row)\n",
    "\n",
    "bpc_code = StabilizerCode(stabilizer_x, stabilizer_z, code.lx, code.lz)\n",
    "cx_list = bpc_code.generate_cx_list()\n",
    "ancilla_type, data_mapping, ancilla_mapping = bpc_code.build_mappings()\n"
   ]
  },
  {
   "cell_type": "code",
   "execution_count": 7,
   "id": "2aea9f442a3cb2b2",
   "metadata": {
    "ExecuteTime": {
     "end_time": "2025-04-17T15:20:26.344738Z",
     "start_time": "2025-04-17T15:20:26.339149Z"
    }
   },
   "outputs": [],
   "source": [
    "new_ancilla_mapping = {'Z'+str(i): q for i, q in enumerate(code.zcheck_qubits)}\n",
    "new_ancilla_mapping.update({'X'+str(i): q for i, q in enumerate(code.xcheck_qubits)})\n",
    "new_ancilla_type = {name: 'X' if name[0] == 'X' else 'Z' for name in new_ancilla_mapping.keys()}\n",
    "new_data_mapping = {q: q for q in set(code.all_qubits) - set(new_ancilla_mapping.values())}"
   ]
  },
  {
   "cell_type": "code",
   "execution_count": 8,
   "id": "5d570960e51acf85",
   "metadata": {
    "ExecuteTime": {
     "end_time": "2025-04-17T15:20:26.910753Z",
     "start_time": "2025-04-17T15:20:26.908153Z"
    }
   },
   "outputs": [],
   "source": [
    "new_cx_list = []\n",
    "directions = list(code.direction_inds.keys())\n",
    "for direction_ind in range(len(directions)):\n",
    "    direction = directions[direction_ind]\n",
    "    for color in range(code.num_colors[direction]):\n",
    "        edges = code.colored_edges[direction_ind][color]\n",
    "        new_cx_list.extend(list(zip(edges[::2], edges[1::2])))"
   ]
  },
  {
   "cell_type": "code",
   "execution_count": 9,
   "id": "c722eeb7a186d7c5",
   "metadata": {
    "ExecuteTime": {
     "end_time": "2025-04-17T15:20:27.784226Z",
     "start_time": "2025-04-17T15:20:27.779174Z"
    }
   },
   "outputs": [],
   "source": [
    "all_qubits_ids_to_names = {}\n",
    "for name, q in new_ancilla_mapping.items():\n",
    "    all_qubits_ids_to_names[q] = name\n",
    "for name, q in new_data_mapping.items():\n",
    "    all_qubits_ids_to_names[q] = name"
   ]
  },
  {
   "cell_type": "code",
   "execution_count": 10,
   "id": "f350d5ad6d378433",
   "metadata": {
    "ExecuteTime": {
     "end_time": "2025-04-17T15:20:28.715073Z",
     "start_time": "2025-04-17T15:20:28.709269Z"
    }
   },
   "outputs": [],
   "source": [
    "# map qubit indices to ancilla names or data names in the cx_list\n",
    "for i in range(len(new_cx_list)):\n",
    "    q1, q2 = new_cx_list[i]\n",
    "    new_cx_list[i] = (all_qubits_ids_to_names[q1], all_qubits_ids_to_names[q2])\n",
    "    # change the order so that the data qubit is always the first one\n",
    "    if new_cx_list[i][0] in new_ancilla_mapping:\n",
    "        assert new_cx_list[i][1] in new_data_mapping\n",
    "        new_cx_list[i] = (new_cx_list[i][1], new_cx_list[i][0])\n",
    "    else:\n",
    "        assert new_cx_list[i][1] in new_ancilla_mapping"
   ]
  },
  {
   "cell_type": "code",
   "execution_count": 11,
   "id": "bf1c668ecddfd96b",
   "metadata": {
    "ExecuteTime": {
     "end_time": "2025-04-17T15:20:30.136556Z",
     "start_time": "2025-04-17T15:20:30.132958Z"
    }
   },
   "outputs": [],
   "source": [
    "p_cx = 2e-4\n",
    "p_idle = 0"
   ]
  },
  {
   "cell_type": "code",
   "execution_count": 12,
   "id": "a11344301d311757",
   "metadata": {
    "ExecuteTime": {
     "end_time": "2025-04-17T15:20:45.997283Z",
     "start_time": "2025-04-17T15:20:45.993259Z"
    }
   },
   "outputs": [],
   "source": [
    "optimizer = InteractiveCxListOptimizer(\n",
    "    initial_cx_list=cx_list,\n",
    "    ancilla_type=ancilla_type,\n",
    "    data_mapping=data_mapping,\n",
    "    ancilla_mapping=ancilla_mapping,\n",
    "    lz=code.lz,\n",
    "    lx=code.lx,\n",
    "    experiment_type='both',\n",
    "    p_cx=p_cx,\n",
    "    p_idle=p_idle,\n",
    "    cycles_with_noise=15,\n",
    ")"
   ]
  },
  {
   "cell_type": "code",
   "execution_count": 13,
   "id": "1c4d1751e050249a",
   "metadata": {
    "ExecuteTime": {
     "end_time": "2025-04-17T14:02:35.784020Z",
     "start_time": "2025-04-17T14:02:35.780350Z"
    }
   },
   "outputs": [],
   "source": [
    "# optimizer = InteractiveCxListOptimizer(\n",
    "#     initial_cx_list=new_cx_list,\n",
    "#     ancilla_type=new_ancilla_type,\n",
    "#     data_mapping=new_data_mapping,\n",
    "#     ancilla_mapping=new_ancilla_mapping,\n",
    "#     lz=code.lz,\n",
    "#     lx=code.lx,\n",
    "#     experiment_type='both',\n",
    "#     p_cx=p_cx,\n",
    "#     p_idle=p_idle,\n",
    "#     cycles_with_noise=15,\n",
    "# )"
   ]
  },
  {
   "cell_type": "code",
   "execution_count": null,
   "id": "2eb1137d00e87497",
   "metadata": {
    "ExecuteTime": {
     "end_time": "2025-04-17T16:25:28.277560Z",
     "start_time": "2025-04-17T15:20:49.455623Z"
    }
   },
   "outputs": [
    {
     "name": "stdout",
     "output_type": "stream",
     "text": [
      "Total idling time: 0\n",
      "90\n",
      "270\n",
      "Total idling time: 0\n",
      "90\n",
      "270\n",
      "Changed: (9, 'X9') -> (54, 'X9')\n",
      "Changed: (46, 'X9') -> (9, 'X9')\n",
      "Changed: (54, 'X9') -> (56, 'X9')\n",
      "Changed: (56, 'X9') -> (46, 'X9')\n",
      "Total idling time: 0\n",
      "90\n",
      "270\n",
      "Total idling time: 0\n",
      "90\n",
      "270\n",
      "Iteration 0: improved objective to 0.0\n",
      "Changed: (6, 'X39') -> (39, 'X39')\n",
      "Changed: (24, 'X39') -> (76, 'X39')\n",
      "Changed: (39, 'X39') -> (84, 'X39')\n",
      "Changed: (76, 'X39') -> (6, 'X39')\n",
      "Changed: (84, 'X39') -> (24, 'X39')\n",
      "Total idling time: 0\n",
      "90\n",
      "270\n",
      "Total idling time: 0\n",
      "90\n",
      "270\n",
      "Changed: (7, 'X22') -> (31, 'X22')\n",
      "Changed: (22, 'X22') -> (67, 'X22')\n",
      "Changed: (31, 'X22') -> (22, 'X22')\n",
      "Changed: (67, 'X22') -> (74, 'X22')\n",
      "Changed: (74, 'X22') -> (7, 'X22')\n",
      "Total idling time: 0\n",
      "90\n",
      "270\n",
      "Total idling time: 0\n",
      "90\n",
      "270\n"
     ]
    },
    {
     "name": "stderr",
     "output_type": "stream",
     "text": [
      "Traceback (most recent call last):\n",
      "  File \"<string>\", line 1, in <module>\n",
      "  File \"/opt/homebrew/Cellar/python@3.11/3.11.5/Frameworks/Python.framework/Versions/3.11/lib/python3.11/multiprocessing/__init__.py\", line 16, in <module>\n",
      "Traceback (most recent call last):\n",
      "  File \"<frozen importlib._bootstrap>\", line 1176, in _find_and_load\n",
      "  File \"<frozen importlib._bootstrap>\", line 1140, in _find_and_load_unlocked\n",
      "Traceback (most recent call last):\n",
      "Traceback (most recent call last):\n",
      "Traceback (most recent call last):\n",
      "ModuleNotFoundError  File \"<string>\", line 1, in <module>\n",
      ": No module named 'msvcrt'  File \"/opt/homebrew/Cellar/python@3.11/3.11.5/Frameworks/Python.framework/Versions/3.11/lib/python3.11/multiprocessing/spawn.py\", line 122, in spawn_main\n",
      "\n",
      "Traceback (most recent call last):\n",
      "  File \"<string>\", line 1, in <module>\n",
      "\n",
      "      File \"<string>\", line 1, in <module>\n",
      "from . import context\n",
      "  File \"<string>\", line 1, in <module>\n",
      "  File \"/opt/homebrew/Cellar/python@3.11/3.11.5/Frameworks/Python.framework/Versions/3.11/lib/python3.11/multiprocessing/__init__.py\", line 16, in <module>\n",
      "  File \"/opt/homebrew/Cellar/python@3.11/3.11.5/Frameworks/Python.framework/Versions/3.11/lib/python3.11/multiprocessing/spawn.py\", line 122, in spawn_main\n",
      "  File \"/opt/homebrew/Cellar/python@3.11/3.11.5/Frameworks/Python.framework/Versions/3.11/lib/python3.11/multiprocessing/spawn.py\", line 122, in spawn_main\n",
      "  File \"/opt/homebrew/Cellar/python@3.11/3.11.5/Frameworks/Python.framework/Versions/3.11/lib/python3.11/multiprocessing/context.py\", line 3, in <module>\n",
      "During handling of the above exception, another exception occurred:\n",
      "\n",
      "Traceback (most recent call last):\n",
      "    from . import context  File \"<string>\", line 1, in <module>\n",
      "\n",
      "  File \"/opt/homebrew/Cellar/python@3.11/3.11.5/Frameworks/Python.framework/Versions/3.11/lib/python3.11/multiprocessing/spawn.py\", line 19, in <module>\n",
      "  File \"/opt/homebrew/Cellar/python@3.11/3.11.5/Frameworks/Python.framework/Versions/3.11/lib/python3.11/multiprocessing/context.py\", line 6, in <module>\n",
      "    import threading\n",
      "  File \"/opt/homebrew/Cellar/python@3.11/3.11.5/Frameworks/Python.framework/Versions/3.11/lib/python3.11/threading.py\", line 224, in <module>\n",
      "    from . import reduction\n",
      "    exitcode = _main(fd, parent_sentinel)\n",
      "  File \"/opt/homebrew/Cellar/python@3.11/3.11.5/Frameworks/Python.framework/Versions/3.11/lib/python3.11/multiprocessing/reduction.py\", line 16, in <module>\n",
      "                      exitcode = _main(fd, parent_sentinel)exitcode = _main(fd, parent_sentinel)\n",
      "\n",
      " ^^^^^^^^^^^    ^^^^^^^^^^^^^^^  from . import util\n",
      "    \n",
      "     File \"/opt/homebrew/Cellar/python@3.11/3.11.5/Frameworks/Python.framework/Versions/3.11/lib/python3.11/multiprocessing/spawn.py\", line 132, in _main\n",
      "                  ^ ^ ^ ^^^^^^^^^^^^  File \"/opt/homebrew/Cellar/python@3.11/3.11.5/Frameworks/Python.framework/Versions/3.11/lib/python3.11/multiprocessing/util.py\", line 17, in <module>\n",
      "^^^^^^^^^^^^^^^^^^^^^^^^^^^^^\n",
      "^^^^^^  File \"/opt/homebrew/Cellar/python@3.11/3.11.5/Frameworks/Python.framework/Versions/3.11/lib/python3.11/multiprocessing/spawn.py\", line 132, in _main\n",
      "^^\n",
      "  File \"/opt/homebrew/Cellar/python@3.11/3.11.5/Frameworks/Python.framework/Versions/3.11/lib/python3.11/multiprocessing/spawn.py\", line 132, in _main\n",
      "    self = reduction.pickle.load(from_parent)\n",
      "           ^^^^^^^^^^^^^^^    ^self = reduction.pickle.load(from_parent)\n",
      "    self = reduction.pickle.load(from_parent)\n",
      "^^^^^^^^^^^^^^^^^^\n",
      "  File \"/Users/pderks/Documents/ldpc_optimization/ldpc_optimization/.venv/lib/python3.11/site-packages/sinter/__init__.py\", line 3, in <module>\n",
      "                             from subprocess import _args_from_interpreter_flags^import socket^\n",
      "^\n",
      "^^ ^^^^^^^^^^^^^^^^^^^  File \"/opt/homebrew/Cellar/python@3.11/3.11.5/Frameworks/Python.framework/Versions/3.11/lib/python3.11/socket.py\", line 54, in <module>\n",
      "  File \"/opt/homebrew/Cellar/python@3.11/3.11.5/Frameworks/Python.framework/Versions/3.11/lib/python3.11/subprocess.py\", line 71, in <module>\n",
      "^^^^^^^^^^^^    ^from sinter._collection import (^\n",
      "^^^  File \"/Users/pderks/Documents/ldpc_optimization/ldpc_optimization/.venv/lib/python3.11/site-packages/sinter/_collection/__init__.py\", line 1, in <module>\n",
      "^^^^^^^^^^^^^^^^^^^^^\n",
      "^^^^^^\n",
      "  File \"/Users/pderks/Documents/ldpc_optimization/ldpc_optimization/.venv/lib/python3.11/site-packages/sinter/__init__.py\", line 3, in <module>\n",
      "    from sinter._collection._collection import (\n",
      "  File \"/Users/pderks/Documents/ldpc_optimization/ldpc_optimization/.venv/lib/python3.11/site-packages/sinter/_collection/_collection.py\", line 3, in <module>\n",
      "    from sinter._collection import (\n",
      "  File \"/Users/pderks/Documents/ldpc_optimization/ldpc_optimization/.venv/lib/python3.11/site-packages/sinter/_collection/__init__.py\", line 1, in <module>\n",
      "    class Condition:\n",
      "KeyboardInterrupt\n",
      "    import pathlib\n",
      "    from sinter._collection._collection import (\n",
      "  File \"/Users/pderks/Documents/ldpc_optimization/ldpc_optimization/.venv/lib/python3.11/site-packages/sinter/_collection/_collection.py\", line 7, in <module>\n",
      "  File \"/opt/homebrew/Cellar/python@3.11/3.11.5/Frameworks/Python.framework/Versions/3.11/lib/python3.11/pathlib.py\", line 455, in <module>\n",
      "    import numpy as np\n",
      "  File \"/Users/pderks/Documents/ldpc_optimization/ldpc_optimization/.venv/lib/python3.11/site-packages/numpy/__init__.py\", line 107, in <module>\n",
      "    import os, sys, io, selectors\n",
      "    import msvcrt\n",
      "  File \"<frozen importlib._bootstrap>\", line 1173, in _find_and_load\n",
      "  File \"<frozen importlib._bootstrap>\", line 173, in __exit__\n",
      "KeyboardInterrupt\n",
      "  File \"/opt/homebrew/Cellar/python@3.11/3.11.5/Frameworks/Python.framework/Versions/3.11/lib/python3.11/selectors.py\", line 12, in <module>\n",
      "    class PurePath(object):\n",
      "  File \"/opt/homebrew/Cellar/python@3.11/3.11.5/Frameworks/Python.framework/Versions/3.11/lib/python3.11/pathlib.py\", line 610, in PurePath\n",
      "    drive = property(attrgetter('_drv'),\n",
      "                     ^^^^^^^^^^^^^^^^^^\n",
      "KeyboardInterrupt\n",
      "    import select\n",
      "    from .exceptions import (\n",
      "  File \"<frozen importlib._bootstrap>\", line 1176, in _find_and_load\n",
      "  File \"<frozen importlib._bootstrap>\", line 1155, in _find_and_load_unlocked\n",
      "KeyboardInterrupt\n",
      "KeyboardInterrupt\n",
      "  File \"/Users/pderks/Documents/ldpc_optimization/ldpc_optimization/.venv/lib/python3.11/site-packages/sinter/__init__.py\", line 3, in <module>\n",
      "    from sinter._collection import (\n",
      "  File \"/Users/pderks/Documents/ldpc_optimization/ldpc_optimization/.venv/lib/python3.11/site-packages/sinter/_collection/__init__.py\", line 1, in <module>\n",
      "    from sinter._collection._collection import (\n",
      "  File \"/Users/pderks/Documents/ldpc_optimization/ldpc_optimization/.venv/lib/python3.11/site-packages/sinter/_collection/_collection.py\", line 2, in <module>\n",
      "    import dataclasses\n",
      "  File \"/opt/homebrew/Cellar/python@3.11/3.11.5/Frameworks/Python.framework/Versions/3.11/lib/python3.11/dataclasses.py\", line 5, in <module>\n",
      "    import inspect\n",
      "  File \"/opt/homebrew/Cellar/python@3.11/3.11.5/Frameworks/Python.framework/Versions/3.11/lib/python3.11/inspect.py\", line 138, in <module>\n",
      "    import dis\n",
      "  File \"/opt/homebrew/Cellar/python@3.11/3.11.5/Frameworks/Python.framework/Versions/3.11/lib/python3.11/dis.py\", line 244, in <module>\n"
     ]
    },
    {
     "ename": "AttributeError",
     "evalue": "'NoneType' object has no attribute 'kill'",
     "output_type": "error",
     "traceback": [
      "\u001b[31m---------------------------------------------------------------------------\u001b[39m",
      "\u001b[31mKeyboardInterrupt\u001b[39m                         Traceback (most recent call last)",
      "\u001b[36mFile \u001b[39m\u001b[32m~/Documents/ldpc_optimization/ldpc_optimization/.venv/lib/python3.11/site-packages/sinter/_collection/_collection.py:222\u001b[39m, in \u001b[36miter_collect\u001b[39m\u001b[34m(num_workers, tasks, hint_num_tasks, additional_existing_data, max_shots, max_errors, decoders, max_batch_seconds, max_batch_size, start_batch_size, count_observable_error_combos, count_detection_events, custom_decoders, custom_error_count_key, allowed_cpu_affinity_ids)\u001b[39m\n\u001b[32m    218\u001b[39m \u001b[38;5;28;01myield\u001b[39;00m Progress(\n\u001b[32m    219\u001b[39m     new_stats=(),\n\u001b[32m    220\u001b[39m     status_message=\u001b[33mf\u001b[39m\u001b[33m\"\u001b[39m\u001b[33mStarting \u001b[39m\u001b[38;5;132;01m{\u001b[39;00mnum_workers\u001b[38;5;132;01m}\u001b[39;00m\u001b[33m workers...\u001b[39m\u001b[33m\"\u001b[39m\n\u001b[32m    221\u001b[39m )\n\u001b[32m--> \u001b[39m\u001b[32m222\u001b[39m \u001b[43mmanager\u001b[49m\u001b[43m.\u001b[49m\u001b[43mstart_workers\u001b[49m\u001b[43m(\u001b[49m\u001b[43m)\u001b[49m\n\u001b[32m    223\u001b[39m manager.start_distributing_work()\n",
      "\u001b[36mFile \u001b[39m\u001b[32m~/Documents/ldpc_optimization/ldpc_optimization/.venv/lib/python3.11/site-packages/sinter/_collection/_collection_manager.py:179\u001b[39m, in \u001b[36mCollectionManager.start_workers\u001b[39m\u001b[34m(self, actually_start_worker_processes)\u001b[39m\n\u001b[32m    178\u001b[39m         \u001b[38;5;28;01mif\u001b[39;00m actually_start_worker_processes:\n\u001b[32m--> \u001b[39m\u001b[32m179\u001b[39m             \u001b[43mworker_state\u001b[49m\u001b[43m.\u001b[49m\u001b[43mprocess\u001b[49m\u001b[43m.\u001b[49m\u001b[43mstart\u001b[49m\u001b[43m(\u001b[49m\u001b[43m)\u001b[49m\n\u001b[32m    180\u001b[39m \u001b[38;5;28;01mfinally\u001b[39;00m:\n",
      "\u001b[36mFile \u001b[39m\u001b[32m/opt/homebrew/Cellar/python@3.11/3.11.5/Frameworks/Python.framework/Versions/3.11/lib/python3.11/multiprocessing/process.py:121\u001b[39m, in \u001b[36mBaseProcess.start\u001b[39m\u001b[34m(self)\u001b[39m\n\u001b[32m    120\u001b[39m _cleanup()\n\u001b[32m--> \u001b[39m\u001b[32m121\u001b[39m \u001b[38;5;28mself\u001b[39m._popen = \u001b[38;5;28;43mself\u001b[39;49m\u001b[43m.\u001b[49m\u001b[43m_Popen\u001b[49m\u001b[43m(\u001b[49m\u001b[38;5;28;43mself\u001b[39;49m\u001b[43m)\u001b[49m\n\u001b[32m    122\u001b[39m \u001b[38;5;28mself\u001b[39m._sentinel = \u001b[38;5;28mself\u001b[39m._popen.sentinel\n",
      "\u001b[36mFile \u001b[39m\u001b[32m/opt/homebrew/Cellar/python@3.11/3.11.5/Frameworks/Python.framework/Versions/3.11/lib/python3.11/multiprocessing/context.py:224\u001b[39m, in \u001b[36mProcess._Popen\u001b[39m\u001b[34m(process_obj)\u001b[39m\n\u001b[32m    222\u001b[39m \u001b[38;5;129m@staticmethod\u001b[39m\n\u001b[32m    223\u001b[39m \u001b[38;5;28;01mdef\u001b[39;00m\u001b[38;5;250m \u001b[39m\u001b[34m_Popen\u001b[39m(process_obj):\n\u001b[32m--> \u001b[39m\u001b[32m224\u001b[39m     \u001b[38;5;28;01mreturn\u001b[39;00m \u001b[43m_default_context\u001b[49m\u001b[43m.\u001b[49m\u001b[43mget_context\u001b[49m\u001b[43m(\u001b[49m\u001b[43m)\u001b[49m\u001b[43m.\u001b[49m\u001b[43mProcess\u001b[49m\u001b[43m.\u001b[49m\u001b[43m_Popen\u001b[49m\u001b[43m(\u001b[49m\u001b[43mprocess_obj\u001b[49m\u001b[43m)\u001b[49m\n",
      "\u001b[36mFile \u001b[39m\u001b[32m/opt/homebrew/Cellar/python@3.11/3.11.5/Frameworks/Python.framework/Versions/3.11/lib/python3.11/multiprocessing/context.py:288\u001b[39m, in \u001b[36mSpawnProcess._Popen\u001b[39m\u001b[34m(process_obj)\u001b[39m\n\u001b[32m    287\u001b[39m \u001b[38;5;28;01mfrom\u001b[39;00m\u001b[38;5;250m \u001b[39m\u001b[34;01m.\u001b[39;00m\u001b[34;01mpopen_spawn_posix\u001b[39;00m\u001b[38;5;250m \u001b[39m\u001b[38;5;28;01mimport\u001b[39;00m Popen\n\u001b[32m--> \u001b[39m\u001b[32m288\u001b[39m \u001b[38;5;28;01mreturn\u001b[39;00m \u001b[43mPopen\u001b[49m\u001b[43m(\u001b[49m\u001b[43mprocess_obj\u001b[49m\u001b[43m)\u001b[49m\n",
      "\u001b[36mFile \u001b[39m\u001b[32m/opt/homebrew/Cellar/python@3.11/3.11.5/Frameworks/Python.framework/Versions/3.11/lib/python3.11/multiprocessing/popen_spawn_posix.py:32\u001b[39m, in \u001b[36mPopen.__init__\u001b[39m\u001b[34m(self, process_obj)\u001b[39m\n\u001b[32m     31\u001b[39m \u001b[38;5;28mself\u001b[39m._fds = []\n\u001b[32m---> \u001b[39m\u001b[32m32\u001b[39m \u001b[38;5;28;43msuper\u001b[39;49m\u001b[43m(\u001b[49m\u001b[43m)\u001b[49m\u001b[43m.\u001b[49m\u001b[34;43m__init__\u001b[39;49m\u001b[43m(\u001b[49m\u001b[43mprocess_obj\u001b[49m\u001b[43m)\u001b[49m\n",
      "\u001b[36mFile \u001b[39m\u001b[32m/opt/homebrew/Cellar/python@3.11/3.11.5/Frameworks/Python.framework/Versions/3.11/lib/python3.11/multiprocessing/popen_fork.py:19\u001b[39m, in \u001b[36mPopen.__init__\u001b[39m\u001b[34m(self, process_obj)\u001b[39m\n\u001b[32m     18\u001b[39m \u001b[38;5;28mself\u001b[39m.finalizer = \u001b[38;5;28;01mNone\u001b[39;00m\n\u001b[32m---> \u001b[39m\u001b[32m19\u001b[39m \u001b[38;5;28;43mself\u001b[39;49m\u001b[43m.\u001b[49m\u001b[43m_launch\u001b[49m\u001b[43m(\u001b[49m\u001b[43mprocess_obj\u001b[49m\u001b[43m)\u001b[49m\n",
      "\u001b[36mFile \u001b[39m\u001b[32m/opt/homebrew/Cellar/python@3.11/3.11.5/Frameworks/Python.framework/Versions/3.11/lib/python3.11/multiprocessing/popen_spawn_posix.py:58\u001b[39m, in \u001b[36mPopen._launch\u001b[39m\u001b[34m(self, process_obj)\u001b[39m\n\u001b[32m     57\u001b[39m \u001b[38;5;28mself\u001b[39m._fds.extend([child_r, child_w])\n\u001b[32m---> \u001b[39m\u001b[32m58\u001b[39m \u001b[38;5;28mself\u001b[39m.pid = \u001b[43mutil\u001b[49m\u001b[43m.\u001b[49m\u001b[43mspawnv_passfds\u001b[49m\u001b[43m(\u001b[49m\u001b[43mspawn\u001b[49m\u001b[43m.\u001b[49m\u001b[43mget_executable\u001b[49m\u001b[43m(\u001b[49m\u001b[43m)\u001b[49m\u001b[43m,\u001b[49m\n\u001b[32m     59\u001b[39m \u001b[43m                               \u001b[49m\u001b[43mcmd\u001b[49m\u001b[43m,\u001b[49m\u001b[43m \u001b[49m\u001b[38;5;28;43mself\u001b[39;49m\u001b[43m.\u001b[49m\u001b[43m_fds\u001b[49m\u001b[43m)\u001b[49m\n\u001b[32m     60\u001b[39m \u001b[38;5;28mself\u001b[39m.sentinel = parent_r\n",
      "\u001b[36mFile \u001b[39m\u001b[32m/opt/homebrew/Cellar/python@3.11/3.11.5/Frameworks/Python.framework/Versions/3.11/lib/python3.11/multiprocessing/util.py:453\u001b[39m, in \u001b[36mspawnv_passfds\u001b[39m\u001b[34m(path, args, passfds)\u001b[39m\n\u001b[32m    452\u001b[39m \u001b[38;5;28;01mtry\u001b[39;00m:\n\u001b[32m--> \u001b[39m\u001b[32m453\u001b[39m     \u001b[38;5;28;01mreturn\u001b[39;00m \u001b[43m_posixsubprocess\u001b[49m\u001b[43m.\u001b[49m\u001b[43mfork_exec\u001b[49m\u001b[43m(\u001b[49m\n\u001b[32m    454\u001b[39m \u001b[43m        \u001b[49m\u001b[43margs\u001b[49m\u001b[43m,\u001b[49m\u001b[43m \u001b[49m\u001b[43m[\u001b[49m\u001b[43mpath\u001b[49m\u001b[43m]\u001b[49m\u001b[43m,\u001b[49m\u001b[43m \u001b[49m\u001b[38;5;28;43;01mTrue\u001b[39;49;00m\u001b[43m,\u001b[49m\u001b[43m \u001b[49m\u001b[43mpassfds\u001b[49m\u001b[43m,\u001b[49m\u001b[43m \u001b[49m\u001b[38;5;28;43;01mNone\u001b[39;49;00m\u001b[43m,\u001b[49m\u001b[43m \u001b[49m\u001b[38;5;28;43;01mNone\u001b[39;49;00m\u001b[43m,\u001b[49m\n\u001b[32m    455\u001b[39m \u001b[43m        \u001b[49m\u001b[43m-\u001b[49m\u001b[32;43m1\u001b[39;49m\u001b[43m,\u001b[49m\u001b[43m \u001b[49m\u001b[43m-\u001b[49m\u001b[32;43m1\u001b[39;49m\u001b[43m,\u001b[49m\u001b[43m \u001b[49m\u001b[43m-\u001b[49m\u001b[32;43m1\u001b[39;49m\u001b[43m,\u001b[49m\u001b[43m \u001b[49m\u001b[43m-\u001b[49m\u001b[32;43m1\u001b[39;49m\u001b[43m,\u001b[49m\u001b[43m \u001b[49m\u001b[43m-\u001b[49m\u001b[32;43m1\u001b[39;49m\u001b[43m,\u001b[49m\u001b[43m \u001b[49m\u001b[43m-\u001b[49m\u001b[32;43m1\u001b[39;49m\u001b[43m,\u001b[49m\u001b[43m \u001b[49m\u001b[43merrpipe_read\u001b[49m\u001b[43m,\u001b[49m\u001b[43m \u001b[49m\u001b[43merrpipe_write\u001b[49m\u001b[43m,\u001b[49m\n\u001b[32m    456\u001b[39m \u001b[43m        \u001b[49m\u001b[38;5;28;43;01mFalse\u001b[39;49;00m\u001b[43m,\u001b[49m\u001b[43m \u001b[49m\u001b[38;5;28;43;01mFalse\u001b[39;49;00m\u001b[43m,\u001b[49m\u001b[43m \u001b[49m\u001b[43m-\u001b[49m\u001b[32;43m1\u001b[39;49m\u001b[43m,\u001b[49m\u001b[43m \u001b[49m\u001b[38;5;28;43;01mNone\u001b[39;49;00m\u001b[43m,\u001b[49m\u001b[43m \u001b[49m\u001b[38;5;28;43;01mNone\u001b[39;49;00m\u001b[43m,\u001b[49m\u001b[43m \u001b[49m\u001b[38;5;28;43;01mNone\u001b[39;49;00m\u001b[43m,\u001b[49m\u001b[43m \u001b[49m\u001b[43m-\u001b[49m\u001b[32;43m1\u001b[39;49m\u001b[43m,\u001b[49m\u001b[43m \u001b[49m\u001b[38;5;28;43;01mNone\u001b[39;49;00m\u001b[43m,\u001b[49m\n\u001b[32m    457\u001b[39m \u001b[43m        \u001b[49m\u001b[43msubprocess\u001b[49m\u001b[43m.\u001b[49m\u001b[43m_USE_VFORK\u001b[49m\u001b[43m)\u001b[49m\n\u001b[32m    458\u001b[39m \u001b[38;5;28;01mfinally\u001b[39;00m:\n",
      "\u001b[31mKeyboardInterrupt\u001b[39m: ",
      "\nDuring handling of the above exception, another exception occurred:\n",
      "\u001b[31mAttributeError\u001b[39m                            Traceback (most recent call last)",
      "\u001b[36mCell\u001b[39m\u001b[36m \u001b[39m\u001b[32mIn[14]\u001b[39m\u001b[32m, line 12\u001b[39m\n\u001b[32m      1\u001b[39m \u001b[38;5;28;01mdef\u001b[39;00m\u001b[38;5;250m \u001b[39m\u001b[34mtest\u001b[39m():\n\u001b[32m      2\u001b[39m     optimizer.run_optimization(\n\u001b[32m      3\u001b[39m         max_bp_iterations=\u001b[32m20\u001b[39m,\n\u001b[32m      4\u001b[39m         osd_order=\u001b[32m10\u001b[39m,\n\u001b[32m   (...)\u001b[39m\u001b[32m      9\u001b[39m         flags=\u001b[38;5;28;01mFalse\u001b[39;00m,\n\u001b[32m     10\u001b[39m     )\n\u001b[32m---> \u001b[39m\u001b[32m12\u001b[39m \u001b[43mget_ipython\u001b[49m\u001b[43m(\u001b[49m\u001b[43m)\u001b[49m\u001b[43m.\u001b[49m\u001b[43mrun_line_magic\u001b[49m\u001b[43m(\u001b[49m\u001b[33;43m'\u001b[39;49m\u001b[33;43mprun\u001b[39;49m\u001b[33;43m'\u001b[39;49m\u001b[43m,\u001b[49m\u001b[43m \u001b[49m\u001b[33;43m'\u001b[39;49m\u001b[33;43mtest()\u001b[39;49m\u001b[33;43m'\u001b[39;49m\u001b[43m)\u001b[49m\n",
      "\u001b[36mFile \u001b[39m\u001b[32m~/Documents/ldpc_optimization/ldpc_optimization/.venv/lib/python3.11/site-packages/IPython/core/interactiveshell.py:2486\u001b[39m, in \u001b[36mInteractiveShell.run_line_magic\u001b[39m\u001b[34m(self, magic_name, line, _stack_depth)\u001b[39m\n\u001b[32m   2484\u001b[39m     kwargs[\u001b[33m'\u001b[39m\u001b[33mlocal_ns\u001b[39m\u001b[33m'\u001b[39m] = \u001b[38;5;28mself\u001b[39m.get_local_scope(stack_depth)\n\u001b[32m   2485\u001b[39m \u001b[38;5;28;01mwith\u001b[39;00m \u001b[38;5;28mself\u001b[39m.builtin_trap:\n\u001b[32m-> \u001b[39m\u001b[32m2486\u001b[39m     result = \u001b[43mfn\u001b[49m\u001b[43m(\u001b[49m\u001b[43m*\u001b[49m\u001b[43margs\u001b[49m\u001b[43m,\u001b[49m\u001b[43m \u001b[49m\u001b[43m*\u001b[49m\u001b[43m*\u001b[49m\u001b[43mkwargs\u001b[49m\u001b[43m)\u001b[49m\n\u001b[32m   2488\u001b[39m \u001b[38;5;66;03m# The code below prevents the output from being displayed\u001b[39;00m\n\u001b[32m   2489\u001b[39m \u001b[38;5;66;03m# when using magics with decorator @output_can_be_silenced\u001b[39;00m\n\u001b[32m   2490\u001b[39m \u001b[38;5;66;03m# when the last Python token in the expression is a ';'.\u001b[39;00m\n\u001b[32m   2491\u001b[39m \u001b[38;5;28;01mif\u001b[39;00m \u001b[38;5;28mgetattr\u001b[39m(fn, magic.MAGIC_OUTPUT_CAN_BE_SILENCED, \u001b[38;5;28;01mFalse\u001b[39;00m):\n",
      "\u001b[36mFile \u001b[39m\u001b[32m~/Documents/ldpc_optimization/ldpc_optimization/.venv/lib/python3.11/site-packages/IPython/core/magics/execution.py:324\u001b[39m, in \u001b[36mExecutionMagics.prun\u001b[39m\u001b[34m(self, parameter_s, cell)\u001b[39m\n\u001b[32m    322\u001b[39m     arg_str += \u001b[33m'\u001b[39m\u001b[38;5;130;01m\\n\u001b[39;00m\u001b[33m'\u001b[39m + cell\n\u001b[32m    323\u001b[39m arg_str = \u001b[38;5;28mself\u001b[39m.shell.transform_cell(arg_str)\n\u001b[32m--> \u001b[39m\u001b[32m324\u001b[39m \u001b[38;5;28;01mreturn\u001b[39;00m \u001b[38;5;28;43mself\u001b[39;49m\u001b[43m.\u001b[49m\u001b[43m_run_with_profiler\u001b[49m\u001b[43m(\u001b[49m\u001b[43marg_str\u001b[49m\u001b[43m,\u001b[49m\u001b[43m \u001b[49m\u001b[43mopts\u001b[49m\u001b[43m,\u001b[49m\u001b[43m \u001b[49m\u001b[38;5;28;43mself\u001b[39;49m\u001b[43m.\u001b[49m\u001b[43mshell\u001b[49m\u001b[43m.\u001b[49m\u001b[43muser_ns\u001b[49m\u001b[43m)\u001b[49m\n",
      "\u001b[36mFile \u001b[39m\u001b[32m~/Documents/ldpc_optimization/ldpc_optimization/.venv/lib/python3.11/site-packages/IPython/core/magics/execution.py:346\u001b[39m, in \u001b[36mExecutionMagics._run_with_profiler\u001b[39m\u001b[34m(self, code, opts, namespace)\u001b[39m\n\u001b[32m    344\u001b[39m prof = profile.Profile()\n\u001b[32m    345\u001b[39m \u001b[38;5;28;01mtry\u001b[39;00m:\n\u001b[32m--> \u001b[39m\u001b[32m346\u001b[39m     prof = \u001b[43mprof\u001b[49m\u001b[43m.\u001b[49m\u001b[43mrunctx\u001b[49m\u001b[43m(\u001b[49m\u001b[43mcode\u001b[49m\u001b[43m,\u001b[49m\u001b[43m \u001b[49m\u001b[43mnamespace\u001b[49m\u001b[43m,\u001b[49m\u001b[43m \u001b[49m\u001b[43mnamespace\u001b[49m\u001b[43m)\u001b[49m\n\u001b[32m    347\u001b[39m     sys_exit = \u001b[33m'\u001b[39m\u001b[33m'\u001b[39m\n\u001b[32m    348\u001b[39m \u001b[38;5;28;01mexcept\u001b[39;00m \u001b[38;5;167;01mSystemExit\u001b[39;00m:\n",
      "\u001b[36mFile \u001b[39m\u001b[32m/opt/homebrew/Cellar/python@3.11/3.11.5/Frameworks/Python.framework/Versions/3.11/lib/python3.11/cProfile.py:101\u001b[39m, in \u001b[36mProfile.runctx\u001b[39m\u001b[34m(self, cmd, globals, locals)\u001b[39m\n\u001b[32m     99\u001b[39m \u001b[38;5;28mself\u001b[39m.enable()\n\u001b[32m    100\u001b[39m \u001b[38;5;28;01mtry\u001b[39;00m:\n\u001b[32m--> \u001b[39m\u001b[32m101\u001b[39m     \u001b[43mexec\u001b[49m\u001b[43m(\u001b[49m\u001b[43mcmd\u001b[49m\u001b[43m,\u001b[49m\u001b[43m \u001b[49m\u001b[38;5;28;43mglobals\u001b[39;49m\u001b[43m,\u001b[49m\u001b[43m \u001b[49m\u001b[38;5;28;43mlocals\u001b[39;49m\u001b[43m)\u001b[49m\n\u001b[32m    102\u001b[39m \u001b[38;5;28;01mfinally\u001b[39;00m:\n\u001b[32m    103\u001b[39m     \u001b[38;5;28mself\u001b[39m.disable()\n",
      "\u001b[36mFile \u001b[39m\u001b[32m<string>:1\u001b[39m\n",
      "\u001b[36mCell\u001b[39m\u001b[36m \u001b[39m\u001b[32mIn[14]\u001b[39m\u001b[32m, line 2\u001b[39m, in \u001b[36mtest\u001b[39m\u001b[34m()\u001b[39m\n\u001b[32m      1\u001b[39m \u001b[38;5;28;01mdef\u001b[39;00m\u001b[38;5;250m \u001b[39m\u001b[34mtest\u001b[39m():\n\u001b[32m----> \u001b[39m\u001b[32m2\u001b[39m     \u001b[43moptimizer\u001b[49m\u001b[43m.\u001b[49m\u001b[43mrun_optimization\u001b[49m\u001b[43m(\u001b[49m\n\u001b[32m      3\u001b[39m \u001b[43m        \u001b[49m\u001b[43mmax_bp_iterations\u001b[49m\u001b[43m=\u001b[49m\u001b[32;43m20\u001b[39;49m\u001b[43m,\u001b[49m\n\u001b[32m      4\u001b[39m \u001b[43m        \u001b[49m\u001b[43mosd_order\u001b[49m\u001b[43m=\u001b[49m\u001b[32;43m10\u001b[39;49m\u001b[43m,\u001b[49m\n\u001b[32m      5\u001b[39m \u001b[43m        \u001b[49m\u001b[43miterations\u001b[49m\u001b[43m=\u001b[49m\u001b[32;43m10\u001b[39;49m\u001b[43m,\u001b[49m\n\u001b[32m      6\u001b[39m \u001b[43m        \u001b[49m\u001b[43mmax_num_shots\u001b[49m\u001b[43m=\u001b[49m\u001b[32;43m1000\u001b[39;49m\u001b[43m,\u001b[49m\n\u001b[32m      7\u001b[39m \u001b[43m        \u001b[49m\u001b[43mmax_num_errors\u001b[49m\u001b[43m=\u001b[49m\u001b[32;43m20\u001b[39;49m\u001b[43m,\u001b[49m\n\u001b[32m      8\u001b[39m \u001b[43m        \u001b[49m\u001b[43mstep_type\u001b[49m\u001b[43m=\u001b[49m\u001b[33;43m'\u001b[39;49m\u001b[33;43msingle_stabilizer\u001b[39;49m\u001b[33;43m'\u001b[39;49m\u001b[43m,\u001b[49m\n\u001b[32m      9\u001b[39m \u001b[43m        \u001b[49m\u001b[43mflags\u001b[49m\u001b[43m=\u001b[49m\u001b[38;5;28;43;01mFalse\u001b[39;49;00m\u001b[43m,\u001b[49m\n\u001b[32m     10\u001b[39m \u001b[43m    \u001b[49m\u001b[43m)\u001b[49m\n",
      "\u001b[36mFile \u001b[39m\u001b[32m~/Documents/ldpc_optimization/ldpc_optimization/shuffle_all_cxs/interactive_cx_list_optimizer.py:236\u001b[39m, in \u001b[36mInteractiveCxListOptimizer.run_optimization\u001b[39m\u001b[34m(self, max_bp_iterations, osd_order, iterations, max_num_shots, max_num_errors, flags, draw, step_type)\u001b[39m\n\u001b[32m    234\u001b[39m \u001b[38;5;28;01mif\u001b[39;00m \u001b[38;5;129;01mnot\u001b[39;00m changed:\n\u001b[32m    235\u001b[39m     \u001b[38;5;28;01mcontinue\u001b[39;00m\n\u001b[32m--> \u001b[39m\u001b[32m236\u001b[39m status = \u001b[38;5;28;43mself\u001b[39;49m\u001b[43m.\u001b[49m\u001b[43mmeasure_logical_error_rate\u001b[49m\u001b[43m(\u001b[49m\u001b[43mcandidate\u001b[49m\u001b[43m,\u001b[49m\n\u001b[32m    237\u001b[39m \u001b[43m                                         \u001b[49m\u001b[43mmax_num_shots\u001b[49m\u001b[43m=\u001b[49m\u001b[43mmax_num_shots\u001b[49m\u001b[43m,\u001b[49m\n\u001b[32m    238\u001b[39m \u001b[43m                                         \u001b[49m\u001b[43mmax_num_errors\u001b[49m\u001b[43m=\u001b[49m\u001b[43mmax_num_errors\u001b[49m\u001b[43m,\u001b[49m\n\u001b[32m    239\u001b[39m \u001b[43m                                         \u001b[49m\u001b[43mflags\u001b[49m\u001b[43m=\u001b[49m\u001b[43mflags\u001b[49m\u001b[43m)\u001b[49m\n\u001b[32m    240\u001b[39m \u001b[38;5;28mself\u001b[39m.optimizer_history.append(status)\n\u001b[32m    241\u001b[39m \u001b[38;5;28;01mif\u001b[39;00m status.objective_value <= \u001b[38;5;28mself\u001b[39m.best_obj:\n",
      "\u001b[36mFile \u001b[39m\u001b[32m~/Documents/ldpc_optimization/ldpc_optimization/shuffle_all_cxs/interactive_cx_list_optimizer.py:94\u001b[39m, in \u001b[36mInteractiveCxListOptimizer.measure_logical_error_rate\u001b[39m\u001b[34m(self, cx_list, max_num_shots, max_num_errors, flags)\u001b[39m\n\u001b[32m     90\u001b[39m \u001b[38;5;28;01melif\u001b[39;00m \u001b[38;5;28mself\u001b[39m.experiment_type == \u001b[33m\"\u001b[39m\u001b[33mBOTH\u001b[39m\u001b[33m\"\u001b[39m:\n\u001b[32m     91\u001b[39m     \u001b[38;5;66;03m# Simulate for X and Z separately.\u001b[39;00m\n\u001b[32m     92\u001b[39m     status_x = \u001b[38;5;28mself\u001b[39m._simulate_circuit(cx_list, \u001b[38;5;28mself\u001b[39m.lx, \u001b[33m\"\u001b[39m\u001b[33mX\u001b[39m\u001b[33m\"\u001b[39m,\n\u001b[32m     93\u001b[39m                                       max_num_shots, max_num_errors, flags)\n\u001b[32m---> \u001b[39m\u001b[32m94\u001b[39m     status_z = \u001b[38;5;28;43mself\u001b[39;49m\u001b[43m.\u001b[49m\u001b[43m_simulate_circuit\u001b[49m\u001b[43m(\u001b[49m\u001b[43mcx_list\u001b[49m\u001b[43m,\u001b[49m\u001b[43m \u001b[49m\u001b[38;5;28;43mself\u001b[39;49m\u001b[43m.\u001b[49m\u001b[43mlz\u001b[49m\u001b[43m,\u001b[49m\u001b[43m \u001b[49m\u001b[33;43m\"\u001b[39;49m\u001b[33;43mZ\u001b[39;49m\u001b[33;43m\"\u001b[39;49m\u001b[43m,\u001b[49m\n\u001b[32m     95\u001b[39m \u001b[43m                                      \u001b[49m\u001b[43mmax_num_shots\u001b[49m\u001b[43m,\u001b[49m\u001b[43m \u001b[49m\u001b[43mmax_num_errors\u001b[49m\u001b[43m,\u001b[49m\u001b[43m \u001b[49m\u001b[43mflags\u001b[49m\u001b[43m)\u001b[49m\n\u001b[32m     96\u001b[39m     E_x = status_x.objective_value\n\u001b[32m     97\u001b[39m     E_z = status_z.objective_value\n",
      "\u001b[36mFile \u001b[39m\u001b[32m~/Documents/ldpc_optimization/ldpc_optimization/shuffle_all_cxs/interactive_cx_list_optimizer.py:172\u001b[39m, in \u001b[36mInteractiveCxListOptimizer._simulate_circuit\u001b[39m\u001b[34m(self, cx_list, logicals, logical_type, max_num_shots, max_num_errors, flags)\u001b[39m\n\u001b[32m    158\u001b[39m _, circ, idle_time = memory_experiment_circuit_from_cx_list(\n\u001b[32m    159\u001b[39m     cx_list=cx_list,\n\u001b[32m    160\u001b[39m     ancilla_type=\u001b[38;5;28mself\u001b[39m.ancilla_type,\n\u001b[32m   (...)\u001b[39m\u001b[32m    169\u001b[39m     flag=\u001b[38;5;28;01mFalse\u001b[39;00m\n\u001b[32m    170\u001b[39m )\n\u001b[32m    171\u001b[39m task = sinter.Task(circuit=circ)\n\u001b[32m--> \u001b[39m\u001b[32m172\u001b[39m stats = \u001b[43msinter\u001b[49m\u001b[43m.\u001b[49m\u001b[43mcollect\u001b[49m\u001b[43m(\u001b[49m\u001b[43mtasks\u001b[49m\u001b[43m=\u001b[49m\u001b[43m[\u001b[49m\u001b[43mtask\u001b[49m\u001b[43m]\u001b[49m\u001b[43m,\u001b[49m\n\u001b[32m    173\u001b[39m \u001b[43m                       \u001b[49m\u001b[43mnum_workers\u001b[49m\u001b[43m=\u001b[49m\u001b[32;43m10\u001b[39;49m\u001b[43m,\u001b[49m\n\u001b[32m    174\u001b[39m \u001b[43m                       \u001b[49m\u001b[43mmax_shots\u001b[49m\u001b[43m=\u001b[49m\u001b[43mmax_num_shots\u001b[49m\u001b[43m,\u001b[49m\n\u001b[32m    175\u001b[39m \u001b[43m                       \u001b[49m\u001b[43mmax_errors\u001b[49m\u001b[43m=\u001b[49m\u001b[43mmax_num_errors\u001b[49m\u001b[43m,\u001b[49m\n\u001b[32m    176\u001b[39m \u001b[43m                       \u001b[49m\u001b[43mdecoders\u001b[49m\u001b[43m=\u001b[49m\u001b[43m[\u001b[49m\u001b[33;43m'\u001b[39;49m\u001b[33;43mbposd\u001b[39;49m\u001b[33;43m'\u001b[39;49m\u001b[43m]\u001b[49m\u001b[43m,\u001b[49m\n\u001b[32m    177\u001b[39m \u001b[43m                       \u001b[49m\u001b[43mcustom_decoders\u001b[49m\u001b[43m=\u001b[49m\u001b[38;5;28;43mself\u001b[39;49m\u001b[43m.\u001b[49m\u001b[43mcustom_decoders\u001b[49m\u001b[43m)\u001b[49m\n\u001b[32m    178\u001b[39m \u001b[38;5;28;01mfor\u001b[39;00m stat \u001b[38;5;129;01min\u001b[39;00m stats:\n\u001b[32m    179\u001b[39m     logical_error_rate = stat.errors / stat.shots\n",
      "\u001b[36mFile \u001b[39m\u001b[32m~/Documents/ldpc_optimization/ldpc_optimization/.venv/lib/python3.11/site-packages/sinter/_collection/_collection.py:404\u001b[39m, in \u001b[36mcollect\u001b[39m\u001b[34m(num_workers, tasks, existing_data_filepaths, save_resume_filepath, progress_callback, max_shots, max_errors, count_observable_error_combos, count_detection_events, decoders, max_batch_seconds, max_batch_size, start_batch_size, print_progress, hint_num_tasks, custom_decoders, custom_error_count_key, allowed_cpu_affinity_ids)\u001b[39m\n\u001b[32m    402\u001b[39m result = ExistingData()\n\u001b[32m    403\u001b[39m result.data = \u001b[38;5;28mdict\u001b[39m(additional_existing_data.data)\n\u001b[32m--> \u001b[39m\u001b[32m404\u001b[39m \u001b[43m\u001b[49m\u001b[38;5;28;43;01mfor\u001b[39;49;00m\u001b[43m \u001b[49m\u001b[43mprogress\u001b[49m\u001b[43m \u001b[49m\u001b[38;5;129;43;01min\u001b[39;49;00m\u001b[43m \u001b[49m\u001b[43miter_collect\u001b[49m\u001b[43m(\u001b[49m\n\u001b[32m    405\u001b[39m \u001b[43m    \u001b[49m\u001b[43mnum_workers\u001b[49m\u001b[43m=\u001b[49m\u001b[43mnum_workers\u001b[49m\u001b[43m,\u001b[49m\n\u001b[32m    406\u001b[39m \u001b[43m    \u001b[49m\u001b[43mmax_shots\u001b[49m\u001b[43m=\u001b[49m\u001b[43mmax_shots\u001b[49m\u001b[43m,\u001b[49m\n\u001b[32m    407\u001b[39m \u001b[43m    \u001b[49m\u001b[43mmax_errors\u001b[49m\u001b[43m=\u001b[49m\u001b[43mmax_errors\u001b[49m\u001b[43m,\u001b[49m\n\u001b[32m    408\u001b[39m \u001b[43m    \u001b[49m\u001b[43mmax_batch_seconds\u001b[49m\u001b[43m=\u001b[49m\u001b[43mmax_batch_seconds\u001b[49m\u001b[43m,\u001b[49m\n\u001b[32m    409\u001b[39m \u001b[43m    \u001b[49m\u001b[43mstart_batch_size\u001b[49m\u001b[43m=\u001b[49m\u001b[43mstart_batch_size\u001b[49m\u001b[43m,\u001b[49m\n\u001b[32m    410\u001b[39m \u001b[43m    \u001b[49m\u001b[43mmax_batch_size\u001b[49m\u001b[43m=\u001b[49m\u001b[43mmax_batch_size\u001b[49m\u001b[43m,\u001b[49m\n\u001b[32m    411\u001b[39m \u001b[43m    \u001b[49m\u001b[43mcount_observable_error_combos\u001b[49m\u001b[43m=\u001b[49m\u001b[43mcount_observable_error_combos\u001b[49m\u001b[43m,\u001b[49m\n\u001b[32m    412\u001b[39m \u001b[43m    \u001b[49m\u001b[43mcount_detection_events\u001b[49m\u001b[43m=\u001b[49m\u001b[43mcount_detection_events\u001b[49m\u001b[43m,\u001b[49m\n\u001b[32m    413\u001b[39m \u001b[43m    \u001b[49m\u001b[43mdecoders\u001b[49m\u001b[43m=\u001b[49m\u001b[43mdecoders\u001b[49m\u001b[43m,\u001b[49m\n\u001b[32m    414\u001b[39m \u001b[43m    \u001b[49m\u001b[43mtasks\u001b[49m\u001b[43m=\u001b[49m\u001b[43mtasks\u001b[49m\u001b[43m,\u001b[49m\n\u001b[32m    415\u001b[39m \u001b[43m    \u001b[49m\u001b[43mhint_num_tasks\u001b[49m\u001b[43m=\u001b[49m\u001b[43mhint_num_tasks\u001b[49m\u001b[43m,\u001b[49m\n\u001b[32m    416\u001b[39m \u001b[43m    \u001b[49m\u001b[43madditional_existing_data\u001b[49m\u001b[43m=\u001b[49m\u001b[43madditional_existing_data\u001b[49m\u001b[43m,\u001b[49m\n\u001b[32m    417\u001b[39m \u001b[43m    \u001b[49m\u001b[43mcustom_decoders\u001b[49m\u001b[43m=\u001b[49m\u001b[43mcustom_decoders\u001b[49m\u001b[43m,\u001b[49m\n\u001b[32m    418\u001b[39m \u001b[43m    \u001b[49m\u001b[43mcustom_error_count_key\u001b[49m\u001b[43m=\u001b[49m\u001b[43mcustom_error_count_key\u001b[49m\u001b[43m,\u001b[49m\n\u001b[32m    419\u001b[39m \u001b[43m    \u001b[49m\u001b[43mallowed_cpu_affinity_ids\u001b[49m\u001b[43m=\u001b[49m\u001b[43mallowed_cpu_affinity_ids\u001b[49m\u001b[43m,\u001b[49m\n\u001b[32m    420\u001b[39m \u001b[43m\u001b[49m\u001b[43m)\u001b[49m\u001b[43m:\u001b[49m\n\u001b[32m    421\u001b[39m \u001b[43m    \u001b[49m\u001b[38;5;28;43;01mfor\u001b[39;49;00m\u001b[43m \u001b[49m\u001b[43mstats\u001b[49m\u001b[43m \u001b[49m\u001b[38;5;129;43;01min\u001b[39;49;00m\u001b[43m \u001b[49m\u001b[43mprogress\u001b[49m\u001b[43m.\u001b[49m\u001b[43mnew_stats\u001b[49m\u001b[43m:\u001b[49m\n\u001b[32m    422\u001b[39m \u001b[43m        \u001b[49m\u001b[43mresult\u001b[49m\u001b[43m.\u001b[49m\u001b[43madd_sample\u001b[49m\u001b[43m(\u001b[49m\u001b[43mstats\u001b[49m\u001b[43m)\u001b[49m\n",
      "\u001b[36mFile \u001b[39m\u001b[32m~/Documents/ldpc_optimization/ldpc_optimization/.venv/lib/python3.11/site-packages/sinter/_collection/_collection.py:198\u001b[39m, in \u001b[36miter_collect\u001b[39m\u001b[34m(num_workers, tasks, hint_num_tasks, additional_existing_data, max_shots, max_errors, decoders, max_batch_seconds, max_batch_size, start_batch_size, count_observable_error_combos, count_detection_events, custom_decoders, custom_error_count_key, allowed_cpu_affinity_ids)\u001b[39m\n\u001b[32m    196\u001b[39m \u001b[38;5;28;01mdef\u001b[39;00m\u001b[38;5;250m \u001b[39m\u001b[34mlog_progress\u001b[39m(e: Optional[TaskStats]):\n\u001b[32m    197\u001b[39m     progress_log.append(e)\n\u001b[32m--> \u001b[39m\u001b[32m198\u001b[39m \u001b[43m\u001b[49m\u001b[38;5;28;43;01mwith\u001b[39;49;00m\u001b[43m \u001b[49m\u001b[43mCollectionManager\u001b[49m\u001b[43m(\u001b[49m\n\u001b[32m    199\u001b[39m \u001b[43m    \u001b[49m\u001b[43mnum_workers\u001b[49m\u001b[43m=\u001b[49m\u001b[43mnum_workers\u001b[49m\u001b[43m,\u001b[49m\n\u001b[32m    200\u001b[39m \u001b[43m    \u001b[49m\u001b[43mtasks\u001b[49m\u001b[43m=\u001b[49m\u001b[43mtasks\u001b[49m\u001b[43m,\u001b[49m\n\u001b[32m    201\u001b[39m \u001b[43m    \u001b[49m\u001b[43mcollection_options\u001b[49m\u001b[43m=\u001b[49m\u001b[43mCollectionOptions\u001b[49m\u001b[43m(\u001b[49m\n\u001b[32m    202\u001b[39m \u001b[43m        \u001b[49m\u001b[43mmax_shots\u001b[49m\u001b[43m=\u001b[49m\u001b[43mmax_shots\u001b[49m\u001b[43m,\u001b[49m\n\u001b[32m    203\u001b[39m \u001b[43m        \u001b[49m\u001b[43mmax_errors\u001b[49m\u001b[43m=\u001b[49m\u001b[43mmax_errors\u001b[49m\u001b[43m,\u001b[49m\n\u001b[32m    204\u001b[39m \u001b[43m        \u001b[49m\u001b[43mmax_batch_seconds\u001b[49m\u001b[43m=\u001b[49m\u001b[43mmax_batch_seconds\u001b[49m\u001b[43m,\u001b[49m\n\u001b[32m    205\u001b[39m \u001b[43m        \u001b[49m\u001b[43mstart_batch_size\u001b[49m\u001b[43m=\u001b[49m\u001b[43mstart_batch_size\u001b[49m\u001b[43m,\u001b[49m\n\u001b[32m    206\u001b[39m \u001b[43m        \u001b[49m\u001b[43mmax_batch_size\u001b[49m\u001b[43m=\u001b[49m\u001b[43mmax_batch_size\u001b[49m\u001b[43m,\u001b[49m\n\u001b[32m    207\u001b[39m \u001b[43m    \u001b[49m\u001b[43m)\u001b[49m\u001b[43m,\u001b[49m\n\u001b[32m    208\u001b[39m \u001b[43m    \u001b[49m\u001b[43mexisting_data\u001b[49m\u001b[43m=\u001b[49m\u001b[43mexisting_data\u001b[49m\u001b[43m,\u001b[49m\n\u001b[32m    209\u001b[39m \u001b[43m    \u001b[49m\u001b[43mcount_observable_error_combos\u001b[49m\u001b[43m=\u001b[49m\u001b[43mcount_observable_error_combos\u001b[49m\u001b[43m,\u001b[49m\n\u001b[32m    210\u001b[39m \u001b[43m    \u001b[49m\u001b[43mcount_detection_events\u001b[49m\u001b[43m=\u001b[49m\u001b[43mcount_detection_events\u001b[49m\u001b[43m,\u001b[49m\n\u001b[32m    211\u001b[39m \u001b[43m    \u001b[49m\u001b[43mcustom_error_count_key\u001b[49m\u001b[43m=\u001b[49m\u001b[43mcustom_error_count_key\u001b[49m\u001b[43m,\u001b[49m\n\u001b[32m    212\u001b[39m \u001b[43m    \u001b[49m\u001b[43mcustom_decoders\u001b[49m\u001b[43m=\u001b[49m\u001b[43mcustom_decoders\u001b[49m\u001b[43m \u001b[49m\u001b[38;5;129;43;01mor\u001b[39;49;00m\u001b[43m \u001b[49m\u001b[43m{\u001b[49m\u001b[43m}\u001b[49m\u001b[43m,\u001b[49m\n\u001b[32m    213\u001b[39m \u001b[43m    \u001b[49m\u001b[43mallowed_cpu_affinity_ids\u001b[49m\u001b[43m=\u001b[49m\u001b[43mallowed_cpu_affinity_ids\u001b[49m\u001b[43m,\u001b[49m\n\u001b[32m    214\u001b[39m \u001b[43m    \u001b[49m\u001b[43mworker_flush_period\u001b[49m\u001b[43m=\u001b[49m\u001b[43mmax_batch_seconds\u001b[49m\u001b[43m \u001b[49m\u001b[38;5;129;43;01mor\u001b[39;49;00m\u001b[43m \u001b[49m\u001b[32;43m120\u001b[39;49m\u001b[43m,\u001b[49m\n\u001b[32m    215\u001b[39m \u001b[43m    \u001b[49m\u001b[43mprogress_callback\u001b[49m\u001b[43m=\u001b[49m\u001b[43mlog_progress\u001b[49m\u001b[43m,\u001b[49m\n\u001b[32m    216\u001b[39m \u001b[43m\u001b[49m\u001b[43m)\u001b[49m\u001b[43m \u001b[49m\u001b[38;5;28;43;01mas\u001b[39;49;00m\u001b[43m \u001b[49m\u001b[43mmanager\u001b[49m\u001b[43m:\u001b[49m\n\u001b[32m    217\u001b[39m \u001b[43m    \u001b[49m\u001b[38;5;28;43;01mtry\u001b[39;49;00m\u001b[43m:\u001b[49m\n\u001b[32m    218\u001b[39m \u001b[43m        \u001b[49m\u001b[38;5;28;43;01myield\u001b[39;49;00m\u001b[43m \u001b[49m\u001b[43mProgress\u001b[49m\u001b[43m(\u001b[49m\n\u001b[32m    219\u001b[39m \u001b[43m            \u001b[49m\u001b[43mnew_stats\u001b[49m\u001b[43m=\u001b[49m\u001b[43m(\u001b[49m\u001b[43m)\u001b[49m\u001b[43m,\u001b[49m\n\u001b[32m    220\u001b[39m \u001b[43m            \u001b[49m\u001b[43mstatus_message\u001b[49m\u001b[43m=\u001b[49m\u001b[33;43mf\u001b[39;49m\u001b[33;43m\"\u001b[39;49m\u001b[33;43mStarting \u001b[39;49m\u001b[38;5;132;43;01m{\u001b[39;49;00m\u001b[43mnum_workers\u001b[49m\u001b[38;5;132;43;01m}\u001b[39;49;00m\u001b[33;43m workers...\u001b[39;49m\u001b[33;43m\"\u001b[39;49m\n\u001b[32m    221\u001b[39m \u001b[43m        \u001b[49m\u001b[43m)\u001b[49m\n",
      "\u001b[36mFile \u001b[39m\u001b[32m~/Documents/ldpc_optimization/ldpc_optimization/.venv/lib/python3.11/site-packages/sinter/_collection/_collection_manager.py:124\u001b[39m, in \u001b[36mCollectionManager.__exit__\u001b[39m\u001b[34m(self, exc_type, exc_val, exc_tb)\u001b[39m\n\u001b[32m    123\u001b[39m \u001b[38;5;28;01mdef\u001b[39;00m\u001b[38;5;250m \u001b[39m\u001b[34m__exit__\u001b[39m(\u001b[38;5;28mself\u001b[39m, exc_type, exc_val, exc_tb):\n\u001b[32m--> \u001b[39m\u001b[32m124\u001b[39m     \u001b[38;5;28;43mself\u001b[39;49m\u001b[43m.\u001b[49m\u001b[43mhard_stop\u001b[49m\u001b[43m(\u001b[49m\u001b[43m)\u001b[49m\n\u001b[32m    125\u001b[39m     \u001b[38;5;28mself\u001b[39m.exit_stack.\u001b[34m__exit__\u001b[39m(exc_type, exc_val, exc_tb)\n\u001b[32m    126\u001b[39m     \u001b[38;5;28mself\u001b[39m.exit_stack = \u001b[38;5;28;01mNone\u001b[39;00m\n",
      "\u001b[36mFile \u001b[39m\u001b[32m~/Documents/ldpc_optimization/ldpc_optimization/.venv/lib/python3.11/site-packages/sinter/_collection/_collection_manager.py:265\u001b[39m, in \u001b[36mCollectionManager.hard_stop\u001b[39m\u001b[34m(self)\u001b[39m\n\u001b[32m    263\u001b[39m \u001b[38;5;28;01mfor\u001b[39;00m w \u001b[38;5;129;01min\u001b[39;00m removed_workers:\n\u001b[32m    264\u001b[39m     \u001b[38;5;28;01mif\u001b[39;00m \u001b[38;5;28misinstance\u001b[39m(w, multiprocessing.Process):\n\u001b[32m--> \u001b[39m\u001b[32m265\u001b[39m         \u001b[43mw\u001b[49m\u001b[43m.\u001b[49m\u001b[43mkill\u001b[49m\u001b[43m(\u001b[49m\u001b[43m)\u001b[49m\n\u001b[32m    266\u001b[39m \u001b[38;5;66;03m# Wait for them to be done.\u001b[39;00m\n\u001b[32m    267\u001b[39m \u001b[38;5;28;01mfor\u001b[39;00m w \u001b[38;5;129;01min\u001b[39;00m removed_workers:\n",
      "\u001b[36mFile \u001b[39m\u001b[32m/opt/homebrew/Cellar/python@3.11/3.11.5/Frameworks/Python.framework/Versions/3.11/lib/python3.11/multiprocessing/process.py:140\u001b[39m, in \u001b[36mBaseProcess.kill\u001b[39m\u001b[34m(self)\u001b[39m\n\u001b[32m    136\u001b[39m \u001b[38;5;250m\u001b[39m\u001b[33;03m'''\u001b[39;00m\n\u001b[32m    137\u001b[39m \u001b[33;03mTerminate process; sends SIGKILL signal or uses TerminateProcess()\u001b[39;00m\n\u001b[32m    138\u001b[39m \u001b[33;03m'''\u001b[39;00m\n\u001b[32m    139\u001b[39m \u001b[38;5;28mself\u001b[39m._check_closed()\n\u001b[32m--> \u001b[39m\u001b[32m140\u001b[39m \u001b[38;5;28;43mself\u001b[39;49m\u001b[43m.\u001b[49m\u001b[43m_popen\u001b[49m\u001b[43m.\u001b[49m\u001b[43mkill\u001b[49m()\n",
      "\u001b[31mAttributeError\u001b[39m: 'NoneType' object has no attribute 'kill'"
     ]
    }
   ],
   "source": [
    "def test():\n",
    "    optimizer.run_optimization(\n",
    "        max_bp_iterations=20,\n",
    "        osd_order=10,\n",
    "        iterations=2,\n",
    "        max_num_shots=100,\n",
    "        max_num_errors=20,\n",
    "        step_type='single_stabilizer',\n",
    "        flags=False,\n",
    "    )\n",
    "\n",
    "%prun test()"
   ]
  },
  {
   "cell_type": "code",
   "execution_count": null,
   "id": "c4ae070f",
   "metadata": {},
   "outputs": [],
   "source": []
  },
  {
   "cell_type": "code",
   "execution_count": null,
   "id": "206547031a841210",
   "metadata": {
    "ExecuteTime": {
     "end_time": "2025-04-17T16:25:31.132114Z",
     "start_time": "2025-04-17T16:25:31.035075Z"
    }
   },
   "outputs": [
    {
     "data": {
      "image/png": "[encoded data removed]",
      "text/plain": [
       "<Figure size 640x480 with 1 Axes>"
      ]
     },
     "metadata": {},
     "output_type": "display_data"
    }
   ],
   "source": [
    "optimizer.plot_history()"
   ]
  },
  {
   "cell_type": "code",
   "execution_count": null,
   "id": "9f404d134db5c750",
   "metadata": {},
   "outputs": [],
   "source": [
    "# use for loop!!!"
   ]
  }
 ],
 "metadata": {
  "kernelspec": {
   "display_name": ".venv",
   "language": "python",
   "name": "python3"
  },
  "language_info": {
   "codemirror_mode": {
    "name": "ipython",
    "version": 3
   },
   "file_extension": ".py",
   "mimetype": "text/x-python",
   "name": "python",
   "nbconvert_exporter": "python",
   "pygments_lexer": "ipython3",
   "version": "3.11.5"
  }
 },
 "nbformat": 4,
 "nbformat_minor": 5
}
